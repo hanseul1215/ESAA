{
  "nbformat": 4,
  "nbformat_minor": 0,
  "metadata": {
    "colab": {
      "name": "0328_ensemble_exercise.ipynb",
      "provenance": [],
      "include_colab_link": true
    },
    "kernelspec": {
      "name": "python3",
      "display_name": "Python 3"
    },
    "language_info": {
      "name": "python"
    }
  },
  "cells": [
    {
      "cell_type": "markdown",
      "metadata": {
        "id": "view-in-github",
        "colab_type": "text"
      },
      "source": [
        "<a href=\"https://colab.research.google.com/github/hanseul1215/ESAA_study/blob/master/0328_ensemble_exercise.ipynb\" target=\"_parent\"><img src=\"https://colab.research.google.com/assets/colab-badge.svg\" alt=\"Open In Colab\"/></a>"
      ]
    },
    {
      "cell_type": "markdown",
      "metadata": {
        "id": "Xqp6uVZxd1nG"
      },
      "source": [
        "1-a. MNIST 데이터를 훈련, 검증, 테스트 데이터로 나눈다."
      ]
    },
    {
      "cell_type": "code",
      "metadata": {
        "id": "nWSuFaW2dxtB"
      },
      "source": [
        "from sklearn.datasets import fetch_openml\n",
        "mnist = fetch_openml('mnist_784',version=1)"
      ],
      "execution_count": null,
      "outputs": []
    },
    {
      "cell_type": "code",
      "metadata": {
        "id": "9LMBXHtpkteY"
      },
      "source": [
        "X,y = mnist['data'], mnist['target']\n",
        "X_train, X_test, y_train, y_test = X[:60000], X[60000:], y[:60000], y[60000:]"
      ],
      "execution_count": null,
      "outputs": []
    },
    {
      "cell_type": "markdown",
      "metadata": {
        "id": "Ujrp1oT-lImI"
      },
      "source": [
        "1-b. 랜덤 포레스트 분류기, 엑스트라 트리 분류기, SVM 분류기, MLP 분류기를 훈련시킨다. (n_estimators=100, random_state=42)"
      ]
    },
    {
      "cell_type": "code",
      "metadata": {
        "id": "Pq4BoCyiktdQ"
      },
      "source": [
        "from sklearn.ensemble import RandomForestClassifier, ExtraTreesClassifier\n",
        "from sklearn.svm import LinearSVC\n",
        "from sklearn.neural_network import MLPClassifier\n",
        "\n",
        "rf_clf = RandomForestClassifier(n_estimators=100, random_state=42)\n",
        "et_clf = ExtraTreesClassifier(n_estimators=100, random_state=42)\n",
        "svm_clf = LinearSVC(random_state=42)\n",
        "mlp_clf = MLPClassifier(random_state=42)"
      ],
      "execution_count": null,
      "outputs": []
    },
    {
      "cell_type": "code",
      "metadata": {
        "id": "qvnGSyiAnpWa",
        "colab": {
          "base_uri": "https://localhost:8080/"
        },
        "outputId": "2e0ac1fe-64f3-417a-ef74-90d1423ef62b"
      },
      "source": [
        "for estimator in [rf_clf, et_clf, svm_clf, mlp_clf]:\n",
        "  estimator.fit(X_train, y_train)"
      ],
      "execution_count": 5,
      "outputs": [
        {
          "output_type": "stream",
          "name": "stderr",
          "text": [
            "/usr/local/lib/python3.7/dist-packages/sklearn/svm/_base.py:1208: ConvergenceWarning: Liblinear failed to converge, increase the number of iterations.\n",
            "  ConvergenceWarning,\n"
          ]
        }
      ]
    },
    {
      "cell_type": "markdown",
      "metadata": {
        "id": "UI2qPZpDn1Dp"
      },
      "source": [
        "1-c. 이들을 직접 투표 분류기를 사용하는 앙상블로 연결한다."
      ]
    },
    {
      "cell_type": "code",
      "metadata": {
        "colab": {
          "base_uri": "https://localhost:8080/"
        },
        "id": "lcTyQdLYoRCn",
        "outputId": "a62edae9-3717-48a6-bea1-bc0afb5f4fe3"
      },
      "source": [
        "from sklearn.ensemble import VotingClassifier\n",
        "\n",
        "voting_clf = VotingClassifier(\n",
        "    estimators=[('rf', rf_clf), ('et', et_clf), ('svm', svm_clf), ('mlp', mlp_clf)]\n",
        ")\n",
        "voting_clf.fit(X_train, y_train)"
      ],
      "execution_count": 7,
      "outputs": [
        {
          "output_type": "stream",
          "name": "stderr",
          "text": [
            "/usr/local/lib/python3.7/dist-packages/sklearn/svm/_base.py:1208: ConvergenceWarning: Liblinear failed to converge, increase the number of iterations.\n",
            "  ConvergenceWarning,\n"
          ]
        },
        {
          "output_type": "execute_result",
          "data": {
            "text/plain": [
              "VotingClassifier(estimators=[('rf', RandomForestClassifier(random_state=42)),\n",
              "                             ('et', ExtraTreesClassifier(random_state=42)),\n",
              "                             ('svm', LinearSVC(random_state=42)),\n",
              "                             ('mlp', MLPClassifier(random_state=42))])"
            ]
          },
          "metadata": {},
          "execution_count": 7
        }
      ]
    },
    {
      "cell_type": "code",
      "source": [
        "from sklearn.metrics import accuracy_score\n",
        "pred=[]\n",
        "for estimator in [rf_clf, et_clf, svm_clf, mlp_clf]:\n",
        "  pred.append(estimator.predict)"
      ],
      "metadata": {
        "id": "2boLTzu3ReaH"
      },
      "execution_count": 8,
      "outputs": []
    },
    {
      "cell_type": "markdown",
      "metadata": {
        "id": "5XaWFdAJ2CZ2"
      },
      "source": [
        "1-d. 다른 분류기보다 성능이 많이 떨어졌던 선형 SVM 제거 후 VotingClassifier를 다시 평가"
      ]
    },
    {
      "cell_type": "code",
      "metadata": {
        "id": "TU_J0j4O2Kw-",
        "colab": {
          "base_uri": "https://localhost:8080/"
        },
        "outputId": "5189a751-52a7-4d89-a425-10cd7fc6be01"
      },
      "source": [
        "voting_clf = VotingClassifier(\n",
        "    estimators=[('rf', rf_clf), ('et', et_clf), ('mlp', mlp_clf)]\n",
        ")\n",
        "voting_clf.fit(X_train, y_train)"
      ],
      "execution_count": 9,
      "outputs": [
        {
          "output_type": "execute_result",
          "data": {
            "text/plain": [
              "VotingClassifier(estimators=[('rf', RandomForestClassifier(random_state=42)),\n",
              "                             ('et', ExtraTreesClassifier(random_state=42)),\n",
              "                             ('mlp', MLPClassifier(random_state=42))])"
            ]
          },
          "metadata": {},
          "execution_count": 9
        }
      ]
    },
    {
      "cell_type": "code",
      "metadata": {
        "colab": {
          "base_uri": "https://localhost:8080/"
        },
        "id": "Ima-U47a2SGA",
        "outputId": "0cc8a249-ca25-42b2-8fc5-3b866d56aa0d"
      },
      "source": [
        "voting_clf.score(X_test, y_test)"
      ],
      "execution_count": 10,
      "outputs": [
        {
          "output_type": "execute_result",
          "data": {
            "text/plain": [
              "0.9741"
            ]
          },
          "metadata": {},
          "execution_count": 10
        }
      ]
    },
    {
      "cell_type": "markdown",
      "metadata": {
        "id": "8qYEEuAvsGho"
      },
      "source": [
        "1-d. 간접 투표 분류기를 사용하여 앙상블로 연결."
      ]
    },
    {
      "cell_type": "code",
      "metadata": {
        "colab": {
          "base_uri": "https://localhost:8080/"
        },
        "id": "T74JWjKBoxQf",
        "outputId": "cb37729c-492c-4b33-bc87-34fc6a2c4ed3"
      },
      "source": [
        "voting_clf.voting = \"soft\"\n",
        "voting_clf.score(X_test, y_test\n",
        "                 )"
      ],
      "execution_count": 11,
      "outputs": [
        {
          "output_type": "execute_result",
          "data": {
            "text/plain": [
              "0.9722"
            ]
          },
          "metadata": {},
          "execution_count": 11
        }
      ]
    }
  ]
}