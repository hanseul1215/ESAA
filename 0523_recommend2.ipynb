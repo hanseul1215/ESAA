{
  "nbformat": 4,
  "nbformat_minor": 0,
  "metadata": {
    "colab": {
      "name": "0523_recommend2.ipynb",
      "provenance": [],
      "mount_file_id": "1FXWRCveAY2_Mklckbb66dXFjQhswJ2GQ",
      "authorship_tag": "ABX9TyPGa6cHuGlb2n8TuU++L3y7",
      "include_colab_link": true
    },
    "kernelspec": {
      "name": "python3",
      "display_name": "Python 3"
    },
    "language_info": {
      "name": "python"
    }
  },
  "cells": [
    {
      "cell_type": "markdown",
      "metadata": {
        "id": "view-in-github",
        "colab_type": "text"
      },
      "source": [
        "<a href=\"https://colab.research.google.com/github/hanseul1215/ESAA_study/blob/master/0523_recommend2.ipynb\" target=\"_parent\"><img src=\"https://colab.research.google.com/assets/colab-badge.svg\" alt=\"Open In Colab\"/></a>"
      ]
    },
    {
      "cell_type": "markdown",
      "source": [
        "#파이썬 추천 시스템 패키지 - Surprise\n",
        "\n",
        "\n",
        "\n"
      ],
      "metadata": {
        "id": "cYH6rnyht6Ib"
      }
    },
    {
      "cell_type": "code",
      "execution_count": 1,
      "metadata": {
        "colab": {
          "base_uri": "https://localhost:8080/"
        },
        "id": "YytHNdhdsYYQ",
        "outputId": "2f9af35f-8232-4406-b4a0-d9de767422aa"
      },
      "outputs": [
        {
          "output_type": "stream",
          "name": "stdout",
          "text": [
            "Collecting scikit-surprise\n",
            "  Downloading scikit-surprise-1.1.1.tar.gz (11.8 MB)\n",
            "\u001b[K     |████████████████████████████████| 11.8 MB 4.4 MB/s \n",
            "\u001b[?25hRequirement already satisfied: joblib>=0.11 in /usr/local/lib/python3.7/dist-packages (from scikit-surprise) (1.1.0)\n",
            "Requirement already satisfied: numpy>=1.11.2 in /usr/local/lib/python3.7/dist-packages (from scikit-surprise) (1.21.6)\n",
            "Requirement already satisfied: scipy>=1.0.0 in /usr/local/lib/python3.7/dist-packages (from scikit-surprise) (1.4.1)\n",
            "Requirement already satisfied: six>=1.10.0 in /usr/local/lib/python3.7/dist-packages (from scikit-surprise) (1.15.0)\n",
            "Building wheels for collected packages: scikit-surprise\n",
            "  Building wheel for scikit-surprise (setup.py) ... \u001b[?25l\u001b[?25hdone\n",
            "  Created wheel for scikit-surprise: filename=scikit_surprise-1.1.1-cp37-cp37m-linux_x86_64.whl size=1633732 sha256=a79c785862aa3d4fc344dca470dea860ac2da61e022cdfb49f5057b143e550d2\n",
            "  Stored in directory: /root/.cache/pip/wheels/76/44/74/b498c42be47b2406bd27994e16c5188e337c657025ab400c1c\n",
            "Successfully built scikit-surprise\n",
            "Installing collected packages: scikit-surprise\n",
            "Successfully installed scikit-surprise-1.1.1\n"
          ]
        }
      ],
      "source": [
        "!pip install scikit-surprise"
      ]
    },
    {
      "cell_type": "markdown",
      "source": [
        "## Surprise 장점\n",
        "- 다양한 추천 알고리즘(ex. 사용자 또는 아이템 기반 최근접 이웃 협업 필터링, SVD 등등)을 쉽게 적용해 추천 시스템을 구축할 수 있음\n",
        "- 사이킷런의 핵심 API와 유사한 API명으로 작성됨\n",
        "\n",
        "## Surprise를 이용한 추천 시스템 구축\n",
        "- 사용자 아이디, 아이템 아이디, 평점 데이터가 row 레벨 형태로 되어 있는 포맷의 데이터만 처리함"
      ],
      "metadata": {
        "id": "vr_Z-AYrtzcM"
      }
    },
    {
      "cell_type": "code",
      "source": [
        "from surprise import SVD\n",
        "from surprise import Dataset \n",
        "from surprise import accuracy\n",
        "from surprise.model_selection import train_test_split"
      ],
      "metadata": {
        "id": "7oO1fedSvwXn"
      },
      "execution_count": 2,
      "outputs": []
    },
    {
      "cell_type": "code",
      "source": [
        "from numpy.random.mtrand import random_integers\n",
        "data = Dataset.load_builtin('ml-100k', prompt=False) # prompt=False\n",
        "trainset, testset = train_test_split(data, test_size=.25, random_state=0)"
      ],
      "metadata": {
        "colab": {
          "base_uri": "https://localhost:8080/"
        },
        "id": "Hi0cMeUJw2Af",
        "outputId": "cdaa3cd6-9c3b-4f13-89d2-f1f95e0d53c9"
      },
      "execution_count": 5,
      "outputs": [
        {
          "output_type": "stream",
          "name": "stdout",
          "text": [
            "Trying to download dataset from http://files.grouplens.org/datasets/movielens/ml-100k.zip...\n",
            "Done! Dataset ml-100k has been saved to /root/.surprise_data/ml-100k\n"
          ]
        }
      ]
    },
    {
      "cell_type": "code",
      "source": [
        "algo = SVD()\n",
        "algo.fit(trainset)"
      ],
      "metadata": {
        "colab": {
          "base_uri": "https://localhost:8080/"
        },
        "id": "QyXgX7ssxHt5",
        "outputId": "e1f8a8d6-3931-485a-91f8-333908fe6c2b"
      },
      "execution_count": 6,
      "outputs": [
        {
          "output_type": "execute_result",
          "data": {
            "text/plain": [
              "<surprise.prediction_algorithms.matrix_factorization.SVD at 0x7f9ddda79210>"
            ]
          },
          "metadata": {},
          "execution_count": 6
        }
      ]
    },
    {
      "cell_type": "code",
      "source": [
        "predictions = algo.test(testset)\n",
        "print('prediction type:', type(predictions), ' size:', len(predictions))\n",
        "print('prediction 결과의 최초 5개 추출')\n",
        "predictions[:5]"
      ],
      "metadata": {
        "colab": {
          "base_uri": "https://localhost:8080/"
        },
        "id": "gPFPagIX0EAD",
        "outputId": "93a9d5b0-9f20-4217-f0d5-9f5728eee85c"
      },
      "execution_count": 7,
      "outputs": [
        {
          "output_type": "stream",
          "name": "stdout",
          "text": [
            "prediction type: <class 'list'>  size: 25000\n",
            "prediction 결과의 최초 5개 추출\n"
          ]
        },
        {
          "output_type": "execute_result",
          "data": {
            "text/plain": [
              "[Prediction(uid='120', iid='282', r_ui=4.0, est=3.72010193867742, details={'was_impossible': False}),\n",
              " Prediction(uid='882', iid='291', r_ui=4.0, est=3.6775986490847434, details={'was_impossible': False}),\n",
              " Prediction(uid='535', iid='507', r_ui=5.0, est=4.023855573075837, details={'was_impossible': False}),\n",
              " Prediction(uid='697', iid='244', r_ui=5.0, est=3.3353374714759934, details={'was_impossible': False}),\n",
              " Prediction(uid='751', iid='385', r_ui=4.0, est=3.436501889524071, details={'was_impossible': False})]"
            ]
          },
          "metadata": {},
          "execution_count": 7
        }
      ]
    },
    {
      "cell_type": "markdown",
      "source": [
        "was_impossible = True 면 예측값을 생성할 수 없는 데이터라는 의미"
      ],
      "metadata": {
        "id": "2Bb2p-Zr0dVm"
      }
    },
    {
      "cell_type": "code",
      "source": [
        "[(pred.uid, pred.iid, pred.est) for pred in predictions[:3]]"
      ],
      "metadata": {
        "colab": {
          "base_uri": "https://localhost:8080/"
        },
        "id": "Usm-K3Xq0QYQ",
        "outputId": "316f16b0-0ae5-45bf-95b0-5687c86acd2e"
      },
      "execution_count": 8,
      "outputs": [
        {
          "output_type": "execute_result",
          "data": {
            "text/plain": [
              "[('120', '282', 3.72010193867742),\n",
              " ('882', '291', 3.6775986490847434),\n",
              " ('535', '507', 4.023855573075837)]"
            ]
          },
          "metadata": {},
          "execution_count": 8
        }
      ]
    },
    {
      "cell_type": "code",
      "source": [
        "#사용자 아이디, 아이템 아이디는 문자열로 입력\n",
        "uid = str(196)\n",
        "iid = str(302)\n",
        "pred = algo.predict(uid, iid)\n",
        "print(pred)"
      ],
      "metadata": {
        "colab": {
          "base_uri": "https://localhost:8080/"
        },
        "id": "dSGFyR-O0ohj",
        "outputId": "8f66913f-b5d3-4e9d-b4a3-8df831e29557"
      },
      "execution_count": 9,
      "outputs": [
        {
          "output_type": "stream",
          "name": "stdout",
          "text": [
            "user: 196        item: 302        r_ui = None   est = 3.93   {'was_impossible': False}\n"
          ]
        }
      ]
    },
    {
      "cell_type": "code",
      "source": [
        "accuracy.rmse(predictions)"
      ],
      "metadata": {
        "colab": {
          "base_uri": "https://localhost:8080/"
        },
        "id": "Lhi8JmTX0ymO",
        "outputId": "3fad8e45-95b9-48bf-f310-52cf2ea6b3e7"
      },
      "execution_count": 10,
      "outputs": [
        {
          "output_type": "stream",
          "name": "stdout",
          "text": [
            "RMSE: 0.9481\n"
          ]
        },
        {
          "output_type": "execute_result",
          "data": {
            "text/plain": [
              "0.9480532454865005"
            ]
          },
          "metadata": {},
          "execution_count": 10
        }
      ]
    },
    {
      "cell_type": "markdown",
      "source": [
        "# Surprise 주요 모듈 소개\n",
        "- Dataset.load_builtin : 무비렌즈 데이터 로딩\n",
        "- Dataset.load_from_file : OS파일에서 데이터 로딩\n",
        "- Dataset.load_from_df : 판다스 df에서 데이터를 로딩"
      ],
      "metadata": {
        "id": "OAGV3h9s02dP"
      }
    },
    {
      "cell_type": "code",
      "source": [
        "# OS파일 데이터를 Surprise 데이터 세트로 로딩\n",
        "import pandas as pd\n",
        "ratings = pd.read_csv('/content/drive/MyDrive/Colab Notebooks/recommend/ratings.csv')\n",
        "#ratings_noh.csv 파일로 언로드 시 인덱스와 헤더를 모두 제거한 새로운 파일 생성\n",
        "ratings.to_csv('/content/drive/MyDrive/Colab Notebooks/recommend/ratings_noh.csv', index=False, header=False)"
      ],
      "metadata": {
        "id": "3elX9Baw01p_"
      },
      "execution_count": 12,
      "outputs": []
    },
    {
      "cell_type": "code",
      "source": [
        "from surprise import Reader\n",
        "reader = Reader(line_format='user item rating timestamp', sep=',', rating_scale=(0.5, 5))\n",
        "data=Dataset.load_from_file('/content/drive/MyDrive/Colab Notebooks/recommend/ratings_noh.csv',reader=reader)"
      ],
      "metadata": {
        "id": "I1JRlYpo1-OK"
      },
      "execution_count": 13,
      "outputs": []
    },
    {
      "cell_type": "markdown",
      "source": [
        "Reader 클래스 파라미터  \n",
        "- line_format(칼럼을 순서대로 나열)  \n",
        "- sep (칼럼을 분리하는 분리자)\n",
        "- rating_scale (평점 값의 최소~최대 평점을 설정)"
      ],
      "metadata": {
        "id": "2bA6ATXq2wNi"
      }
    },
    {
      "cell_type": "code",
      "source": [
        "trainset, testset = train_test_split(data, test_size = .25, random_state=0)\n",
        "algo = SVD(n_factors = 50, random_state=0)\n",
        "\n",
        "algo.fit(trainset)\n",
        "predictions = algo.test(testset)\n",
        "accuracy.rmse(predictions)"
      ],
      "metadata": {
        "colab": {
          "base_uri": "https://localhost:8080/"
        },
        "id": "E99-ZeLv2nB-",
        "outputId": "76127b9e-8426-4bf9-bf5f-4bb5c393ed41"
      },
      "execution_count": 14,
      "outputs": [
        {
          "output_type": "stream",
          "name": "stdout",
          "text": [
            "RMSE: 0.8908\n"
          ]
        },
        {
          "output_type": "execute_result",
          "data": {
            "text/plain": [
              "0.8907754769926038"
            ]
          },
          "metadata": {},
          "execution_count": 14
        }
      ]
    },
    {
      "cell_type": "code",
      "source": [
        "# 판다스 df 데이터를 Surprise 데이터 세트로 로딩\n",
        "ratings = pd.read_csv('/content/drive/MyDrive/Colab Notebooks/recommend/ratings.csv')\n",
        "reader = Reader(rating_scale = (0.5, 5.0))\n",
        "\n",
        "data = Dataset.load_from_df(ratings[['userId', 'movieId', 'rating']], reader)\n",
        "trainset, testset = train_test_split(data, test_size = .25, random_state=0)\n",
        "\n",
        "algo = SVD(n_factors=50, random_state=0)\n",
        "algo.fit(trainset)\n",
        "predidctions = algo.test(testset)\n",
        "accuracy.rmse(predictions)"
      ],
      "metadata": {
        "colab": {
          "base_uri": "https://localhost:8080/"
        },
        "id": "sAR77-e83KbV",
        "outputId": "f59ddf6d-fea9-495f-fb1d-516f0a1c83ef"
      },
      "execution_count": 15,
      "outputs": [
        {
          "output_type": "stream",
          "name": "stdout",
          "text": [
            "RMSE: 0.8908\n"
          ]
        },
        {
          "output_type": "execute_result",
          "data": {
            "text/plain": [
              "0.8907754769926038"
            ]
          },
          "metadata": {},
          "execution_count": 15
        }
      ]
    },
    {
      "cell_type": "markdown",
      "source": [
        "## Surprise 추천 알고리즘 클래스\n",
        "\n",
        "- SVD : 행렬 분해를 통한 잠재 요인 협업 필터링을 위한 SVD 알고리즘\n",
        "- KNNBasic : 최근접 이웃 협업 필터링을 위한 KNN 알고리즘\n",
        "- BaselineOnly : 사용자 Bias와 아이템 Bias를 감안한 SGD 베이스라인 알고리즘\n"
      ],
      "metadata": {
        "id": "RAzKKnxQ3jfN"
      }
    },
    {
      "cell_type": "markdown",
      "source": [
        "## 베이스라인 평점\n",
        "- 개인의 성향을 반영해 아이템 평가에 편향성 요소를 반영하여 평점을 부과하는 것\n",
        "- 전체 평균 평점 + 사용자 편향 점수 + 아이템 편향 점수 \n",
        "> 사용자 편향 점수: 사용자별 아이템 평점 평균 값 - 전체 평균 평점  \n",
        "> 아이템 편향 점수: 아이템별 평점 평균 값 - 전체 평균 평점"
      ],
      "metadata": {
        "id": "_kikhMHB4HNY"
      }
    },
    {
      "cell_type": "code",
      "source": [
        "# 교차 검증과 하이퍼 파라미터 튜닝\n",
        "from surprise.model_selection import cross_validate\n",
        "\n",
        "ratings = pd.read_csv('/content/drive/MyDrive/Colab Notebooks/recommend/ratings.csv')\n",
        "reader = Reader(rating_scale=(0.5, 5.0))\n",
        "data = Dataset.load_from_df(ratings[['userId', 'movieId', 'rating']], reader)\n",
        "\n",
        "algo = SVD(random_state=0)\n",
        "cross_validate(algo, data, measures = ['RMSE', 'MAE'], cv = 5, verbose=True)"
      ],
      "metadata": {
        "colab": {
          "base_uri": "https://localhost:8080/"
        },
        "id": "OKhDHrRa3bj1",
        "outputId": "4641d616-cc81-4b3f-f2a7-2e9d91ba223c"
      },
      "execution_count": 16,
      "outputs": [
        {
          "output_type": "stream",
          "name": "stdout",
          "text": [
            "Evaluating RMSE, MAE of algorithm SVD on 5 split(s).\n",
            "\n",
            "                  Fold 1  Fold 2  Fold 3  Fold 4  Fold 5  Mean    Std     \n",
            "RMSE (testset)    0.8859  0.8911  0.9013  0.9051  0.9008  0.8968  0.0072  \n",
            "MAE (testset)     0.6849  0.6869  0.6948  0.6951  0.6941  0.6911  0.0043  \n",
            "Fit time          5.59    5.14    6.34    5.95    5.16    5.64    0.46    \n",
            "Test time         0.29    0.14    0.15    0.14    0.14    0.17    0.06    \n"
          ]
        },
        {
          "output_type": "execute_result",
          "data": {
            "text/plain": [
              "{'fit_time': (5.588737726211548,\n",
              "  5.141812801361084,\n",
              "  6.3373448848724365,\n",
              "  5.950109481811523,\n",
              "  5.158848762512207),\n",
              " 'test_mae': array([0.68490764, 0.68690538, 0.69475719, 0.69508774, 0.69408505]),\n",
              " 'test_rmse': array([0.88592582, 0.89105978, 0.90134116, 0.90508219, 0.90077319]),\n",
              " 'test_time': (0.2890286445617676,\n",
              "  0.14028573036193848,\n",
              "  0.14560461044311523,\n",
              "  0.14409470558166504,\n",
              "  0.14396214485168457)}"
            ]
          },
          "metadata": {},
          "execution_count": 16
        }
      ]
    },
    {
      "cell_type": "code",
      "source": [
        "from surprise.model_selection import GridSearchCV\n",
        "\n",
        "param_grid = {'n_epochs': [20, 40, 60], 'n_factors': [50, 100, 200]}\n",
        "\n",
        "gs = GridSearchCV(SVD, param_grid, measures = ['rmse', 'mae'], cv=3)\n",
        "gs.fit(data)\n",
        "\n",
        "print(gs.best_score['rmse'])\n",
        "print(gs.best_params['rmse'])"
      ],
      "metadata": {
        "colab": {
          "base_uri": "https://localhost:8080/"
        },
        "id": "b6i6Iz8P4-Xq",
        "outputId": "60712fc5-4450-49a8-f9c0-ae88a3a32745"
      },
      "execution_count": 17,
      "outputs": [
        {
          "output_type": "stream",
          "name": "stdout",
          "text": [
            "0.8990889478399516\n",
            "{'n_epochs': 20, 'n_factors': 50}\n"
          ]
        }
      ]
    },
    {
      "cell_type": "code",
      "source": [
        "# Surprise를 이용한 개인화 영화 추천 시스템 구축\n",
        "## rating.csv 데이터를 학습과 테스트 데이터로 분리하지 않고 전체를 학습 데이터로 사용\n",
        "from surprise.dataset import DatasetAutoFolds\n",
        "\n",
        "reader = Reader(line_format='user item rating timestamp', sep=',', rating_scale=(0.5, 5))\n",
        "data_folds = DatasetAutoFolds(ratings_file = '/content/drive/MyDrive/Colab Notebooks/recommend/ratings_noh.csv', reader = reader)\n",
        "\n",
        "trainset = data_folds.build_full_trainset()"
      ],
      "metadata": {
        "id": "5sKf5hCC5GUa"
      },
      "execution_count": 18,
      "outputs": []
    },
    {
      "cell_type": "code",
      "source": [
        "algo = SVD(n_epochs = 20, n_factors = 50, random_state = 0)\n",
        "algo.fit(trainset)"
      ],
      "metadata": {
        "colab": {
          "base_uri": "https://localhost:8080/"
        },
        "id": "UWpENmzn5dou",
        "outputId": "03274e2b-ea31-4af8-f954-30bb40ef5965"
      },
      "execution_count": 19,
      "outputs": [
        {
          "output_type": "execute_result",
          "data": {
            "text/plain": [
              "<surprise.prediction_algorithms.matrix_factorization.SVD at 0x7f9dd60cdd90>"
            ]
          },
          "metadata": {},
          "execution_count": 19
        }
      ]
    },
    {
      "cell_type": "code",
      "source": [
        "movies = pd.read_csv('/content/drive/MyDrive/Colab Notebooks/recommend/movies.csv')\n",
        "movieIds = ratings[ratings['userId']==9]['movieId']\n",
        "\n",
        "if movieIds[movieIds==42].count() == 0:\n",
        "    print('사용자 아이디 9는 영화 아이디 42의 평점 없음')\n",
        "\n",
        "print(movies[movies['movieId']==42])"
      ],
      "metadata": {
        "colab": {
          "base_uri": "https://localhost:8080/"
        },
        "id": "w9ZmYWWs5mkX",
        "outputId": "c945f910-0d87-4150-b8d7-5b81d53a6bdd"
      },
      "execution_count": 26,
      "outputs": [
        {
          "output_type": "stream",
          "name": "stdout",
          "text": [
            "사용자 아이디 9는 영화 아이디 42의 평점 없음\n",
            "    movieId                   title              genres\n",
            "41       42  Dead Presidents (1995)  Action|Crime|Drama\n"
          ]
        }
      ]
    },
    {
      "cell_type": "code",
      "source": [
        "uid = str(9)\n",
        "iid = str(42)\n",
        "\n",
        "pred = algo.predict(uid, iid, verbose=True)"
      ],
      "metadata": {
        "colab": {
          "base_uri": "https://localhost:8080/"
        },
        "id": "CuC43dHu6N0x",
        "outputId": "455f74bb-515f-40ae-e92b-01e444582d4d"
      },
      "execution_count": 27,
      "outputs": [
        {
          "output_type": "stream",
          "name": "stdout",
          "text": [
            "user: 9          item: 42         r_ui = None   est = 2.64   {'was_impossible': False}\n"
          ]
        }
      ]
    },
    {
      "cell_type": "code",
      "source": [
        "def get_unseen_surprise(ratings, movies, userId):\n",
        "    seen_movies = ratings[ratings['userId']==userId]['movieId'].tolist()\n",
        "    total_movies = movies['movieId'].tolist()\n",
        "\n",
        "    #모든 영화의 movieId 중 이미 평점을 매긴 영화의 movieId를 제외한 후 리스트로 생성\n",
        "    unseen_movies = [movie for movie in total_movies if movie not in seen_movies]\n",
        "    print('평점 매긴 영화 수:', len(seen_movies), '추천 대상 영화 수:', len(unseen_movies), '전체 영화 수:', len(total_movies))\n",
        "    \n",
        "    return unseen_movies"
      ],
      "metadata": {
        "id": "3hkCLxAA6Q71"
      },
      "execution_count": 28,
      "outputs": []
    },
    {
      "cell_type": "code",
      "source": [
        "unseen_movies = get_unseen_surprise(ratings, movies, 9)"
      ],
      "metadata": {
        "colab": {
          "base_uri": "https://localhost:8080/"
        },
        "id": "FQ32A2I96YjZ",
        "outputId": "3b01eb77-fa76-4f72-ea4c-06fc1b0ce22d"
      },
      "execution_count": 29,
      "outputs": [
        {
          "output_type": "stream",
          "name": "stdout",
          "text": [
            "평점 매긴 영화 수: 45 추천 대상 영화 수: 62378 전체 영화 수: 62423\n"
          ]
        }
      ]
    },
    {
      "cell_type": "code",
      "source": [
        "def recomm_movie_by_surprise(algo, userId, unseen_movies, top_n=10):\n",
        "    #알고리즘 객체의 predict() 메서드를 평점이 없는 영화에 반복 수행 수 결과를 list로 저장\n",
        "    predictions = [algo.predict(str(userId), str(movieId)) for movieId in unseen_movies]\n",
        "\n",
        "    #predictions list 객체는 surprise의 Predictions 객체를 원소로 가짐\n",
        "    #이를 est 값으로 정렬하기 위해 아래의 sortkey_est 함수 정의\n",
        "    #sortkey_est 함수는 list 객체의 sort() 함수의 키 값을 사용되어 정렬 수행\n",
        "    def sortkey_est(pred):\n",
        "        return pred.est\n",
        "\n",
        "    #sortkey_esr() 반환값의 내림차순으로 정렬 수행 후 top_n개의 최상위 값 추출\n",
        "    predictions.sort(key=sortkey_est, reverse=True)\n",
        "    top_predictions=predictions[:top_n]\n",
        "\n",
        "    #top_n으로 추출된 영화의 정보 추출. 영화 아이디, 추천 예상 평점, 제목 추출\n",
        "    top_movie_ids = [int(pred.iid) for pred in top_predictions]\n",
        "    top_movie_rating = [pred.est for pred in top_predictions]\n",
        "    top_movie_titles = movies[movies.movieId.isin(top_movie_ids)]['title']\n",
        "\n",
        "    top_movie_preds = [(id, title, rating) for id, title, rating in zip(top_movie_ids, top_movie_titles, top_movie_rating)]\n",
        "\n",
        "    return top_movie_preds"
      ],
      "metadata": {
        "id": "SOzGubKK6ZjQ"
      },
      "execution_count": 30,
      "outputs": []
    },
    {
      "cell_type": "code",
      "source": [
        "unseen_movies = get_unseen_surprise(ratings, movies, 9)\n",
        "top_movie_preds = recomm_movie_by_surprise(algo, 9, unseen_movies, top_n=10)"
      ],
      "metadata": {
        "colab": {
          "base_uri": "https://localhost:8080/"
        },
        "id": "fulFZ8e16Zal",
        "outputId": "4ec33217-5d2a-401e-c050-575f612bf531"
      },
      "execution_count": 31,
      "outputs": [
        {
          "output_type": "stream",
          "name": "stdout",
          "text": [
            "평점 매긴 영화 수: 45 추천 대상 영화 수: 62378 전체 영화 수: 62423\n"
          ]
        }
      ]
    },
    {
      "cell_type": "code",
      "source": [
        "print('#### Top-10 추천 영화 리스트 ####')\n",
        "for top_movie in top_movie_preds:\n",
        "    print(top_movie[1], ':', round(top_movie[2], 3))"
      ],
      "metadata": {
        "colab": {
          "base_uri": "https://localhost:8080/"
        },
        "id": "uVwT9Hd16ZRR",
        "outputId": "1bc1be28-23ac-4556-b8fc-f05796971661"
      },
      "execution_count": 32,
      "outputs": [
        {
          "output_type": "stream",
          "name": "stdout",
          "text": [
            "#### Top-10 추천 영화 리스트 ####\n",
            "Usual Suspects, The (1995) : 4.401\n",
            "Godfather, The (1972) : 4.371\n",
            "It Happened One Night (1934) : 4.364\n",
            "Casablanca (1942) : 4.336\n",
            "Maltese Falcon, The (1941) : 4.321\n",
            "All About Eve (1950) : 4.309\n",
            "It's a Wonderful Life (1946) : 4.304\n",
            "African Queen, The (1951) : 4.29\n",
            "Cinema Paradiso (Nuovo cinema Paradiso) (1989) : 4.284\n",
            "Modern Times (1936) : 4.272\n"
          ]
        }
      ]
    }
  ]
}