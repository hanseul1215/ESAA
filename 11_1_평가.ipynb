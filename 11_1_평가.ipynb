{
 "cells": [
  {
   "cell_type": "markdown",
   "metadata": {},
   "source": [
    "# 성능 평가지표\n",
    "\n",
    "## 1. 정확도 \n",
    "- 실제 데이터와 예측 데이터가 얼마나 같은지 판단하는 지표\n",
    "- 예측 결과가 동일한 데이터 건수 / 전체 예측 데이터 건수\n",
    "- 불균형한 레이블 값 분포에서 ML 모델의 성능을 판단할 수 없음"
   ]
  },
  {
   "cell_type": "code",
   "execution_count": 17,
   "metadata": {},
   "outputs": [],
   "source": [
    "# BaseEstimator를 상속받으면 Customized 형태의 Estimator를 생성할 수 있음\n",
    "from sklearn.base import BaseEstimator\n",
    "\n",
    "class MyDummyClassifier(BaseEstimator):\n",
    "    def fit(self, x, y=None):\n",
    "        pass\n",
    "    def predict(self, X):\n",
    "        pred = np.zeros((X.shape[0],1))\n",
    "        for i in range(X.shape[0]):\n",
    "            if X['Sex'].iloc[i]==1:\n",
    "                pred[i] = 0\n",
    "            else :\n",
    "                pred[i] = 1\n",
    "                \n",
    "        return pred"
   ]
  },
  {
   "cell_type": "code",
   "execution_count": 18,
   "metadata": {},
   "outputs": [],
   "source": [
    "import pandas as pd\n",
    "from sklearn.model_selection import train_test_split\n",
    "from sklearn.metrics import accuracy_score\n",
    "from sklearn import preprocessing\n",
    "import numpy as np\n",
    "\n",
    "# null 처리 함수\n",
    "def fillna(df):\n",
    "    df['Age'].fillna(df['Age'].mean(), inplace=True)\n",
    "    df['Cabin'].fillna('N', inplace=True)\n",
    "    df['Embarked'].fillna('N', inplace=True)\n",
    "    df['Fare'].fillna(0, inplace=True)\n",
    "    return df\n",
    "\n",
    "# 불필요한 속성 제거\n",
    "def drop_features(df):\n",
    "    df.drop(['PassengerId', 'Name', 'Ticket'], axis=1, inplace=True)\n",
    "    return df\n",
    "\n",
    "# 레이블 인코딩\n",
    "def format_features(df):\n",
    "    df['Cabin'] = df['Cabin'].str[:1]\n",
    "    features = ['Cabin', 'Embarked', 'Sex']\n",
    "    for feature in features:\n",
    "        le = preprocessing.LabelEncoder()\n",
    "        le.fit(df[feature])\n",
    "        df[feature] = le.transform(df[feature])\n",
    "    return df\n",
    "\n",
    "def transform_features(df):\n",
    "    df = fillna(df)\n",
    "    df = drop_features(df)\n",
    "    df = format_features(df)\n",
    "    return df"
   ]
  },
  {
   "cell_type": "code",
   "execution_count": 19,
   "metadata": {},
   "outputs": [],
   "source": [
    "titanic_df = pd.read_csv(\"titanic_train.csv\")\n",
    "y_titanic_df = titanic_df['Survived']\n",
    "X_titanic_df = titanic_df.drop('Survived', axis=1)\n",
    "X_titanic_df = transform_features(X_titanic_df)\n",
    "X_train, X_test, y_train, y_test = train_test_split(X_titanic_df, y_titanic_df,test_size=0.2, random_state=0)"
   ]
  },
  {
   "cell_type": "code",
   "execution_count": 20,
   "metadata": {},
   "outputs": [
    {
     "name": "stdout",
     "output_type": "stream",
     "text": [
      "0.7877094972067039\n"
     ]
    }
   ],
   "source": [
    "myclf = MyDummyClassifier()\n",
    "myclf.fit(X_train, y_train)\n",
    "\n",
    "mypredictions = myclf.predict(X_test)\n",
    "print(accuracy_score(y_test, mypredictions))"
   ]
  },
  {
   "cell_type": "code",
   "execution_count": 21,
   "metadata": {},
   "outputs": [
    {
     "name": "stdout",
     "output_type": "stream",
     "text": [
      "레이블 테스트 세트 크기 (450,)\n",
      "0    405\n",
      "1     45\n",
      "dtype: int64\n"
     ]
    }
   ],
   "source": [
    "# 불균형한 레이블 값 분포\n",
    "from sklearn.datasets import load_digits\n",
    "from sklearn.model_selection import train_test_split\n",
    "from sklearn.base import BaseEstimator\n",
    "from sklearn.metrics import accuracy_score\n",
    "import numpy as np\n",
    "import pandas as pd\n",
    "\n",
    "class MyFakeClassifier(BaseEstimator):\n",
    "    def fit(self, X, y):\n",
    "        pass\n",
    "    def predict(self, X):\n",
    "        # 입력값으로 들어오는 X데이터 세트의 크기만큼 모두 0으로 만들어 반환\n",
    "        return np.zeros((len(X), 1), dtype=bool)\n",
    "\n",
    "digits=load_digits()\n",
    "y=(digits.target == 7).astype(int)\n",
    "X_train, X_test, y_train, y_test = train_test_split(digits.data, y, random_state=11)\n",
    "\n",
    "print('레이블 테스트 세트 크기', y_test.shape)\n",
    "print(pd.Series(y_test).value_counts())"
   ]
  },
  {
   "cell_type": "code",
   "execution_count": 22,
   "metadata": {},
   "outputs": [
    {
     "name": "stdout",
     "output_type": "stream",
     "text": [
      "0.9\n"
     ]
    }
   ],
   "source": [
    "fakeclf = MyFakeClassifier()\n",
    "fakeclf.fit(X_train, y_train)\n",
    "fakepred = fakeclf.predict(X_test)\n",
    "print(accuracy_score(y_test, fakepred))"
   ]
  },
  {
   "cell_type": "code",
   "execution_count": null,
   "metadata": {},
   "outputs": [],
   "source": []
  },
  {
   "cell_type": "markdown",
   "metadata": {},
   "source": [
    "## 2. 오차행렬\n",
    "- 이진 분류에서 성능 지표로 잘 활용됨\n",
    "- 4분면의 왼쪽, 오른쪽 => 예측된 클래스 값 기준 N,P\n",
    "- 4분면의 위쪽, 아래쪽 => 실제 클래스 값 기준 N,P\n",
    "### TN / TP\n",
    "### FN / FP"
   ]
  },
  {
   "cell_type": "code",
   "execution_count": 23,
   "metadata": {},
   "outputs": [
    {
     "data": {
      "text/plain": [
       "array([[405,   0],\n",
       "       [ 45,   0]], dtype=int64)"
      ]
     },
     "execution_count": 23,
     "metadata": {},
     "output_type": "execute_result"
    }
   ],
   "source": [
    "from sklearn.metrics import confusion_matrix\n",
    "\n",
    "confusion_matrix(y_test, fakepred)"
   ]
  },
  {
   "cell_type": "markdown",
   "metadata": {},
   "source": [
    "## 3. 정밀도와 재현율\n",
    "- 정밀도 = TP / (FP + TP)              | 양성 예측 중 실제 값이 Positive로 일치하는 것, FP을 낮추는 것에 초점\n",
    "- 재현율 (민감도) = TP / (FN + TP)     | 실제 양성 중 실제 값이 Positive로 일치하는 것, FN을 낮추는 것에 초점"
   ]
  },
  {
   "cell_type": "code",
   "execution_count": 24,
   "metadata": {},
   "outputs": [],
   "source": [
    "from sklearn.metrics import accuracy_score, precision_score, recall_score, confusion_matrix\n",
    "\n",
    "def get_clf_eval(y_test, pred):\n",
    "    confusion = confusion_matrix(y_test, pred)\n",
    "    accuracy = accuracy_score(y_test, pred)\n",
    "    precision = precision_score(y_test, pred)\n",
    "    recall = recall_score(y_test, pred)\n",
    "    print('오차 행렬')\n",
    "    print(confusion)\n",
    "    print('정확도: {0:.4f}, 정밀도: {1:.4f}, 재현율: {2:.4f}'.format(accuracy, precision, recall))"
   ]
  },
  {
   "cell_type": "code",
   "execution_count": 25,
   "metadata": {},
   "outputs": [
    {
     "name": "stdout",
     "output_type": "stream",
     "text": [
      "오차 행렬\n",
      "[[104  14]\n",
      " [ 13  48]]\n",
      "정확도: 0.8492, 정밀도: 0.7742, 재현율: 0.7869\n"
     ]
    },
    {
     "name": "stderr",
     "output_type": "stream",
     "text": [
      "C:\\anaconda\\lib\\site-packages\\sklearn\\linear_model\\_logistic.py:762: ConvergenceWarning: lbfgs failed to converge (status=1):\n",
      "STOP: TOTAL NO. of ITERATIONS REACHED LIMIT.\n",
      "\n",
      "Increase the number of iterations (max_iter) or scale the data as shown in:\n",
      "    https://scikit-learn.org/stable/modules/preprocessing.html\n",
      "Please also refer to the documentation for alternative solver options:\n",
      "    https://scikit-learn.org/stable/modules/linear_model.html#logistic-regression\n",
      "  n_iter_i = _check_optimize_result(\n"
     ]
    }
   ],
   "source": [
    "from sklearn.linear_model import LogisticRegression\n",
    "\n",
    "titanic_df = pd.read_csv(\"titanic_train.csv\")\n",
    "y_titanic_df = titanic_df['Survived']\n",
    "X_titanic_df = titanic_df.drop('Survived', axis=1)\n",
    "X_titanic_df = transform_features(X_titanic_df)\n",
    "X_train, X_test, y_train, y_test = train_test_split(X_titanic_df, y_titanic_df,test_size=0.2, random_state=11)\n",
    "\n",
    "lr_clf = LogisticRegression()\n",
    "lr_clf.fit(X_train, y_train)\n",
    "pred = lr_clf.predict(X_test)\n",
    "get_clf_eval(y_test,pred)"
   ]
  },
  {
   "cell_type": "code",
   "execution_count": 30,
   "metadata": {},
   "outputs": [
    {
     "name": "stdout",
     "output_type": "stream",
     "text": [
      "pred_proba shape: (179, 2)\n",
      "샘플 3개 추출:\n",
      " [[0.46162417 0.53837583]\n",
      " [0.87858538 0.12141462]\n",
      " [0.87723741 0.12276259]]\n",
      "[[0.46162417 0.53837583 1.        ]\n",
      " [0.87858538 0.12141462 0.        ]\n",
      " [0.87723741 0.12276259 0.        ]]\n"
     ]
    }
   ],
   "source": [
    "# 정밀도/ 재현율 트레이드오프 : 어느 한쪽을 강제로 높이면 다른 하나의 수치가 떨어지기 쉽다.\n",
    "# predict_proba(X_Test) : 테스트 피처 레코드의 개별 클래스 예측 확률을 반환\n",
    "pred_proba = lr_clf.predict_proba(X_test)\n",
    "pred = lr_clf.predict(X_test)\n",
    "print('pred_proba shape:',pred_proba.shape)\n",
    "print('샘플 3개 추출:\\n', pred_proba[:3])\n",
    "\n",
    "pred_proba_result = np.concatenate([pred_proba, pred.reshape(-1,1)], axis=1)\n",
    "print(pred_proba_result[:3])"
   ]
  },
  {
   "cell_type": "code",
   "execution_count": 32,
   "metadata": {},
   "outputs": [
    {
     "name": "stdout",
     "output_type": "stream",
     "text": [
      "[[0. 0. 1.]\n",
      " [1. 0. 0.]\n",
      " [0. 0. 1.]]\n"
     ]
    }
   ],
   "source": [
    "# Binarizer 클래스\n",
    "# binarzer.fit_transform() -> threshold보다 같거나 작으면 0값, 크면 1값\n",
    "from sklearn.preprocessing import Binarizer\n",
    "X = [[1, -1, 2],\n",
    "    [2, 0, 0],\n",
    "    [0, 1.1, 1.2]]\n",
    "\n",
    "binarizer =Binarizer(threshold=1.1)\n",
    "print(binarizer.fit_transform(X))"
   ]
  },
  {
   "cell_type": "code",
   "execution_count": 34,
   "metadata": {},
   "outputs": [
    {
     "data": {
      "text/plain": [
       "array([[0.53837583],\n",
       "       [0.12141462],\n",
       "       [0.12276259],\n",
       "       [0.1171482 ],\n",
       "       [0.14495399],\n",
       "       [0.11768704],\n",
       "       [0.11164519],\n",
       "       [0.79087429],\n",
       "       [0.217473  ],\n",
       "       [0.62999708],\n",
       "       [0.10010532],\n",
       "       [0.12523082],\n",
       "       [0.1227685 ],\n",
       "       [0.11169063],\n",
       "       [0.56489504],\n",
       "       [0.14117062],\n",
       "       [0.09626565],\n",
       "       [0.26687201],\n",
       "       [0.27575506],\n",
       "       [0.82746503],\n",
       "       [0.24664048],\n",
       "       [0.38030835],\n",
       "       [0.14554533],\n",
       "       [0.18485239],\n",
       "       [0.11205751],\n",
       "       [0.23471422],\n",
       "       [0.14031174],\n",
       "       [0.07392255],\n",
       "       [0.28073903],\n",
       "       [0.30510769],\n",
       "       [0.94732233],\n",
       "       [0.81777069],\n",
       "       [0.12659557],\n",
       "       [0.8255943 ],\n",
       "       [0.39944076],\n",
       "       [0.23471422],\n",
       "       [0.072304  ],\n",
       "       [0.61149612],\n",
       "       [0.05300159],\n",
       "       [0.10396312],\n",
       "       [0.35025972],\n",
       "       [0.08312888],\n",
       "       [0.82213043],\n",
       "       [0.70782989],\n",
       "       [0.63030945],\n",
       "       [0.63032556],\n",
       "       [0.91861561],\n",
       "       [0.35628953],\n",
       "       [0.94891599],\n",
       "       [0.11209169],\n",
       "       [0.59433725],\n",
       "       [0.11169063],\n",
       "       [0.13291855],\n",
       "       [0.72481993],\n",
       "       [0.30974878],\n",
       "       [0.19658085],\n",
       "       [0.22649368],\n",
       "       [0.12276362],\n",
       "       [0.15439589],\n",
       "       [0.4327294 ],\n",
       "       [0.28045012],\n",
       "       [0.10090562],\n",
       "       [0.54671594],\n",
       "       [0.51343106],\n",
       "       [0.44446369],\n",
       "       [0.09462206],\n",
       "       [0.66705619],\n",
       "       [0.59424326],\n",
       "       [0.9519556 ],\n",
       "       [0.14775389],\n",
       "       [0.12913759],\n",
       "       [0.16868379],\n",
       "       [0.10396534],\n",
       "       [0.94787727],\n",
       "       [0.19873984],\n",
       "       [0.11169063],\n",
       "       [0.34886453],\n",
       "       [0.18371539],\n",
       "       [0.83584772],\n",
       "       [0.12276362],\n",
       "       [0.795185  ],\n",
       "       [0.6435831 ],\n",
       "       [0.93084695],\n",
       "       [0.13322082],\n",
       "       [0.94916502],\n",
       "       [0.95070426],\n",
       "       [0.153098  ],\n",
       "       [0.12541369],\n",
       "       [0.87425445],\n",
       "       [0.11169063],\n",
       "       [0.11169063],\n",
       "       [0.23471422],\n",
       "       [0.23207313],\n",
       "       [0.11169063],\n",
       "       [0.63032556],\n",
       "       [0.07570099],\n",
       "       [0.9288951 ],\n",
       "       [0.10075471],\n",
       "       [0.50694367],\n",
       "       [0.96515397],\n",
       "       [0.50112276],\n",
       "       [0.09476011],\n",
       "       [0.94816937],\n",
       "       [0.09757402],\n",
       "       [0.52975961],\n",
       "       [0.12849758],\n",
       "       [0.14121718],\n",
       "       [0.14775358],\n",
       "       [0.44937119],\n",
       "       [0.10736008],\n",
       "       [0.11697557],\n",
       "       [0.10894927],\n",
       "       [0.40395622],\n",
       "       [0.65427068],\n",
       "       [0.11205751],\n",
       "       [0.07115443],\n",
       "       [0.12431281],\n",
       "       [0.19851203],\n",
       "       [0.92583694],\n",
       "       [0.06863562],\n",
       "       [0.11168187],\n",
       "       [0.13050228],\n",
       "       [0.06347136],\n",
       "       [0.32022612],\n",
       "       [0.01162433],\n",
       "       [0.11168187],\n",
       "       [0.11620586],\n",
       "       [0.31706853],\n",
       "       [0.67751934],\n",
       "       [0.32154243],\n",
       "       [0.96515397],\n",
       "       [0.45460491],\n",
       "       [0.73502704],\n",
       "       [0.43952535],\n",
       "       [0.57023669],\n",
       "       [0.34831685],\n",
       "       [0.74810022],\n",
       "       [0.18632044],\n",
       "       [0.10399023],\n",
       "       [0.8029847 ],\n",
       "       [0.90889602],\n",
       "       [0.14775358],\n",
       "       [0.11796065],\n",
       "       [0.10121515],\n",
       "       [0.0916498 ],\n",
       "       [0.66692738],\n",
       "       [0.07565644],\n",
       "       [0.23368124],\n",
       "       [0.91852728],\n",
       "       [0.16837308],\n",
       "       [0.42908986],\n",
       "       [0.63077352],\n",
       "       [0.63710005],\n",
       "       [0.12270865],\n",
       "       [0.77808684],\n",
       "       [0.8809594 ],\n",
       "       [0.48878055],\n",
       "       [0.13308029],\n",
       "       [0.75101644],\n",
       "       [0.69042982],\n",
       "       [0.14995315],\n",
       "       [0.79240595],\n",
       "       [0.09129318],\n",
       "       [0.66698944],\n",
       "       [0.38026262],\n",
       "       [0.65152826],\n",
       "       [0.88383199],\n",
       "       [0.30917003],\n",
       "       [0.09166886],\n",
       "       [0.8933861 ],\n",
       "       [0.11164519],\n",
       "       [0.85464001],\n",
       "       [0.25025674],\n",
       "       [0.2406261 ],\n",
       "       [0.39794443],\n",
       "       [0.06227106],\n",
       "       [0.14122413],\n",
       "       [0.54615549],\n",
       "       [0.62749053]])"
      ]
     },
     "execution_count": 34,
     "metadata": {},
     "output_type": "execute_result"
    }
   ],
   "source": [
    "pred_proba[:, 1].reshape(-1, 1)"
   ]
  },
  {
   "cell_type": "code",
   "execution_count": 35,
   "metadata": {},
   "outputs": [
    {
     "name": "stdout",
     "output_type": "stream",
     "text": [
      "오차 행렬\n",
      "[[104  14]\n",
      " [ 13  48]]\n",
      "정확도: 0.8492, 정밀도: 0.7742, 재현율: 0.7869\n"
     ]
    }
   ],
   "source": [
    "custom_threshold = 0.5\n",
    "pred_proba_1 = pred_proba[:, 1].reshape(-1, 1)\n",
    "binarizer = Binarizer(threshold = custom_threshold).fit(pred_proba_1)\n",
    "custom_predict = binarizer.transform(pred_proba_1)\n",
    "\n",
    "get_clf_eval(y_test, custom_predict)"
   ]
  },
  {
   "cell_type": "code",
   "execution_count": 36,
   "metadata": {},
   "outputs": [
    {
     "name": "stdout",
     "output_type": "stream",
     "text": [
      "오차 행렬\n",
      "[[99 19]\n",
      " [10 51]]\n",
      "정확도: 0.8380, 정밀도: 0.7286, 재현율: 0.8361\n"
     ]
    }
   ],
   "source": [
    "custom_threshold = 0.4\n",
    "pred_proba_1 = pred_proba[:, 1].reshape(-1, 1)\n",
    "binarizer = Binarizer(threshold = custom_threshold).fit(pred_proba_1)\n",
    "custom_predict = binarizer.transform(pred_proba_1)\n",
    "\n",
    "get_clf_eval(y_test, custom_predict)\n",
    "# 정밀도 감소, 재현율 증가 / 임곗값 낮출수록 positive 너그러히"
   ]
  },
  {
   "cell_type": "code",
   "execution_count": 38,
   "metadata": {},
   "outputs": [
    {
     "name": "stdout",
     "output_type": "stream",
     "text": [
      "임곗값:  0.4\n",
      "오차 행렬\n",
      "[[99 19]\n",
      " [10 51]]\n",
      "정확도: 0.8380, 정밀도: 0.7286, 재현율: 0.8361\n",
      "임곗값:  0.45\n",
      "오차 행렬\n",
      "[[103  15]\n",
      " [ 12  49]]\n",
      "정확도: 0.8492, 정밀도: 0.7656, 재현율: 0.8033\n",
      "임곗값:  0.5\n",
      "오차 행렬\n",
      "[[104  14]\n",
      " [ 13  48]]\n",
      "정확도: 0.8492, 정밀도: 0.7742, 재현율: 0.7869\n",
      "임곗값:  0.55\n",
      "오차 행렬\n",
      "[[109   9]\n",
      " [ 15  46]]\n",
      "정확도: 0.8659, 정밀도: 0.8364, 재현율: 0.7541\n",
      "임곗값:  0.6\n",
      "오차 행렬\n",
      "[[112   6]\n",
      " [ 16  45]]\n",
      "정확도: 0.8771, 정밀도: 0.8824, 재현율: 0.7377\n"
     ]
    }
   ],
   "source": [
    "thresholds = [0.4, 0.45, 0.5, 0.55, 0.6]\n",
    "def get_eval_by_threshold(y_test, pred_proba_c1, thresholds):\n",
    "    for custom_threshold in thresholds:\n",
    "        binarizer = Binarizer(threshold=custom_threshold).fit(pred_proba_c1)\n",
    "        custom_predict = binarizer.transform(pred_proba_c1)\n",
    "        print('임곗값: ',custom_threshold)\n",
    "        get_clf_eval(y_test, custom_predict)\n",
    "                              \n",
    "get_eval_by_threshold(y_test, pred_proba[:,1].reshape(-1,1), thresholds)                              "
   ]
  },
  {
   "cell_type": "code",
   "execution_count": 43,
   "metadata": {},
   "outputs": [
    {
     "name": "stdout",
     "output_type": "stream",
     "text": [
      "임곗값 배열의 shape:  (143,)\n",
      "임곗값 배열의 index 10개 : [  0  15  30  45  60  75  90 105 120 135]\n",
      "10개의 임곗값 : [0.1  0.12 0.14 0.19 0.28 0.4  0.56 0.67 0.82 0.95]\n",
      "샘플 임곗값별 정밀도 : [0.389 0.44  0.466 0.539 0.647 0.729 0.836 0.949 0.958 1.   ]\n",
      "샘플 임곗값별 재현율 : [1.    0.967 0.902 0.902 0.902 0.836 0.754 0.607 0.377 0.148]\n"
     ]
    }
   ],
   "source": [
    "from sklearn.metrics import precision_recall_curve\n",
    "# 입력 파라미터 (y_true: 실제 클래스값 배열, probas_pred: positive 칼럼의 예측 확률 배열)\n",
    "# 반환값 : 정밀도, 재현율\n",
    "\n",
    "pred_proba_class1 = lr_clf.predict_proba(X_test)[:,1]\n",
    "precisions, recalls, thresholds = precision_recall_curve(y_test, pred_proba_class1)\n",
    "print('임곗값 배열의 shape: ',thresholds.shape)\n",
    "\n",
    "thr_index = np.arange(0, thresholds.shape[0], 15)\n",
    "print(\"임곗값 배열의 index 10개 :\", thr_index)\n",
    "print(\"10개의 임곗값 :\", np.round(thresholds[thr_index], 2))\n",
    "\n",
    "print('샘플 임곗값별 정밀도 :', np.round(precisions[thr_index], 3))\n",
    "print('샘플 임곗값별 재현율 :', np.round(recalls[thr_index], 3))"
   ]
  },
  {
   "cell_type": "code",
   "execution_count": 46,
   "metadata": {},
   "outputs": [
    {
     "data": {
      "image/png": "[encoded data removed]",
      "text/plain": [
       "<Figure size 576x432 with 1 Axes>"
      ]
     },
     "metadata": {
      "needs_background": "light"
     },
     "output_type": "display_data"
    }
   ],
   "source": [
    "import matplotlib.pyplot as plt\n",
    "import matplotlib.ticker as ticker\n",
    "#%matplotlib.inline\n",
    "\n",
    "def precision_recall_curve_plot(y_test, pred_proba_c1):\n",
    "    precisions, recalls, thresholds = precision_recall_curve(y_test, pred_proba_class1)\n",
    "    \n",
    "    plt.figure(figsize=(8, 6))\n",
    "    threshold_boundary = thresholds.shape[0]\n",
    "    plt.plot(thresholds, precisions[0:threshold_boundary], linestyle='-', label='precision')\n",
    "    plt.plot(thresholds, recalls[0:threshold_boundary], label='recall')\n",
    "    \n",
    "    start, end = plt.xlim()\n",
    "    plt.xticks(np.round(np.arange(start, end, 0.1),2))\n",
    "    \n",
    "    plt.xlabel('threshold value')\n",
    "    plt.ylabel('precision and recall value')\n",
    "    \n",
    "    plt.show()\n",
    "    \n",
    "precision_recall_curve_plot(y_test, lr_clf.predict_proba(X_test)[:,1])\n",
    "# 임곗값이 낮을수록 정밀도가 낮아져"
   ]
  },
  {
   "cell_type": "markdown",
   "metadata": {},
   "source": [
    "## 4. F1 스코어\n",
    "\n",
    "### 2 * precision * recall / (precision + recall)"
   ]
  },
  {
   "cell_type": "code",
   "execution_count": 52,
   "metadata": {},
   "outputs": [
    {
     "name": "stdout",
     "output_type": "stream",
     "text": [
      "0.7804878048780488\n"
     ]
    }
   ],
   "source": [
    "from sklearn.metrics import f1_score\n",
    "f1 = f1_score(y_test, pred)\n",
    "print(f1)"
   ]
  },
  {
   "cell_type": "code",
   "execution_count": 54,
   "metadata": {},
   "outputs": [
    {
     "name": "stdout",
     "output_type": "stream",
     "text": [
      "임곗값:  0.4\n",
      "오차 행렬\n",
      "[[99 19]\n",
      " [10 51]]\n",
      "정확도: 0.8380, 정밀도: 0.7286, 재현율: 0.8361, F1:0.7786\n",
      "임곗값:  0.45\n",
      "오차 행렬\n",
      "[[103  15]\n",
      " [ 12  49]]\n",
      "정확도: 0.8492, 정밀도: 0.7656, 재현율: 0.8033, F1:0.7840\n",
      "임곗값:  0.5\n",
      "오차 행렬\n",
      "[[104  14]\n",
      " [ 13  48]]\n",
      "정확도: 0.8492, 정밀도: 0.7742, 재현율: 0.7869, F1:0.7805\n",
      "임곗값:  0.55\n",
      "오차 행렬\n",
      "[[109   9]\n",
      " [ 15  46]]\n",
      "정확도: 0.8659, 정밀도: 0.8364, 재현율: 0.7541, F1:0.7931\n",
      "임곗값:  0.6\n",
      "오차 행렬\n",
      "[[112   6]\n",
      " [ 16  45]]\n",
      "정확도: 0.8771, 정밀도: 0.8824, 재현율: 0.7377, F1:0.8036\n"
     ]
    }
   ],
   "source": [
    "def get_clf_eval(y_test, pred):\n",
    "    confusion = confusion_matrix(y_test, pred)\n",
    "    accuracy = accuracy_score(y_test, pred)\n",
    "    precision = precision_score(y_test, pred)\n",
    "    recall = recall_score(y_test, pred)\n",
    "    # f1 스코어 추가\n",
    "    f1=f1_score(y_test, pred)\n",
    "    print('오차 행렬')\n",
    "    print(confusion)\n",
    "    print('정확도: {0:.4f}, 정밀도: {1:.4f}, 재현율: {2:.4f}, F1:{3:.4f}'.format(accuracy, precision, recall, f1))\n",
    "    \n",
    "thresholds = [0.4, 0.45, 0.5, 0.55, 0.6]\n",
    "pred_proba = lr_clf.predict_proba(X_test)\n",
    "get_eval_by_threshold(y_test, pred_proba[:, 1].reshape(-1, 1), thresholds)"
   ]
  },
  {
   "cell_type": "markdown",
   "metadata": {},
   "source": [
    "## 5. ROC 곡선, AUC 점수\n",
    "- x축: 1-특이도,  y축: 민감도 "
   ]
  },
  {
   "cell_type": "code",
   "execution_count": 55,
   "metadata": {},
   "outputs": [
    {
     "name": "stdout",
     "output_type": "stream",
     "text": [
      "[ 1  6 11 16 21 26 31 36 41 46 51]\n",
      "[0.97 0.65 0.63 0.56 0.45 0.38 0.31 0.13 0.12 0.11 0.1 ]\n",
      "[0.    0.017 0.034 0.076 0.127 0.186 0.237 0.576 0.619 0.754 0.814]\n",
      "[0.033 0.639 0.705 0.754 0.803 0.852 0.902 0.902 0.951 0.967 1.   ]\n"
     ]
    }
   ],
   "source": [
    "# roc_curve(y_true, y_score(predict_proba의 positive 컬럼))\n",
    "from sklearn.metrics import roc_curve\n",
    "\n",
    "pred_proba_class1=lr_clf.predict_proba(X_test)[:, 1]\n",
    "\n",
    "fprs, tprs, thresholds = roc_curve(y_test, pred_proba_class1)\n",
    "thr_index = np.arange(1, thresholds.shape[0], 5)\n",
    "print(thr_index)\n",
    "print(np.round(thresholds[thr_index], 2))\n",
    "print(np.round(fprs[thr_index], 3))\n",
    "print(np.round(tprs[thr_index], 3))"
   ]
  },
  {
   "cell_type": "code",
   "execution_count": 69,
   "metadata": {},
   "outputs": [
    {
     "data": {
      "image/png": "[encoded data removed]",
      "text/plain": [
       "<Figure size 432x288 with 1 Axes>"
      ]
     },
     "metadata": {
      "needs_background": "light"
     },
     "output_type": "display_data"
    }
   ],
   "source": [
    "def roc_curve_plot(y_test, pred_proba_c1):\n",
    "    fprs, tprs, thresholds = roc_curve(y_test, pred_proba_c1)\n",
    "    plt.plot(fprs, tprs, label='ROC')\n",
    "    plt.plot([0,1],[0,1],'k-',label = 'Random')\n",
    "    \n",
    "    start, end =plt.xlim()\n",
    "    plt.xticks(np.round(np.arange(start, end, 0.1), 2))\n",
    "    plt.xlim(0,1)\n",
    "    plt.ylim(0,1)\n",
    "    plt.legend()\n",
    "    \n",
    "roc_curve_plot(y_test, pred_proba[:,1])"
   ]
  },
  {
   "cell_type": "code",
   "execution_count": 75,
   "metadata": {},
   "outputs": [],
   "source": [
    "#AUC\n",
    "from sklearn.metrics import roc_auc_score\n",
    "def get_clf_eval(y_test, pred):\n",
    "    confusion = confusion_matrix(y_test, pred)\n",
    "    accuracy = accuracy_score(y_test, pred)\n",
    "    precision = precision_score(y_test, pred)\n",
    "    recall = recall_score(y_test, pred)\n",
    "    f1=f1_score(y_test, pred)\n",
    "    #AUC 추가\n",
    "    roc_auc = roc_auc_score(y_test, pred_proba)\n",
    "    print('오차 행렬')\n",
    "    print(confusion)\n",
    "    print('정확도: {0:.4f}, 정밀도: {1:.4f}, 재현율: {2:.4f}, F1:{3:.4f}, AUC:{4:.4f}'.format(accuracy, precision, recall, f1, roc_auc))\n",
    "        "
   ]
  }
 ],
 "metadata": {
  "kernelspec": {
   "display_name": "Python 3",
   "language": "python",
   "name": "python3"
  },
  "language_info": {
   "codemirror_mode": {
    "name": "ipython",
    "version": 3
   },
   "file_extension": ".py",
   "mimetype": "text/x-python",
   "name": "python",
   "nbconvert_exporter": "python",
   "pygments_lexer": "ipython3",
   "version": "3.8.5"
  }
 },
 "nbformat": 4,
 "nbformat_minor": 4
}
