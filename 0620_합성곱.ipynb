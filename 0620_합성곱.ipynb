{
  "cells": [
    {
      "cell_type": "markdown",
      "metadata": {
        "id": "view-in-github",
        "colab_type": "text"
      },
      "source": [
        "<a href=\"https://colab.research.google.com/github/hanseul1215/ESAA_study/blob/master/0620_%ED%95%A9%EC%84%B1%EA%B3%B1.ipynb\" target=\"_parent\"><img src=\"https://colab.research.google.com/assets/colab-badge.svg\" alt=\"Open In Colab\"/></a>"
      ]
    },
    {
      "cell_type": "markdown",
      "metadata": {
        "id": "nLq5QOaxQFKQ"
      },
      "source": [
        "# 4.1 합성곱 신경망(CNN : Convolutional Neural Network)\n",
        "데이터가 가진 특징들의 패턴을 학습하는 알고리즘으로 컴퓨터 비전 분야에서 많이 사용된다.   \n",
        "- **이미지 분류**: 이미지로 모델을 학습하면 모델은 이미지의 특징을 추출해 대상을 분류할 수 있음\n",
        "- **객체 탐지**: 이미지에서 특정한 객체를 인식하고 이미지의 어디에 있는지 위치까지 파악하는 기술\n",
        "- **스타일 전이**: 콘텐츠 이미지와 스타일 참조 이미지를 이용해 콘텐츠의 기본 형태를 유지하고 스타일을 입혀서 새로운 이미지를 생성하는 기술"
      ]
    },
    {
      "cell_type": "markdown",
      "metadata": {
        "id": "8laMVsB0RtpD"
      },
      "source": [
        "## 1-1 이미지 표현\n",
        "- 이미지는 컴퓨터가 이해할 수 있게 숫자로 표현해야함\n",
        "- 채널은 각각이 하나의 이미지로 구분되며, 컬러이미지는 3개의 채널 이미지(R, G, B)를 하나로 결합하여 표현하는 방식"
      ]
    },
    {
      "cell_type": "markdown",
      "metadata": {
        "id": "NQNzsGd0STtN"
      },
      "source": [
        "## 1-2 합성곱 연산\n",
        "입력 이미지에 대해 커널을 사용하여 입력 이미지에 대한 특성을 추출하는 방법\n",
        "- 합성곱 연산을 통해 추출된 이미지를 특성맵이라고 부름\n",
        "- element-wise 곱셈 연산 -> 모두 더한 값 (단일 스칼라 값)을 feature map의 값에 대입\n",
        "- 오차 역전파(back propagation)으로 커널의 가중치를 업데이트함\n",
        "- 커널의 공유 가중치로 합성곱은 이미지 특성 추출에 효율적임"
      ]
    },
    {
      "cell_type": "markdown",
      "metadata": {
        "id": "m7ON9RmKTiL9"
      },
      "source": [
        "## 1-3 채널\n",
        "입력 이미지를 구성하는 2차원 배열의 개수를 나타냄\n",
        "- 커널 적용, 합성곱 연산 -> elment-wise 덧셈 연산"
      ]
    },
    {
      "cell_type": "markdown",
      "metadata": {
        "id": "bZTVylpAUO9Q"
      },
      "source": [
        "## 1-4 스트라이드\n",
        "커널이 합성곱 연산을 수행하며 이동하는 간격"
      ]
    },
    {
      "cell_type": "markdown",
      "metadata": {
        "id": "uMqtfkn3UcFk"
      },
      "source": [
        "##1-5 패딩\n",
        "추출된 특성맵의 크기가 입력 이미지 대비 줄어들지 않도록 하는 것\n"
      ]
    },
    {
      "cell_type": "markdown",
      "metadata": {
        "id": "sRLgUhdnWJ_F"
      },
      "source": [
        "## 1-6 특성맵 사이즈\n",
        "[출력 크기]   \n",
        "= [(입력 Height + 2패딩 - 커널 Height)/스트라이드 +1,   \n",
        "(입력 Weight + 2패딩 - 커널 Weight)/스트라이드 +1]"
      ]
    },
    {
      "cell_type": "markdown",
      "metadata": {
        "id": "_lF47tlwW3n6"
      },
      "source": [
        "## 1-7 풀링\n",
        "추출된 특성맵에 대해 다운 샘플링하여 이미지의 크기를 축소하는 레이어로 과대적합을 방지한다."
      ]
    },
    {
      "cell_type": "markdown",
      "metadata": {
        "id": "soON2-o6XUQD"
      },
      "source": [
        "#4.2 간단한 모델 생성"
      ]
    },
    {
      "cell_type": "markdown",
      "metadata": {
        "id": "6q64MY5jXXUy"
      },
      "source": [
        "## 2-1 데이터 로드 및 전처리"
      ]
    },
    {
      "cell_type": "code",
      "execution_count": null,
      "metadata": {
        "id": "wF6BgTPiKyje"
      },
      "outputs": [],
      "source": [
        "import tensorflow as tf"
      ]
    },
    {
      "cell_type": "code",
      "execution_count": null,
      "metadata": {
        "colab": {
          "base_uri": "https://localhost:8080/"
        },
        "id": "Ok-TEffvXfTJ",
        "outputId": "ea3b4279-3846-43a1-e590-ab1918f22829"
      },
      "outputs": [
        {
          "name": "stdout",
          "output_type": "stream",
          "text": [
            "Downloading data from https://storage.googleapis.com/tensorflow/tf-keras-datasets/mnist.npz\n",
            "11493376/11490434 [==============================] - 0s 0us/step\n",
            "11501568/11490434 [==============================] - 0s 0us/step\n",
            "(60000, 28, 28) (60000,)\n",
            "(10000, 28, 28) (10000,)\n"
          ]
        }
      ],
      "source": [
        "mnist = tf.keras.datasets.mnist\n",
        "(x_train, y_train),(x_valid, y_valid) = mnist.load_data()\n",
        "\n",
        "print(x_train.shape, y_train.shape)\n",
        "print(x_valid.shape, y_valid.shape)"
      ]
    },
    {
      "cell_type": "code",
      "execution_count": null,
      "metadata": {
        "colab": {
          "base_uri": "https://localhost:8080/",
          "height": 303
        },
        "id": "H3iVMJZ2ZHWA",
        "outputId": "cc62c4bc-2016-486d-b0ae-191cddd5b52e"
      },
      "outputs": [
        {
          "data": {
            "image/png": "[encoded data removed]",
            "text/plain": [
              "<Figure size 360x360 with 1 Axes>"
            ]
          },
          "metadata": {},
          "output_type": "display_data"
        }
      ],
      "source": [
        "import matplotlib.pylab as plt\n",
        "\n",
        "def plot_image(data, idx):\n",
        "    plt.figure(figsize=(5,5))\n",
        "    plt.imshow(data[idx], cmap=\"gray\")\n",
        "    plt.axis(\"off\")\n",
        "    plt.show()\n",
        "  \n",
        "plot_image(x_train, 0)"
      ]
    },
    {
      "cell_type": "code",
      "execution_count": null,
      "metadata": {
        "colab": {
          "base_uri": "https://localhost:8080/"
        },
        "id": "RWLza4xHaOfV",
        "outputId": "03f97c73-fbb0-4df3-c1eb-c425b4174258"
      },
      "outputs": [
        {
          "name": "stdout",
          "output_type": "stream",
          "text": [
            "0 255\n",
            "0 255\n"
          ]
        }
      ],
      "source": [
        "print(x_train.min(), x_train.max())\n",
        "print(x_valid.min(), x_valid.max())"
      ]
    },
    {
      "cell_type": "code",
      "execution_count": null,
      "metadata": {
        "colab": {
          "base_uri": "https://localhost:8080/"
        },
        "id": "f2x8qsvMaYwI",
        "outputId": "13886c83-40e4-4f94-8745-cc0d7e76d438"
      },
      "outputs": [
        {
          "name": "stdout",
          "output_type": "stream",
          "text": [
            "0.0 1.0\n",
            "0.0 1.0\n"
          ]
        }
      ],
      "source": [
        "# 정규화 변환\n",
        "x_train = x_train / 255.0\n",
        "x_valid = x_valid / 255.0\n",
        "\n",
        "print(x_train.min(), x_train.max())\n",
        "print(x_valid.min(), x_valid.max())"
      ]
    },
    {
      "cell_type": "code",
      "execution_count": null,
      "metadata": {
        "colab": {
          "base_uri": "https://localhost:8080/"
        },
        "id": "510GBDqEaptA",
        "outputId": "77327496-5cc9-4c2a-a499-5c1122ecbc08"
      },
      "outputs": [
        {
          "name": "stdout",
          "output_type": "stream",
          "text": [
            "(60000, 28, 28) (10000, 28, 28)\n",
            "(60000, 28, 28, 1) (10000, 28, 28, 1)\n"
          ]
        }
      ],
      "source": [
        "# 채널 추가\n",
        "print(x_train.shape, x_valid.shape)\n",
        "\n",
        "x_train_in = x_train[..., tf.newaxis] # 가장 마지막 축에 채널을 추가\n",
        "x_valid_in = x_valid[..., tf.newaxis]\n",
        "\n",
        "print(x_train_in.shape, x_valid_in.shape)"
      ]
    },
    {
      "cell_type": "markdown",
      "metadata": {
        "id": "hfYgAjkSbYtp"
      },
      "source": [
        "## 2-2 Sequential API로 모델 생성, 학습\n",
        "Sequential API를 사용하여 합성곱 레이어 1개, 풀링 레이어 1개를 적용하는 모델을 만들자"
      ]
    },
    {
      "cell_type": "code",
      "execution_count": null,
      "metadata": {
        "id": "sEM2LZlqbMxi"
      },
      "outputs": [],
      "source": [
        "model = tf.keras.Sequential([\n",
        "    # Convolution 적용 (32 filters)\n",
        "    tf.keras.layers.Conv2D(32, (3, 3), activation='relu',   # 커널(3*3) 32개\n",
        "                           input_shape=(28, 28, 1), name='conv'),\n",
        "    # Max Pooling 적용\n",
        "    tf.keras.layers.MaxPooling2D((2, 2), name='pool'),\n",
        "    # Classifier 출력층 \n",
        "    tf.keras.layers.Flatten(),\n",
        "    tf.keras.layers.Dense(10, activation='softmax'),\n",
        "])"
      ]
    },
    {
      "cell_type": "code",
      "execution_count": null,
      "metadata": {
        "colab": {
          "base_uri": "https://localhost:8080/"
        },
        "id": "qrTeyW1EgINs",
        "outputId": "336ed022-d07a-4557-9ef4-98116f2569d8"
      },
      "outputs": [
        {
          "name": "stdout",
          "output_type": "stream",
          "text": [
            "Epoch 1/10\n",
            "1875/1875 [==============================] - 39s 20ms/step - loss: 0.2175 - accuracy: 0.9380 - val_loss: 0.0917 - val_accuracy: 0.9734\n",
            "Epoch 2/10\n",
            "1875/1875 [==============================] - 30s 16ms/step - loss: 0.0819 - accuracy: 0.9763 - val_loss: 0.0609 - val_accuracy: 0.9811\n",
            "Epoch 3/10\n",
            "1875/1875 [==============================] - 30s 16ms/step - loss: 0.0609 - accuracy: 0.9820 - val_loss: 0.0542 - val_accuracy: 0.9831\n",
            "Epoch 4/10\n",
            "1875/1875 [==============================] - 31s 16ms/step - loss: 0.0494 - accuracy: 0.9854 - val_loss: 0.0562 - val_accuracy: 0.9831\n",
            "Epoch 5/10\n",
            "1875/1875 [==============================] - 30s 16ms/step - loss: 0.0413 - accuracy: 0.9873 - val_loss: 0.0598 - val_accuracy: 0.9799\n",
            "Epoch 6/10\n",
            "1875/1875 [==============================] - 30s 16ms/step - loss: 0.0349 - accuracy: 0.9894 - val_loss: 0.0530 - val_accuracy: 0.9826\n",
            "Epoch 7/10\n",
            "1875/1875 [==============================] - 31s 17ms/step - loss: 0.0310 - accuracy: 0.9904 - val_loss: 0.0536 - val_accuracy: 0.9838\n",
            "Epoch 8/10\n",
            "1875/1875 [==============================] - 30s 16ms/step - loss: 0.0257 - accuracy: 0.9923 - val_loss: 0.0522 - val_accuracy: 0.9843\n",
            "Epoch 9/10\n",
            "1875/1875 [==============================] - 30s 16ms/step - loss: 0.0224 - accuracy: 0.9933 - val_loss: 0.0531 - val_accuracy: 0.9846\n",
            "Epoch 10/10\n",
            "1875/1875 [==============================] - 30s 16ms/step - loss: 0.0191 - accuracy: 0.9943 - val_loss: 0.0614 - val_accuracy: 0.9831\n"
          ]
        }
      ],
      "source": [
        "# 모델 컴파일\n",
        "model.compile(optimizer='adam', loss='sparse_categorical_crossentropy', metrics=['accuracy'])\n",
        "\n",
        "# 모델 훈련\n",
        "history = model.fit(x_train_in, y_train, \n",
        "                    validation_data=(x_valid_in, y_valid), \n",
        "                    epochs=10)"
      ]
    },
    {
      "cell_type": "code",
      "execution_count": null,
      "metadata": {
        "colab": {
          "base_uri": "https://localhost:8080/"
        },
        "id": "Ejo1GslfgMIp",
        "outputId": "984cf431-9d34-4820-c501-41f9815f7b63"
      },
      "outputs": [
        {
          "name": "stdout",
          "output_type": "stream",
          "text": [
            "313/313 [==============================] - 2s 7ms/step - loss: 0.0614 - accuracy: 0.9831\n"
          ]
        },
        {
          "data": {
            "text/plain": [
              "[0.061393365263938904, 0.9830999970436096]"
            ]
          },
          "execution_count": 9,
          "metadata": {},
          "output_type": "execute_result"
        }
      ],
      "source": [
        "model.evaluate(x_valid_in, y_valid)"
      ]
    },
    {
      "cell_type": "markdown",
      "metadata": {
        "id": "9uLf-hC1ggcx"
      },
      "source": [
        "훈련 셋에 대한 손실은 계속 줄어드는데 검증 셋의 손실은 어느 정도 수준에서 더 이상 낮아지지 않음  \n",
        "-> epoch = 4에서 과대적합되었다고 판단"
      ]
    },
    {
      "cell_type": "code",
      "execution_count": null,
      "metadata": {
        "colab": {
          "base_uri": "https://localhost:8080/",
          "height": 281
        },
        "id": "G4YjLLRygUN4",
        "outputId": "54b665f5-8e26-4b1e-e377-47eaab872bab"
      },
      "outputs": [
        {
          "data": {
            "image/png": "[encoded data removed]",
            "text/plain": [
              "<Figure size 864x288 with 2 Axes>"
            ]
          },
          "metadata": {},
          "output_type": "display_data"
        }
      ],
      "source": [
        "def plot_loss_acc(history, epoch):\n",
        "\n",
        "    loss, val_loss = history.history['loss'], history.history['val_loss']\n",
        "    acc, val_acc = history.history['accuracy'], history.history['val_accuracy']\n",
        "\n",
        "    fig, axes = plt.subplots(1, 2, figsize=(12, 4))\n",
        "\n",
        "    axes[0].plot(range(1, epoch + 1), loss, label='Training')\n",
        "    axes[0].plot(range(1, epoch + 1), val_loss, label='Validation')\n",
        "    axes[0].legend(loc='best')\n",
        "    axes[0].set_title('Loss')\n",
        "\n",
        "    axes[1].plot(range(1, epoch + 1), acc, label='Training')\n",
        "    axes[1].plot(range(1, epoch + 1), val_acc, label='Validation')\n",
        "    axes[1].legend(loc='best')\n",
        "    axes[1].set_title('Accuracy')\n",
        "\n",
        "    plt.show()\n",
        "\n",
        "plot_loss_acc(history, 10)"
      ]
    },
    {
      "cell_type": "markdown",
      "metadata": {
        "id": "TvzlFNRUgab5"
      },
      "source": [
        "# 2-3 모델 구조 파악\n",
        "- summary() : 모델의 구조를 요약해서 보여줌\n",
        "   (각 레이어의 이름, 출력 텐서의 형태, 각 레이어를 구성하는 파라미터 개수...)"
      ]
    },
    {
      "cell_type": "code",
      "execution_count": null,
      "metadata": {
        "colab": {
          "base_uri": "https://localhost:8080/"
        },
        "id": "jpiL6jXhgZuR",
        "outputId": "7d8f0c30-ddf7-45c0-b764-d69e21077284"
      },
      "outputs": [
        {
          "name": "stdout",
          "output_type": "stream",
          "text": [
            "Model: \"sequential\"\n",
            "_________________________________________________________________\n",
            " Layer (type)                Output Shape              Param #   \n",
            "=================================================================\n",
            " conv (Conv2D)               (None, 26, 26, 32)        320       \n",
            "                                                                 \n",
            " pool (MaxPooling2D)         (None, 13, 13, 32)        0         \n",
            "                                                                 \n",
            " flatten (Flatten)           (None, 5408)              0         \n",
            "                                                                 \n",
            " dense (Dense)               (None, 10)                54090     \n",
            "                                                                 \n",
            "=================================================================\n",
            "Total params: 54,410\n",
            "Trainable params: 54,410\n",
            "Non-trainable params: 0\n",
            "_________________________________________________________________\n"
          ]
        }
      ],
      "source": [
        "# 모델 구조 \n",
        "model.summary()"
      ]
    },
    {
      "cell_type": "code",
      "execution_count": null,
      "metadata": {
        "colab": {
          "base_uri": "https://localhost:8080/"
        },
        "id": "nrPBQp4MiHQ4",
        "outputId": "cf6ea6f5-f57f-47d1-8f42-bf9b588474b9"
      },
      "outputs": [
        {
          "data": {
            "text/plain": [
              "<KerasTensor: shape=(None, 28, 28, 1) dtype=float32 (created by layer 'conv_input')>"
            ]
          },
          "execution_count": 12,
          "metadata": {},
          "output_type": "execute_result"
        }
      ],
      "source": [
        "# 입력 텐서 형태 \n",
        "model.input"
      ]
    },
    {
      "cell_type": "code",
      "execution_count": null,
      "metadata": {
        "colab": {
          "base_uri": "https://localhost:8080/"
        },
        "id": "NypKwkCuiLAL",
        "outputId": "c8b9fe5c-b702-4a3b-eaeb-17aadaf98ab2"
      },
      "outputs": [
        {
          "data": {
            "text/plain": [
              "<KerasTensor: shape=(None, 10) dtype=float32 (created by layer 'dense')>"
            ]
          },
          "execution_count": 13,
          "metadata": {},
          "output_type": "execute_result"
        }
      ],
      "source": [
        "# 출력 텐서 형태 \n",
        "model.output"
      ]
    },
    {
      "cell_type": "code",
      "execution_count": null,
      "metadata": {
        "colab": {
          "base_uri": "https://localhost:8080/"
        },
        "id": "Fwq4_5O1iV7G",
        "outputId": "fff4441e-23c4-4498-dfce-8027f63224d8"
      },
      "outputs": [
        {
          "data": {
            "text/plain": [
              "[<keras.layers.convolutional.Conv2D at 0x7f3950b4e910>,\n",
              " <keras.layers.pooling.MaxPooling2D at 0x7f3957ab4cd0>,\n",
              " <keras.layers.core.flatten.Flatten at 0x7f39506b1710>,\n",
              " <keras.layers.core.dense.Dense at 0x7f39506b1950>]"
            ]
          },
          "execution_count": 14,
          "metadata": {},
          "output_type": "execute_result"
        }
      ],
      "source": [
        "# 레이어 \n",
        "model.layers # 4개 레이어로 구성, 파이썬의 리스트 형태로 레이어 객체를 담아서 보여줌"
      ]
    },
    {
      "cell_type": "code",
      "execution_count": null,
      "metadata": {
        "colab": {
          "base_uri": "https://localhost:8080/"
        },
        "id": "WK1z0UlSiXyL",
        "outputId": "530adbad-b58a-48ea-e8e6-d69955bf1c25"
      },
      "outputs": [
        {
          "data": {
            "text/plain": [
              "<keras.layers.convolutional.Conv2D at 0x7f3950b4e910>"
            ]
          },
          "execution_count": 15,
          "metadata": {},
          "output_type": "execute_result"
        }
      ],
      "source": [
        "# 첫번째 레이어 선택\n",
        "model.layers[0]"
      ]
    },
    {
      "cell_type": "code",
      "execution_count": null,
      "metadata": {
        "colab": {
          "base_uri": "https://localhost:8080/"
        },
        "id": "raxbaq7CibD7",
        "outputId": "a22bc87e-9545-495b-b882-42ae44f9a81b"
      },
      "outputs": [
        {
          "data": {
            "text/plain": [
              "<KerasTensor: shape=(None, 28, 28, 1) dtype=float32 (created by layer 'conv_input')>"
            ]
          },
          "execution_count": 16,
          "metadata": {},
          "output_type": "execute_result"
        }
      ],
      "source": [
        "# 첫번째 레이어 입력\n",
        "model.layers[0].input"
      ]
    },
    {
      "cell_type": "code",
      "execution_count": null,
      "metadata": {
        "colab": {
          "base_uri": "https://localhost:8080/"
        },
        "id": "2VZe8XbMipaG",
        "outputId": "387b8d70-070d-4779-95bd-8499c4e2e004"
      },
      "outputs": [
        {
          "data": {
            "text/plain": [
              "<KerasTensor: shape=(None, 26, 26, 32) dtype=float32 (created by layer 'conv')>"
            ]
          },
          "execution_count": 17,
          "metadata": {},
          "output_type": "execute_result"
        }
      ],
      "source": [
        "# 첫번째 레이어 출력\n",
        "model.layers[0].output"
      ]
    },
    {
      "cell_type": "code",
      "execution_count": null,
      "metadata": {
        "colab": {
          "base_uri": "https://localhost:8080/"
        },
        "id": "atQVZ0fYittK",
        "outputId": "237934b6-1c94-4555-c547-b97e0a057ec4"
      },
      "outputs": [
        {
          "data": {
            "text/plain": [
              "[<tf.Variable 'conv/kernel:0' shape=(3, 3, 1, 32) dtype=float32, numpy=\n",
              " array([[[[ 0.11215724,  0.24349707, -0.22561517,  0.35727805,\n",
              "           -0.3958075 , -0.37557453, -1.2447491 ,  0.29719472,\n",
              "            0.21322122,  0.33417034,  0.3506563 , -0.25152317,\n",
              "           -0.80711544, -0.64257336,  0.3340164 ,  0.0750218 ,\n",
              "            0.23450531, -0.6152372 ,  0.28213966,  0.33305305,\n",
              "            0.42939854, -0.17412943, -0.47625342,  0.1901959 ,\n",
              "            0.24546449,  0.34461197, -1.38575   ,  0.02754508,\n",
              "            0.33213243, -0.7283569 ,  0.02620695, -0.75727504]],\n",
              " \n",
              "         [[ 0.4886649 ,  0.02866049,  0.24872518, -0.26457533,\n",
              "           -0.41197926,  0.18223369, -0.22949713,  0.17518547,\n",
              "            0.39488137,  0.12989707,  0.65732765, -0.25220135,\n",
              "           -0.22531007,  0.04521491,  0.07984622,  0.03868134,\n",
              "            0.21962582, -0.04365139,  0.26813745, -0.27635774,\n",
              "           -0.06044965,  0.25781468, -0.07782122,  0.4768256 ,\n",
              "            0.55454004, -0.16140993, -0.195005  ,  0.22701469,\n",
              "            0.2332632 , -0.54987985,  0.32381678,  0.0384696 ]],\n",
              " \n",
              "         [[ 0.38677663, -0.04995159,  0.32896596, -0.5112072 ,\n",
              "           -0.8806438 ,  0.20329897,  0.51365185,  0.16025929,\n",
              "            0.6930181 , -0.37647957,  0.14495237, -0.09557211,\n",
              "            0.3015913 ,  0.00799475, -0.21950655,  0.10562838,\n",
              "            0.00298832,  0.4192004 , -0.6847459 , -0.5406129 ,\n",
              "           -0.8685212 ,  0.24822253,  0.21607119,  0.22127208,\n",
              "            0.5794415 , -0.6256962 ,  0.6533378 , -0.46136287,\n",
              "            0.13306253,  0.9834922 , -0.09651753,  0.14404109]]],\n",
              " \n",
              " \n",
              "        [[[-0.20022716,  0.0255121 ,  0.29755735,  0.4007908 ,\n",
              "            0.29760322,  0.05562138, -0.8426198 , -0.0129633 ,\n",
              "           -0.29234168, -0.003405  , -1.0764681 ,  0.32262585,\n",
              "            0.20504306,  0.0858251 ,  0.00622044, -0.23055051,\n",
              "           -0.32388514,  0.07192018,  0.45779064,  0.12559062,\n",
              "            0.57813585,  0.28164193,  0.15081136, -0.4363053 ,\n",
              "            0.01313414,  0.24138798, -0.59906125,  0.00139555,\n",
              "           -0.14213799,  0.3417479 , -0.0613832 , -0.15521555]],\n",
              " \n",
              "         [[ 0.1959758 ,  0.20005926,  0.15660317, -0.10270562,\n",
              "            0.19060089,  0.37157068,  0.4737815 , -0.22113611,\n",
              "            0.3163561 ,  0.1394295 , -1.1467248 ,  0.35687727,\n",
              "            0.1839715 ,  0.4588924 ,  0.29508558,  0.33128762,\n",
              "            0.17183185,  0.33170825,  0.20348568,  0.3394577 ,\n",
              "           -0.05528169,  0.01722525,  0.49184573,  0.07286616,\n",
              "            0.1642185 ,  0.42511514, -0.49436408,  0.2683941 ,\n",
              "           -0.04197172, -1.3864342 ,  0.26174358,  0.5241129 ]],\n",
              " \n",
              "         [[ 0.50100833, -0.25843337, -0.41771156,  0.10017697,\n",
              "           -0.7515031 , -0.29191265,  0.39688742,  0.2152708 ,\n",
              "            0.15763022, -0.07679062, -0.9988679 ,  0.21075788,\n",
              "            0.23252447,  0.09541079, -0.14493154, -0.39838392,\n",
              "           -0.01494227,  0.0363622 , -0.7957366 ,  0.23403656,\n",
              "           -0.5965486 , -0.17725044, -0.09891042,  0.30078286,\n",
              "           -0.00785266, -0.01659253,  0.72670025,  0.28237677,\n",
              "            0.2474636 , -0.33105528, -0.26692957,  0.07338555]]],\n",
              " \n",
              " \n",
              "        [[[-0.7460961 , -0.20784727,  0.23434526,  0.03298391,\n",
              "            0.42344546, -0.00448321, -0.27126187, -0.21813846,\n",
              "           -1.24301   , -0.14718363,  0.5652439 , -0.08577865,\n",
              "            0.4463776 ,  0.16503334, -0.34307626, -0.01203562,\n",
              "           -0.18624261,  0.4257757 ,  0.3441724 , -0.11317049,\n",
              "            0.38118735,  0.20672522,  0.06660759, -0.52603275,\n",
              "           -0.71538323, -0.33776322, -0.6166013 , -0.13714808,\n",
              "           -0.2617767 ,  0.94219667, -0.20554341,  0.16246413]],\n",
              " \n",
              "         [[-0.7290252 ,  0.1904894 , -0.4244828 ,  0.22850452,\n",
              "            0.4048254 ,  0.2335368 ,  0.37689945, -0.02848605,\n",
              "           -0.8162271 ,  0.17825541,  0.6140604 , -0.3358708 ,\n",
              "           -0.18192169, -0.23216698,  0.2304193 ,  0.6050454 ,\n",
              "            0.24017188,  0.02438682, -0.10080954, -0.02229046,\n",
              "            0.1278149 , -0.2628479 ,  0.0582989 , -0.33270612,\n",
              "           -0.8609606 ,  0.210749  , -0.50580823, -0.28615412,\n",
              "           -0.25965282,  0.27257165,  0.11032397,  0.12479185]],\n",
              " \n",
              "         [[-0.2582615 ,  0.28307417, -0.06849729,  0.22204536,\n",
              "           -0.42351776, -0.28691506,  0.23934254,  0.16406998,\n",
              "           -1.1919594 ,  0.32814202,  0.4852909 , -0.0500927 ,\n",
              "           -0.5805994 , -0.5446517 ,  0.30784664, -0.500509  ,\n",
              "            0.08013519, -0.3383499 , -1.0984738 ,  0.30006132,\n",
              "           -0.22359209, -0.42346597, -0.4887307 ,  0.4093929 ,\n",
              "           -0.8169295 ,  0.32068574,  0.43550402,  0.15332586,\n",
              "            0.37463436, -0.47923625,  0.3359282 , -0.5240572 ]]]],\n",
              "       dtype=float32)>,\n",
              " <tf.Variable 'conv/bias:0' shape=(32,) dtype=float32, numpy=\n",
              " array([-9.95789468e-02, -3.20202798e-01, -2.33362660e-01, -3.95956337e-01,\n",
              "         2.15603352e-01, -1.62658855e-01, -2.96238586e-02, -3.66915941e-01,\n",
              "        -7.33706984e-05, -4.10330772e-01,  1.13863302e-02, -6.94622323e-02,\n",
              "        -8.09016731e-03, -2.20579859e-02, -3.77810627e-01, -1.31801799e-01,\n",
              "        -2.82144219e-01, -2.93493569e-01, -4.58813459e-02, -3.39955211e-01,\n",
              "        -1.98773324e-01, -2.78412968e-01, -1.41842917e-01, -3.58938485e-01,\n",
              "         2.65991408e-03, -4.01537538e-01, -4.00252976e-02, -1.84315875e-01,\n",
              "        -4.24117893e-01,  3.40891220e-02, -2.68992901e-01, -1.23474956e-01],\n",
              "       dtype=float32)>]"
            ]
          },
          "execution_count": 18,
          "metadata": {},
          "output_type": "execute_result"
        }
      ],
      "source": [
        "# 첫번째 레이어 가중치\n",
        "model.layers[0].weights"
      ]
    },
    {
      "cell_type": "code",
      "execution_count": null,
      "metadata": {
        "colab": {
          "base_uri": "https://localhost:8080/"
        },
        "id": "j5x44Vzxiwif",
        "outputId": "bc0d9a1b-f6a1-470d-b7c6-58a507d9a059"
      },
      "outputs": [
        {
          "data": {
            "text/plain": [
              "<tf.Variable 'conv/kernel:0' shape=(3, 3, 1, 32) dtype=float32, numpy=\n",
              "array([[[[ 0.11215724,  0.24349707, -0.22561517,  0.35727805,\n",
              "          -0.3958075 , -0.37557453, -1.2447491 ,  0.29719472,\n",
              "           0.21322122,  0.33417034,  0.3506563 , -0.25152317,\n",
              "          -0.80711544, -0.64257336,  0.3340164 ,  0.0750218 ,\n",
              "           0.23450531, -0.6152372 ,  0.28213966,  0.33305305,\n",
              "           0.42939854, -0.17412943, -0.47625342,  0.1901959 ,\n",
              "           0.24546449,  0.34461197, -1.38575   ,  0.02754508,\n",
              "           0.33213243, -0.7283569 ,  0.02620695, -0.75727504]],\n",
              "\n",
              "        [[ 0.4886649 ,  0.02866049,  0.24872518, -0.26457533,\n",
              "          -0.41197926,  0.18223369, -0.22949713,  0.17518547,\n",
              "           0.39488137,  0.12989707,  0.65732765, -0.25220135,\n",
              "          -0.22531007,  0.04521491,  0.07984622,  0.03868134,\n",
              "           0.21962582, -0.04365139,  0.26813745, -0.27635774,\n",
              "          -0.06044965,  0.25781468, -0.07782122,  0.4768256 ,\n",
              "           0.55454004, -0.16140993, -0.195005  ,  0.22701469,\n",
              "           0.2332632 , -0.54987985,  0.32381678,  0.0384696 ]],\n",
              "\n",
              "        [[ 0.38677663, -0.04995159,  0.32896596, -0.5112072 ,\n",
              "          -0.8806438 ,  0.20329897,  0.51365185,  0.16025929,\n",
              "           0.6930181 , -0.37647957,  0.14495237, -0.09557211,\n",
              "           0.3015913 ,  0.00799475, -0.21950655,  0.10562838,\n",
              "           0.00298832,  0.4192004 , -0.6847459 , -0.5406129 ,\n",
              "          -0.8685212 ,  0.24822253,  0.21607119,  0.22127208,\n",
              "           0.5794415 , -0.6256962 ,  0.6533378 , -0.46136287,\n",
              "           0.13306253,  0.9834922 , -0.09651753,  0.14404109]]],\n",
              "\n",
              "\n",
              "       [[[-0.20022716,  0.0255121 ,  0.29755735,  0.4007908 ,\n",
              "           0.29760322,  0.05562138, -0.8426198 , -0.0129633 ,\n",
              "          -0.29234168, -0.003405  , -1.0764681 ,  0.32262585,\n",
              "           0.20504306,  0.0858251 ,  0.00622044, -0.23055051,\n",
              "          -0.32388514,  0.07192018,  0.45779064,  0.12559062,\n",
              "           0.57813585,  0.28164193,  0.15081136, -0.4363053 ,\n",
              "           0.01313414,  0.24138798, -0.59906125,  0.00139555,\n",
              "          -0.14213799,  0.3417479 , -0.0613832 , -0.15521555]],\n",
              "\n",
              "        [[ 0.1959758 ,  0.20005926,  0.15660317, -0.10270562,\n",
              "           0.19060089,  0.37157068,  0.4737815 , -0.22113611,\n",
              "           0.3163561 ,  0.1394295 , -1.1467248 ,  0.35687727,\n",
              "           0.1839715 ,  0.4588924 ,  0.29508558,  0.33128762,\n",
              "           0.17183185,  0.33170825,  0.20348568,  0.3394577 ,\n",
              "          -0.05528169,  0.01722525,  0.49184573,  0.07286616,\n",
              "           0.1642185 ,  0.42511514, -0.49436408,  0.2683941 ,\n",
              "          -0.04197172, -1.3864342 ,  0.26174358,  0.5241129 ]],\n",
              "\n",
              "        [[ 0.50100833, -0.25843337, -0.41771156,  0.10017697,\n",
              "          -0.7515031 , -0.29191265,  0.39688742,  0.2152708 ,\n",
              "           0.15763022, -0.07679062, -0.9988679 ,  0.21075788,\n",
              "           0.23252447,  0.09541079, -0.14493154, -0.39838392,\n",
              "          -0.01494227,  0.0363622 , -0.7957366 ,  0.23403656,\n",
              "          -0.5965486 , -0.17725044, -0.09891042,  0.30078286,\n",
              "          -0.00785266, -0.01659253,  0.72670025,  0.28237677,\n",
              "           0.2474636 , -0.33105528, -0.26692957,  0.07338555]]],\n",
              "\n",
              "\n",
              "       [[[-0.7460961 , -0.20784727,  0.23434526,  0.03298391,\n",
              "           0.42344546, -0.00448321, -0.27126187, -0.21813846,\n",
              "          -1.24301   , -0.14718363,  0.5652439 , -0.08577865,\n",
              "           0.4463776 ,  0.16503334, -0.34307626, -0.01203562,\n",
              "          -0.18624261,  0.4257757 ,  0.3441724 , -0.11317049,\n",
              "           0.38118735,  0.20672522,  0.06660759, -0.52603275,\n",
              "          -0.71538323, -0.33776322, -0.6166013 , -0.13714808,\n",
              "          -0.2617767 ,  0.94219667, -0.20554341,  0.16246413]],\n",
              "\n",
              "        [[-0.7290252 ,  0.1904894 , -0.4244828 ,  0.22850452,\n",
              "           0.4048254 ,  0.2335368 ,  0.37689945, -0.02848605,\n",
              "          -0.8162271 ,  0.17825541,  0.6140604 , -0.3358708 ,\n",
              "          -0.18192169, -0.23216698,  0.2304193 ,  0.6050454 ,\n",
              "           0.24017188,  0.02438682, -0.10080954, -0.02229046,\n",
              "           0.1278149 , -0.2628479 ,  0.0582989 , -0.33270612,\n",
              "          -0.8609606 ,  0.210749  , -0.50580823, -0.28615412,\n",
              "          -0.25965282,  0.27257165,  0.11032397,  0.12479185]],\n",
              "\n",
              "        [[-0.2582615 ,  0.28307417, -0.06849729,  0.22204536,\n",
              "          -0.42351776, -0.28691506,  0.23934254,  0.16406998,\n",
              "          -1.1919594 ,  0.32814202,  0.4852909 , -0.0500927 ,\n",
              "          -0.5805994 , -0.5446517 ,  0.30784664, -0.500509  ,\n",
              "           0.08013519, -0.3383499 , -1.0984738 ,  0.30006132,\n",
              "          -0.22359209, -0.42346597, -0.4887307 ,  0.4093929 ,\n",
              "          -0.8169295 ,  0.32068574,  0.43550402,  0.15332586,\n",
              "           0.37463436, -0.47923625,  0.3359282 , -0.5240572 ]]]],\n",
              "      dtype=float32)>"
            ]
          },
          "execution_count": 19,
          "metadata": {},
          "output_type": "execute_result"
        }
      ],
      "source": [
        "# 첫번째 레이어 커널 가중치\n",
        "model.layers[0].kernel"
      ]
    },
    {
      "cell_type": "code",
      "execution_count": null,
      "metadata": {
        "colab": {
          "base_uri": "https://localhost:8080/"
        },
        "id": "JKHz0Rp5i2xT",
        "outputId": "67d7b08f-37ec-4b7f-ebac-16971ad35284"
      },
      "outputs": [
        {
          "data": {
            "text/plain": [
              "<tf.Variable 'conv/bias:0' shape=(32,) dtype=float32, numpy=\n",
              "array([-9.95789468e-02, -3.20202798e-01, -2.33362660e-01, -3.95956337e-01,\n",
              "        2.15603352e-01, -1.62658855e-01, -2.96238586e-02, -3.66915941e-01,\n",
              "       -7.33706984e-05, -4.10330772e-01,  1.13863302e-02, -6.94622323e-02,\n",
              "       -8.09016731e-03, -2.20579859e-02, -3.77810627e-01, -1.31801799e-01,\n",
              "       -2.82144219e-01, -2.93493569e-01, -4.58813459e-02, -3.39955211e-01,\n",
              "       -1.98773324e-01, -2.78412968e-01, -1.41842917e-01, -3.58938485e-01,\n",
              "        2.65991408e-03, -4.01537538e-01, -4.00252976e-02, -1.84315875e-01,\n",
              "       -4.24117893e-01,  3.40891220e-02, -2.68992901e-01, -1.23474956e-01],\n",
              "      dtype=float32)>"
            ]
          },
          "execution_count": 20,
          "metadata": {},
          "output_type": "execute_result"
        }
      ],
      "source": [
        "# 첫번째 레이어 bias 가중치\n",
        "model.layers[0].bias"
      ]
    },
    {
      "cell_type": "code",
      "execution_count": null,
      "metadata": {
        "colab": {
          "base_uri": "https://localhost:8080/"
        },
        "id": "xk6WMY7xi6uL",
        "outputId": "94250c65-1ffe-4797-f2bd-8db77c22925f"
      },
      "outputs": [
        {
          "data": {
            "text/plain": [
              "<keras.layers.convolutional.Conv2D at 0x7f3950b4e910>"
            ]
          },
          "execution_count": 21,
          "metadata": {},
          "output_type": "execute_result"
        }
      ],
      "source": [
        "# 레이어 이름 사용하여 레이어 선택\n",
        "model.get_layer('conv')"
      ]
    },
    {
      "cell_type": "code",
      "execution_count": null,
      "metadata": {
        "colab": {
          "base_uri": "https://localhost:8080/"
        },
        "id": "pUJHz4vwi-kr",
        "outputId": "c53dffe5-240b-40dc-bf63-2cd24f35981e"
      },
      "outputs": [
        {
          "data": {
            "text/plain": [
              "2"
            ]
          },
          "execution_count": 22,
          "metadata": {},
          "output_type": "execute_result"
        }
      ],
      "source": [
        "# 샘플 이미지의 레이어별 출력을 리스트에 추가 (첫번째, 두번째 레이어)\n",
        "activator = tf.keras.Model(inputs=model.input, \n",
        "                           outputs=[layer.output for layer in model.layers[:2]] ) \n",
        "activations = activator.predict(x_train_in[0][tf.newaxis, ...]) \n",
        "\n",
        "len(activations)"
      ]
    },
    {
      "cell_type": "code",
      "execution_count": null,
      "metadata": {
        "colab": {
          "base_uri": "https://localhost:8080/"
        },
        "id": "ZcpK2ZXjjEhn",
        "outputId": "88aa1061-009f-45f0-be77-c61bd5c2f63c"
      },
      "outputs": [
        {
          "data": {
            "text/plain": [
              "(1, 26, 26, 32)"
            ]
          },
          "execution_count": 23,
          "metadata": {},
          "output_type": "execute_result"
        }
      ],
      "source": [
        "#(1(입력이미지 개수), 26, 26, 32)\n",
        "# 첫 번째 레이어(conv) 출력층 \n",
        "conv_activation = activations[0]\n",
        "conv_activation.shape"
      ]
    },
    {
      "cell_type": "code",
      "execution_count": null,
      "metadata": {
        "colab": {
          "base_uri": "https://localhost:8080/",
          "height": 369
        },
        "id": "HOPSb6VojNNF",
        "outputId": "728745ab-d691-44e5-ba2c-62003e6c8add"
      },
      "outputs": [
        {
          "data": {
            "image/png": "[encoded data removed]",
            "text/plain": [
              "<Figure size 720x360 with 32 Axes>"
            ]
          },
          "metadata": {},
          "output_type": "display_data"
        }
      ],
      "source": [
        "# 첫 번째 레이어에서 출력되는 특성맵 이미지를 32개 커널별로 구분하여 시각화\n",
        "# Convolution 시각화\n",
        "fig, axes = plt.subplots(4, 8)\n",
        "fig.set_size_inches(10, 5)\n",
        "\n",
        "for i in range(32):\n",
        "    axes[i//8, i%8].matshow(conv_activation[0, :, :, i], cmap='viridis')\n",
        "    axes[i//8, i%8].set_title('kernel %s'%str(i), fontsize=10)\n",
        "    plt.setp( axes[i//8, i%8].get_xticklabels(), visible=False)\n",
        "    plt.setp( axes[i//8, i%8].get_yticklabels(), visible=False)\n",
        "\n",
        "plt.tight_layout()\n",
        "plt.show()"
      ]
    },
    {
      "cell_type": "code",
      "execution_count": null,
      "metadata": {
        "colab": {
          "base_uri": "https://localhost:8080/"
        },
        "id": "_XR1VxTgjZhN",
        "outputId": "f8f7a268-99ba-4a1a-9ac0-77c50fa9bcec"
      },
      "outputs": [
        {
          "name": "stdout",
          "output_type": "stream",
          "text": [
            "(1, 13, 13, 32)\n"
          ]
        }
      ],
      "source": [
        "#(1, 13, 13, 32)\n",
        "# 두 번째 레이어(pool) 출력층 (최대 풀링 레이어)\n",
        "pooling_activation = activations[1]\n",
        "print(pooling_activation.shape)"
      ]
    },
    {
      "cell_type": "code",
      "execution_count": null,
      "metadata": {
        "colab": {
          "base_uri": "https://localhost:8080/",
          "height": 369
        },
        "id": "mhpFtZLejheY",
        "outputId": "48fee57d-c98f-4812-bf53-77c52c402e59"
      },
      "outputs": [
        {
          "data": {
            "image/png": "[encoded data removed]",
            "text/plain": [
              "<Figure size 720x360 with 32 Axes>"
            ]
          },
          "metadata": {},
          "output_type": "display_data"
        }
      ],
      "source": [
        "# 시각화\n",
        "fig, axes = plt.subplots(4, 8)\n",
        "fig.set_size_inches(10, 5)\n",
        "\n",
        "for i in range(32):\n",
        "    axes[i//8, i%8].matshow(pooling_activation[0, :, :, i], cmap='viridis')\n",
        "    axes[i//8, i%8].set_title('kernel %s'%str(i), fontsize=10)\n",
        "    plt.setp( axes[i//8, i%8].get_xticklabels(), visible=False)\n",
        "    plt.setp( axes[i//8, i%8].get_yticklabels(), visible=False)\n",
        "\n",
        "plt.tight_layout()\n",
        "plt.show()"
      ]
    },
    {
      "cell_type": "markdown",
      "metadata": {
        "id": "OCjv6zZFXh2e"
      },
      "source": [
        "# 4.3 복잡한 모델 생성"
      ]
    },
    {
      "cell_type": "markdown",
      "metadata": {
        "id": "j-HuZEgvXlj9"
      },
      "source": [
        "## 3-1 데이터셋 준비"
      ]
    },
    {
      "cell_type": "code",
      "execution_count": null,
      "metadata": {
        "id": "FcsFJxgBXyf4"
      },
      "outputs": [],
      "source": [
        "import tensorflow as tf\n",
        "import numpy as np"
      ]
    },
    {
      "cell_type": "code",
      "execution_count": null,
      "metadata": {
        "colab": {
          "base_uri": "https://localhost:8080/"
        },
        "id": "aDrFlWqdX3QL",
        "outputId": "4ab70bfd-88b6-4659-b702-e1634a56d866"
      },
      "outputs": [
        {
          "name": "stdout",
          "output_type": "stream",
          "text": [
            "(60000, 28, 28) (60000,)\n",
            "(10000, 28, 28) (10000,)\n"
          ]
        }
      ],
      "source": [
        "# MNIST 손글씨 이미지 데이터 로드\n",
        "mnist = tf.keras.datasets.mnist\n",
        "(x_train, y_train), (x_valid, y_valid) = mnist.load_data()\n",
        "\n",
        "print(x_train.shape, y_train.shape)\n",
        "print(x_valid.shape, y_valid.shape)"
      ]
    },
    {
      "cell_type": "markdown",
      "metadata": {
        "id": "BqKroNY0YD92"
      },
      "source": [
        "y_train 값이 홀수면 1, 짝수면 0으로 하는 y_train_odd 배열을 새로 만들자"
      ]
    },
    {
      "cell_type": "code",
      "execution_count": null,
      "metadata": {
        "colab": {
          "base_uri": "https://localhost:8080/"
        },
        "id": "9g2laHstX5Lc",
        "outputId": "f1e7e4b3-f5a8-4efe-e7a4-b6a43219b237"
      },
      "outputs": [
        {
          "data": {
            "text/plain": [
              "(60000,)"
            ]
          },
          "execution_count": 29,
          "metadata": {},
          "output_type": "execute_result"
        }
      ],
      "source": [
        "# 새로운 출력값 배열을 생성 (홀수: 1, 짝수: 0)\n",
        "y_train_odd = []\n",
        "for y in y_train:\n",
        "    if y % 2==0:\n",
        "        y_train_odd.append(0)\n",
        "    else:\n",
        "        y_train_odd.append(1)\n",
        "\n",
        "y_train_odd = np.array(y_train_odd)\n",
        "y_train_odd.shape\n"
      ]
    },
    {
      "cell_type": "code",
      "execution_count": null,
      "metadata": {
        "colab": {
          "base_uri": "https://localhost:8080/"
        },
        "id": "SdwzcouwYRnH",
        "outputId": "ce7cc800-7b61-4244-e03c-77e967194b39"
      },
      "outputs": [
        {
          "name": "stdout",
          "output_type": "stream",
          "text": [
            "[5 0 4 1 9 2 1 3 1 4]\n",
            "[1 0 0 1 1 0 1 1 1 0]\n"
          ]
        }
      ],
      "source": [
        "print(y_train[:10])\n",
        "print(y_train_odd[:10])"
      ]
    },
    {
      "cell_type": "code",
      "execution_count": null,
      "metadata": {
        "colab": {
          "base_uri": "https://localhost:8080/"
        },
        "id": "_gcCDgJfYTz_",
        "outputId": "6a311467-02b8-4ce7-e990-5536097d4e06"
      },
      "outputs": [
        {
          "data": {
            "text/plain": [
              "(10000,)"
            ]
          },
          "execution_count": 31,
          "metadata": {},
          "output_type": "execute_result"
        }
      ],
      "source": [
        "# Validation 데이터셋 처리\n",
        "y_valid_odd = []\n",
        "for y in y_valid:\n",
        "    if y % 2==0:\n",
        "        y_valid_odd.append(0)\n",
        "    else:\n",
        "        y_valid_odd.append(1)\n",
        "\n",
        "y_valid_odd = np.array(y_valid_odd)\n",
        "y_valid_odd.shape"
      ]
    },
    {
      "cell_type": "code",
      "execution_count": null,
      "metadata": {
        "colab": {
          "base_uri": "https://localhost:8080/"
        },
        "id": "DBvhThQTYXJ6",
        "outputId": "820561d6-a3f1-46ae-94d8-1d46dcc2d041"
      },
      "outputs": [
        {
          "name": "stdout",
          "output_type": "stream",
          "text": [
            "(60000, 28, 28, 1) (10000, 28, 28, 1)\n"
          ]
        }
      ],
      "source": [
        "# 정규화(Normalization)\n",
        "x_train = x_train / 255.0\n",
        "x_valid = x_valid / 255.0\n",
        "\n",
        "# 채널 추가\n",
        "x_train_in = tf.expand_dims(x_train, -1) # 새로운 축을 끝에 추가\n",
        "x_valid_in = tf.expand_dims(x_valid, -1)\n",
        "\n",
        "print(x_train_in.shape, x_valid_in.shape)"
      ]
    },
    {
      "cell_type": "markdown",
      "metadata": {
        "id": "NEWFUsqIYraG"
      },
      "source": [
        "색상이 하나인 모노 컬러 이미지 -> 채널 개수 1개"
      ]
    },
    {
      "cell_type": "markdown",
      "metadata": {
        "id": "KDORo9X2Y4md"
      },
      "source": [
        "## 3-2 Functional API로 다중 입력, 다중 출력 레이어 생성"
      ]
    },
    {
      "cell_type": "code",
      "execution_count": null,
      "metadata": {
        "colab": {
          "base_uri": "https://localhost:8080/"
        },
        "id": "wG6JaSL1YqSb",
        "outputId": "29430189-658e-42d5-eed1-1251ded71340"
      },
      "outputs": [
        {
          "name": "stdout",
          "output_type": "stream",
          "text": [
            "Model: \"model_1\"\n",
            "__________________________________________________________________________________________________\n",
            " Layer (type)                   Output Shape         Param #     Connected to                     \n",
            "==================================================================================================\n",
            " input_1 (InputLayer)           [(None, 28, 28, 1)]  0           []                               \n",
            "                                                                                                  \n",
            " conv2d (Conv2D)                (None, 26, 26, 32)   320         ['input_1[0][0]']                \n",
            "                                                                                                  \n",
            " max_pooling2d (MaxPooling2D)   (None, 13, 13, 32)   0           ['conv2d[0][0]']                 \n",
            "                                                                                                  \n",
            " flatten_1 (Flatten)            (None, 5408)         0           ['max_pooling2d[0][0]']          \n",
            "                                                                                                  \n",
            " flatten_2 (Flatten)            (None, 784)          0           ['input_1[0][0]']                \n",
            "                                                                                                  \n",
            " concatenate (Concatenate)      (None, 6192)         0           ['flatten_1[0][0]',              \n",
            "                                                                  'flatten_2[0][0]']              \n",
            "                                                                                                  \n",
            " dense_1 (Dense)                (None, 10)           61930       ['concatenate[0][0]']            \n",
            "                                                                                                  \n",
            "==================================================================================================\n",
            "Total params: 62,250\n",
            "Trainable params: 62,250\n",
            "Non-trainable params: 0\n",
            "__________________________________________________________________________________________________\n"
          ]
        }
      ],
      "source": [
        "# Functional API를 사용하여 모델 생성\n",
        "\n",
        "inputs = tf.keras.layers.Input(shape=(28, 28, 1))\n",
        "\n",
        "conv = tf.keras.layers.Conv2D(32, (3, 3), activation='relu')(inputs)\n",
        "pool = tf.keras.layers.MaxPooling2D((2, 2))(conv)\n",
        "flat = tf.keras.layers.Flatten()(pool)\n",
        "\n",
        "flat_inputs = tf.keras.layers.Flatten()(inputs)\n",
        "concat = tf.keras.layers.Concatenate()([flat, flat_inputs])\n",
        "outputs = tf.keras.layers.Dense(10, activation='softmax')(concat)\n",
        "\n",
        "model = tf.keras.models.Model(inputs=inputs, outputs=outputs)\n",
        "\n",
        "model.summary()"
      ]
    },
    {
      "cell_type": "markdown",
      "metadata": {
        "id": "G_AGyFreZlj2"
      },
      "source": [
        "- 입력 레이어는 2개의 출력을 갖게됨  \n",
        ">1 서로 다른 2개의 출력은 각각 다른 레이어의 입력으로 사용  \n",
        "> 2 Concatenate 레이어에서 합쳐짐  \n",
        "> 3 Dense 레이어를 통과"
      ]
    },
    {
      "cell_type": "code",
      "execution_count": null,
      "metadata": {
        "colab": {
          "base_uri": "https://localhost:8080/",
          "height": 510
        },
        "id": "bBYjFiqMZiw2",
        "outputId": "137563a0-059c-43d1-e048-d86e8fa2c858"
      },
      "outputs": [
        {
          "ename": "ImportError",
          "evalue": "ignored",
          "output_type": "error",
          "traceback": [
            "\u001b[0;31m---------------------------------------------------------------------------\u001b[0m",
            "\u001b[0;31mImportError\u001b[0m                               Traceback (most recent call last)",
            "\u001b[0;32m<ipython-input-34-b57c552f0fbf>\u001b[0m in \u001b[0;36m<module>\u001b[0;34m()\u001b[0m\n\u001b[1;32m      1\u001b[0m \u001b[0;31m# 모델 구조 출력 및 이미지 파일로 저장\u001b[0m\u001b[0;34m\u001b[0m\u001b[0;34m\u001b[0m\u001b[0;34m\u001b[0m\u001b[0m\n\u001b[1;32m      2\u001b[0m \u001b[0;32mfrom\u001b[0m \u001b[0mtensorflow\u001b[0m\u001b[0;34m.\u001b[0m\u001b[0mpython\u001b[0m\u001b[0;34m.\u001b[0m\u001b[0mkeras\u001b[0m\u001b[0;34m.\u001b[0m\u001b[0mutils\u001b[0m\u001b[0;34m.\u001b[0m\u001b[0mvis_utils\u001b[0m \u001b[0;32mimport\u001b[0m \u001b[0mplot_model\u001b[0m\u001b[0;34m\u001b[0m\u001b[0;34m\u001b[0m\u001b[0m\n\u001b[0;32m----> 3\u001b[0;31m \u001b[0mplot_model\u001b[0m\u001b[0;34m(\u001b[0m\u001b[0mmodel\u001b[0m\u001b[0;34m,\u001b[0m \u001b[0mshow_shapes\u001b[0m\u001b[0;34m=\u001b[0m\u001b[0;32mTrue\u001b[0m\u001b[0;34m,\u001b[0m \u001b[0mshow_layer_names\u001b[0m\u001b[0;34m=\u001b[0m\u001b[0;32mTrue\u001b[0m\u001b[0;34m,\u001b[0m \u001b[0mto_file\u001b[0m\u001b[0;34m=\u001b[0m\u001b[0;34m'functional_cnn.png'\u001b[0m\u001b[0;34m)\u001b[0m\u001b[0;34m\u001b[0m\u001b[0;34m\u001b[0m\u001b[0m\n\u001b[0m",
            "\u001b[0;32m/usr/local/lib/python3.7/dist-packages/tensorflow/python/keras/utils/vis_utils.py\u001b[0m in \u001b[0;36mplot_model\u001b[0;34m(model, to_file, show_shapes, show_dtype, show_layer_names, rankdir, expand_nested, dpi)\u001b[0m\n\u001b[1;32m    327\u001b[0m       \u001b[0mrankdir\u001b[0m\u001b[0;34m=\u001b[0m\u001b[0mrankdir\u001b[0m\u001b[0;34m,\u001b[0m\u001b[0;34m\u001b[0m\u001b[0;34m\u001b[0m\u001b[0m\n\u001b[1;32m    328\u001b[0m       \u001b[0mexpand_nested\u001b[0m\u001b[0;34m=\u001b[0m\u001b[0mexpand_nested\u001b[0m\u001b[0;34m,\u001b[0m\u001b[0;34m\u001b[0m\u001b[0;34m\u001b[0m\u001b[0m\n\u001b[0;32m--> 329\u001b[0;31m       dpi=dpi)\n\u001b[0m\u001b[1;32m    330\u001b[0m   \u001b[0mto_file\u001b[0m \u001b[0;34m=\u001b[0m \u001b[0mpath_to_string\u001b[0m\u001b[0;34m(\u001b[0m\u001b[0mto_file\u001b[0m\u001b[0;34m)\u001b[0m\u001b[0;34m\u001b[0m\u001b[0;34m\u001b[0m\u001b[0m\n\u001b[1;32m    331\u001b[0m   \u001b[0;32mif\u001b[0m \u001b[0mdot\u001b[0m \u001b[0;32mis\u001b[0m \u001b[0;32mNone\u001b[0m\u001b[0;34m:\u001b[0m\u001b[0;34m\u001b[0m\u001b[0;34m\u001b[0m\u001b[0m\n",
            "\u001b[0;32m/usr/local/lib/python3.7/dist-packages/tensorflow/python/keras/utils/vis_utils.py\u001b[0m in \u001b[0;36mmodel_to_dot\u001b[0;34m(model, show_shapes, show_dtype, show_layer_names, rankdir, expand_nested, dpi, subgraph)\u001b[0m\n\u001b[1;32m     96\u001b[0m     \u001b[0mImportError\u001b[0m\u001b[0;34m:\u001b[0m \u001b[0;32mif\u001b[0m \u001b[0mgraphviz\u001b[0m \u001b[0;32mor\u001b[0m \u001b[0mpydot\u001b[0m \u001b[0mare\u001b[0m \u001b[0;32mnot\u001b[0m \u001b[0mavailable\u001b[0m\u001b[0;34m.\u001b[0m\u001b[0;34m\u001b[0m\u001b[0;34m\u001b[0m\u001b[0m\n\u001b[1;32m     97\u001b[0m   \"\"\"\n\u001b[0;32m---> 98\u001b[0;31m   \u001b[0;32mfrom\u001b[0m \u001b[0mtensorflow\u001b[0m\u001b[0;34m.\u001b[0m\u001b[0mpython\u001b[0m\u001b[0;34m.\u001b[0m\u001b[0mkeras\u001b[0m\u001b[0;34m.\u001b[0m\u001b[0mlayers\u001b[0m \u001b[0;32mimport\u001b[0m \u001b[0mwrappers\u001b[0m\u001b[0;34m\u001b[0m\u001b[0;34m\u001b[0m\u001b[0m\n\u001b[0m\u001b[1;32m     99\u001b[0m   \u001b[0;32mfrom\u001b[0m \u001b[0mtensorflow\u001b[0m\u001b[0;34m.\u001b[0m\u001b[0mpython\u001b[0m\u001b[0;34m.\u001b[0m\u001b[0mkeras\u001b[0m\u001b[0;34m.\u001b[0m\u001b[0mengine\u001b[0m \u001b[0;32mimport\u001b[0m \u001b[0msequential\u001b[0m\u001b[0;34m\u001b[0m\u001b[0;34m\u001b[0m\u001b[0m\n\u001b[1;32m    100\u001b[0m   \u001b[0;32mfrom\u001b[0m \u001b[0mtensorflow\u001b[0m\u001b[0;34m.\u001b[0m\u001b[0mpython\u001b[0m\u001b[0;34m.\u001b[0m\u001b[0mkeras\u001b[0m\u001b[0;34m.\u001b[0m\u001b[0mengine\u001b[0m \u001b[0;32mimport\u001b[0m \u001b[0mfunctional\u001b[0m\u001b[0;34m\u001b[0m\u001b[0;34m\u001b[0m\u001b[0m\n",
            "\u001b[0;31mImportError\u001b[0m: cannot import name 'wrappers' from 'tensorflow.python.keras.layers' (/usr/local/lib/python3.7/dist-packages/tensorflow/python/keras/layers/__init__.py)",
            "",
            "\u001b[0;31m---------------------------------------------------------------------------\u001b[0;32m\nNOTE: If your import is failing due to a missing package, you can\nmanually install dependencies using either !pip or !apt.\n\nTo view examples of installing some common dependencies, click the\n\"Open Examples\" button below.\n\u001b[0;31m---------------------------------------------------------------------------\u001b[0m\n"
          ]
        }
      ],
      "source": [
        "# 모델 구조 출력 및 이미지 파일로 저장\n",
        "from tensorflow.python.keras.utils.vis_utils import plot_model\n",
        "plot_model(model, show_shapes=True, show_layer_names=True, to_file='functional_cnn.png')"
      ]
    },
    {
      "cell_type": "markdown",
      "metadata": {
        "id": "uRlC7L_rao9a"
      },
      "source": [
        "입력 데이터가 두개의 출력으로 나뉘고, 마지막 Dense 레이어를 통과하기 전에 Concatenate 레이어에서 하나로 합쳐지는 구조를 시각적으로 확인"
      ]
    },
    {
      "cell_type": "code",
      "execution_count": null,
      "metadata": {
        "colab": {
          "base_uri": "https://localhost:8080/"
        },
        "id": "w-V54Y6MalVJ",
        "outputId": "8ed1b9d7-ba1e-4376-dff2-6a9939ef8679"
      },
      "outputs": [
        {
          "name": "stdout",
          "output_type": "stream",
          "text": [
            "Epoch 1/10\n",
            "1875/1875 [==============================] - 34s 18ms/step - loss: 0.1989 - accuracy: 0.9445 - val_loss: 0.0831 - val_accuracy: 0.9750\n",
            "Epoch 2/10\n",
            "1875/1875 [==============================] - 32s 17ms/step - loss: 0.0762 - accuracy: 0.9778 - val_loss: 0.0652 - val_accuracy: 0.9790\n",
            "Epoch 3/10\n",
            "1875/1875 [==============================] - 31s 16ms/step - loss: 0.0586 - accuracy: 0.9826 - val_loss: 0.0646 - val_accuracy: 0.9792\n",
            "Epoch 4/10\n",
            "1875/1875 [==============================] - 37s 20ms/step - loss: 0.0485 - accuracy: 0.9852 - val_loss: 0.0559 - val_accuracy: 0.9819\n",
            "Epoch 5/10\n",
            "1875/1875 [==============================] - 33s 17ms/step - loss: 0.0408 - accuracy: 0.9877 - val_loss: 0.0629 - val_accuracy: 0.9799\n",
            "Epoch 6/10\n",
            "1875/1875 [==============================] - 32s 17ms/step - loss: 0.0337 - accuracy: 0.9892 - val_loss: 0.0561 - val_accuracy: 0.9822\n",
            "Epoch 7/10\n",
            "1875/1875 [==============================] - 34s 18ms/step - loss: 0.0290 - accuracy: 0.9909 - val_loss: 0.0548 - val_accuracy: 0.9842\n",
            "Epoch 8/10\n",
            "1875/1875 [==============================] - 35s 18ms/step - loss: 0.0235 - accuracy: 0.9925 - val_loss: 0.0596 - val_accuracy: 0.9834\n",
            "Epoch 9/10\n",
            "1875/1875 [==============================] - 37s 20ms/step - loss: 0.0204 - accuracy: 0.9933 - val_loss: 0.0562 - val_accuracy: 0.9843\n",
            "Epoch 10/10\n",
            "1875/1875 [==============================] - 32s 17ms/step - loss: 0.0167 - accuracy: 0.9949 - val_loss: 0.0636 - val_accuracy: 0.9838\n",
            "313/313 [==============================] - 2s 7ms/step - loss: 0.0636 - accuracy: 0.9838\n",
            "0.0636124238371849 0.9837999939918518\n"
          ]
        }
      ],
      "source": [
        "# 모델 컴파일\n",
        "model.compile(optimizer='adam', loss='sparse_categorical_crossentropy', metrics=['accuracy'])\n",
        "\n",
        "# 모델 훈련\n",
        "history = model.fit(x_train_in, y_train, \n",
        "                    validation_data=(x_valid_in, y_valid), \n",
        "                    epochs=10)\n",
        "\n",
        "# 모델 성능\n",
        "val_loss, val_acc = model.evaluate(x_valid_in, y_valid)\n",
        "print(val_loss, val_acc)"
      ]
    },
    {
      "cell_type": "markdown",
      "metadata": {
        "id": "LF_svhL4bAHK"
      },
      "source": [
        "정확도는 Sequential 모델과 큰 차이는 없음"
      ]
    },
    {
      "cell_type": "markdown",
      "metadata": {
        "id": "QNgTGQIHbD2C"
      },
      "source": [
        "## 3-3 다중 출력 분류 모델\n",
        "두 가지 서로 다른 분류 문제를 예측하는 다중 출력 모델을 만들자  \n",
        "> 0~9 숫자 + 홀, 짝"
      ]
    },
    {
      "cell_type": "code",
      "execution_count": null,
      "metadata": {
        "colab": {
          "base_uri": "https://localhost:8080/"
        },
        "id": "Q4REaVQUa8ot",
        "outputId": "88f15663-3428-4837-8da3-3beb2d67db10"
      },
      "outputs": [
        {
          "name": "stdout",
          "output_type": "stream",
          "text": [
            "Model: \"model_2\"\n",
            "__________________________________________________________________________________________________\n",
            " Layer (type)                   Output Shape         Param #     Connected to                     \n",
            "==================================================================================================\n",
            " inputs (InputLayer)            [(None, 28, 28, 1)]  0           []                               \n",
            "                                                                                                  \n",
            " conv2d_layer (Conv2D)          (None, 26, 26, 32)   320         ['inputs[0][0]']                 \n",
            "                                                                                                  \n",
            " maxpool_layer (MaxPooling2D)   (None, 13, 13, 32)   0           ['conv2d_layer[0][0]']           \n",
            "                                                                                                  \n",
            " flatten_layer (Flatten)        (None, 5408)         0           ['maxpool_layer[0][0]']          \n",
            "                                                                                                  \n",
            " flatten_3 (Flatten)            (None, 784)          0           ['inputs[0][0]']                 \n",
            "                                                                                                  \n",
            " concatenate_1 (Concatenate)    (None, 6192)         0           ['flatten_layer[0][0]',          \n",
            "                                                                  'flatten_3[0][0]']              \n",
            "                                                                                                  \n",
            " digit_dense (Dense)            (None, 10)           61930       ['concatenate_1[0][0]']          \n",
            "                                                                                                  \n",
            " odd_dense (Dense)              (None, 1)            785         ['flatten_3[0][0]']              \n",
            "                                                                                                  \n",
            "==================================================================================================\n",
            "Total params: 63,035\n",
            "Trainable params: 63,035\n",
            "Non-trainable params: 0\n",
            "__________________________________________________________________________________________________\n"
          ]
        }
      ],
      "source": [
        "# Functional API를 사용하여 모델 생성\n",
        "\n",
        "inputs = tf.keras.layers.Input(shape=(28, 28, 1), name='inputs')\n",
        "\n",
        "conv = tf.keras.layers.Conv2D(32, (3, 3), activation='relu', name='conv2d_layer')(inputs)\n",
        "pool = tf.keras.layers.MaxPooling2D((2, 2), name='maxpool_layer')(conv)\n",
        "flat = tf.keras.layers.Flatten(name='flatten_layer')(pool)\n",
        "\n",
        "flat_inputs = tf.keras.layers.Flatten()(inputs)\n",
        "concat = tf.keras.layers.Concatenate()([flat, flat_inputs])\n",
        "digit_outputs = tf.keras.layers.Dense(10, activation='softmax', name='digit_dense')(concat)\n",
        "\n",
        "odd_outputs = tf.keras.layers.Dense(1, activation='sigmoid', name='odd_dense')(flat_inputs)\n",
        "\n",
        "model = tf.keras.models.Model(inputs=inputs, outputs=[digit_outputs, odd_outputs])\n",
        "\n",
        "model.summary()"
      ]
    },
    {
      "cell_type": "code",
      "execution_count": null,
      "metadata": {
        "colab": {
          "base_uri": "https://localhost:8080/"
        },
        "id": "l2Am5CMkbXWY",
        "outputId": "3fa6454d-43bd-4b0d-fae7-2b04ef1ade46"
      },
      "outputs": [
        {
          "name": "stdout",
          "output_type": "stream",
          "text": [
            "KerasTensor(type_spec=TensorSpec(shape=(None, 28, 28, 1), dtype=tf.float32, name='inputs'), name='inputs', description=\"created by layer 'inputs'\")\n",
            "[<KerasTensor: shape=(None, 10) dtype=float32 (created by layer 'digit_dense')>, <KerasTensor: shape=(None, 1) dtype=float32 (created by layer 'odd_dense')>]\n"
          ]
        }
      ],
      "source": [
        "# 모델의 입력과 출력을 나타내는 텐서\n",
        "print(model.input)\n",
        "print(model.output)"
      ]
    },
    {
      "cell_type": "code",
      "execution_count": null,
      "metadata": {
        "id": "TLIbVJzubbaq"
      },
      "outputs": [],
      "source": [
        "plot_model(model, show_shapes=True, show_layer_names=True, to_file='multi_output_cnn.png')"
      ]
    },
    {
      "cell_type": "markdown",
      "metadata": {
        "id": "_aUEZ6krblCe"
      },
      "source": [
        "지정한 이름을 key, 해당 key에 해당하는 레이어에 적용할 손실함수와 가중치를 딕셔너리 형태로 지"
      ]
    },
    {
      "cell_type": "code",
      "execution_count": null,
      "metadata": {
        "colab": {
          "base_uri": "https://localhost:8080/"
        },
        "id": "aBbyN9hebsy9",
        "outputId": "df122d29-8ba3-4e9d-cfe4-e203867c4ec5"
      },
      "outputs": [
        {
          "name": "stdout",
          "output_type": "stream",
          "text": [
            "Epoch 1/10\n",
            "1875/1875 [==============================] - 38s 20ms/step - loss: 0.3633 - digit_dense_loss: 0.2007 - odd_dense_loss: 0.3253 - digit_dense_accuracy: 0.9424 - odd_dense_accuracy: 0.8626 - val_loss: 0.2226 - val_digit_dense_loss: 0.0847 - val_odd_dense_loss: 0.2757 - val_digit_dense_accuracy: 0.9743 - val_odd_dense_accuracy: 0.8894\n",
            "Epoch 2/10\n",
            "1875/1875 [==============================] - 37s 20ms/step - loss: 0.2122 - digit_dense_loss: 0.0761 - odd_dense_loss: 0.2721 - digit_dense_accuracy: 0.9775 - odd_dense_accuracy: 0.8915 - val_loss: 0.1952 - val_digit_dense_loss: 0.0633 - val_odd_dense_loss: 0.2638 - val_digit_dense_accuracy: 0.9795 - val_odd_dense_accuracy: 0.8963\n",
            "Epoch 3/10\n",
            "1875/1875 [==============================] - 40s 21ms/step - loss: 0.1893 - digit_dense_loss: 0.0580 - odd_dense_loss: 0.2628 - digit_dense_accuracy: 0.9827 - odd_dense_accuracy: 0.8959 - val_loss: 0.1908 - val_digit_dense_loss: 0.0607 - val_odd_dense_loss: 0.2603 - val_digit_dense_accuracy: 0.9793 - val_odd_dense_accuracy: 0.8965\n",
            "Epoch 4/10\n",
            "1875/1875 [==============================] - 36s 19ms/step - loss: 0.1781 - digit_dense_loss: 0.0486 - odd_dense_loss: 0.2590 - digit_dense_accuracy: 0.9848 - odd_dense_accuracy: 0.8979 - val_loss: 0.1939 - val_digit_dense_loss: 0.0655 - val_odd_dense_loss: 0.2568 - val_digit_dense_accuracy: 0.9793 - val_odd_dense_accuracy: 0.9007\n",
            "Epoch 5/10\n",
            "1875/1875 [==============================] - 33s 17ms/step - loss: 0.1685 - digit_dense_loss: 0.0399 - odd_dense_loss: 0.2572 - digit_dense_accuracy: 0.9874 - odd_dense_accuracy: 0.8985 - val_loss: 0.1839 - val_digit_dense_loss: 0.0556 - val_odd_dense_loss: 0.2566 - val_digit_dense_accuracy: 0.9826 - val_odd_dense_accuracy: 0.9026\n",
            "Epoch 6/10\n",
            "1875/1875 [==============================] - 33s 17ms/step - loss: 0.1611 - digit_dense_loss: 0.0333 - odd_dense_loss: 0.2555 - digit_dense_accuracy: 0.9893 - odd_dense_accuracy: 0.8996 - val_loss: 0.1859 - val_digit_dense_loss: 0.0570 - val_odd_dense_loss: 0.2577 - val_digit_dense_accuracy: 0.9829 - val_odd_dense_accuracy: 0.8994\n",
            "Epoch 7/10\n",
            "1875/1875 [==============================] - 32s 17ms/step - loss: 0.1559 - digit_dense_loss: 0.0285 - odd_dense_loss: 0.2547 - digit_dense_accuracy: 0.9910 - odd_dense_accuracy: 0.8998 - val_loss: 0.1882 - val_digit_dense_loss: 0.0599 - val_odd_dense_loss: 0.2566 - val_digit_dense_accuracy: 0.9822 - val_odd_dense_accuracy: 0.9025\n",
            "Epoch 8/10\n",
            "1875/1875 [==============================] - 34s 18ms/step - loss: 0.1510 - digit_dense_loss: 0.0239 - odd_dense_loss: 0.2542 - digit_dense_accuracy: 0.9926 - odd_dense_accuracy: 0.9011 - val_loss: 0.1916 - val_digit_dense_loss: 0.0640 - val_odd_dense_loss: 0.2552 - val_digit_dense_accuracy: 0.9818 - val_odd_dense_accuracy: 0.9005\n",
            "Epoch 9/10\n",
            "1875/1875 [==============================] - 33s 17ms/step - loss: 0.1475 - digit_dense_loss: 0.0207 - odd_dense_loss: 0.2537 - digit_dense_accuracy: 0.9937 - odd_dense_accuracy: 0.9008 - val_loss: 0.1866 - val_digit_dense_loss: 0.0591 - val_odd_dense_loss: 0.2549 - val_digit_dense_accuracy: 0.9829 - val_odd_dense_accuracy: 0.9022\n",
            "Epoch 10/10\n",
            "1875/1875 [==============================] - 33s 17ms/step - loss: 0.1439 - digit_dense_loss: 0.0174 - odd_dense_loss: 0.2531 - digit_dense_accuracy: 0.9944 - odd_dense_accuracy: 0.9007 - val_loss: 0.1877 - val_digit_dense_loss: 0.0598 - val_odd_dense_loss: 0.2558 - val_digit_dense_accuracy: 0.9828 - val_odd_dense_accuracy: 0.9006\n"
          ]
        }
      ],
      "source": [
        "# 모델 컴파일\n",
        "model.compile(optimizer='adam', \n",
        "              loss={'digit_dense': 'sparse_categorical_crossentropy', 'odd_dense': 'binary_crossentropy'}, \n",
        "              loss_weights={'digit_dense': 1, 'odd_dense': 0.5}, # loss = 1.0 *sparse_categorical_crossentropy + 0.5*binary_crossentropy\n",
        "              metrics=['accuracy'])\n",
        "\n",
        "# 모델 훈련\n",
        "history = model.fit({'inputs': x_train_in}, {'digit_dense': y_train, 'odd_dense': y_train_odd}, \n",
        "                    validation_data=({'inputs': x_valid_in},  {'digit_dense': y_valid, 'odd_dense': y_valid_odd}), \n",
        "                    epochs=10)"
      ]
    },
    {
      "cell_type": "code",
      "execution_count": null,
      "metadata": {
        "colab": {
          "base_uri": "https://localhost:8080/"
        },
        "id": "e1yyPVnNbx3I",
        "outputId": "1b714478-b9fc-45a9-ae93-4d4a492d6103"
      },
      "outputs": [
        {
          "name": "stdout",
          "output_type": "stream",
          "text": [
            "313/313 [==============================] - 2s 8ms/step - loss: 0.1877 - digit_dense_loss: 0.0598 - odd_dense_loss: 0.2558 - digit_dense_accuracy: 0.9828 - odd_dense_accuracy: 0.9006\n"
          ]
        },
        {
          "data": {
            "text/plain": [
              "[0.18767784535884857,\n",
              " 0.059794824570417404,\n",
              " 0.25576600432395935,\n",
              " 0.9828000068664551,\n",
              " 0.900600016117096]"
            ]
          },
          "execution_count": 39,
          "metadata": {},
          "output_type": "execute_result"
        }
      ],
      "source": [
        "# 모델 성능\n",
        "model.evaluate({'inputs': x_valid_in}, {'digit_dense': y_valid, 'odd_dense': y_valid_odd})"
      ]
    },
    {
      "cell_type": "markdown",
      "metadata": {
        "id": "ARv3WVzlbyUh"
      },
      "source": [
        "정확도: 숫자 맞춤 > 짝, 홀 여부 "
      ]
    },
    {
      "cell_type": "code",
      "execution_count": null,
      "metadata": {
        "colab": {
          "base_uri": "https://localhost:8080/",
          "height": 303
        },
        "id": "DWT64Z-Fb3e9",
        "outputId": "7fa2a55c-1f50-4d97-bb30-329add9437d0"
      },
      "outputs": [
        {
          "data": {
            "image/png": "[encoded data removed]",
            "text/plain": [
              "<Figure size 360x360 with 1 Axes>"
            ]
          },
          "metadata": {},
          "output_type": "display_data"
        }
      ],
      "source": [
        "# 샘플 이미지 출력\n",
        "import matplotlib.pylab as plt\n",
        "\n",
        "def plot_image(data, idx):\n",
        "    plt.figure(figsize=(5, 5))\n",
        "    plt.imshow(data[idx])\n",
        "    plt.axis(\"off\")\n",
        "    plt.show()\n",
        "\n",
        "plot_image(x_valid, 0)"
      ]
    },
    {
      "cell_type": "code",
      "execution_count": null,
      "metadata": {
        "colab": {
          "base_uri": "https://localhost:8080/"
        },
        "id": "3TmGjZDGb8zl",
        "outputId": "c03b5939-2794-470e-f310-92bf749c8875"
      },
      "outputs": [
        {
          "name": "stdout",
          "output_type": "stream",
          "text": [
            "[1.8521183e-12 2.9130939e-10 5.3248304e-09 7.5710625e-07 1.1651352e-11\n",
            " 8.7914089e-13 3.8965396e-20 9.9999928e-01 2.7062035e-09 5.2058682e-09]\n",
            "[0.99959517]\n"
          ]
        }
      ],
      "source": [
        "digit_preds, odd_preds = model.predict(x_valid_in)\n",
        "print(digit_preds[0])\n",
        "print(odd_preds[0])"
      ]
    },
    {
      "cell_type": "code",
      "execution_count": null,
      "metadata": {
        "colab": {
          "base_uri": "https://localhost:8080/"
        },
        "id": "dewAVRLJcCCg",
        "outputId": "e4c11e59-edf8-4dd7-f4b5-b3f536409144"
      },
      "outputs": [
        {
          "data": {
            "text/plain": [
              "array([7, 2, 1, 0, 4, 1, 4, 9, 5, 9])"
            ]
          },
          "execution_count": 42,
          "metadata": {},
          "output_type": "execute_result"
        }
      ],
      "source": [
        "digit_labels = np.argmax(digit_preds, axis=-1) # 예측 확률 -> 정답 레이블로 변환\n",
        "digit_labels[0:10]"
      ]
    },
    {
      "cell_type": "code",
      "execution_count": null,
      "metadata": {
        "colab": {
          "base_uri": "https://localhost:8080/"
        },
        "id": "tXlEjv6-cTPA",
        "outputId": "cd44b212-dc97-4be2-a261-4aa7b120d4de"
      },
      "outputs": [
        {
          "name": "stderr",
          "output_type": "stream",
          "text": [
            "/usr/local/lib/python3.7/dist-packages/ipykernel_launcher.py:1: DeprecationWarning: `np.int` is a deprecated alias for the builtin `int`. To silence this warning, use `int` by itself. Doing this will not modify any behavior and is safe. When replacing `np.int`, you may wish to use e.g. `np.int64` or `np.int32` to specify the precision. If you wish to review your current use, check the release note link for additional information.\n",
            "Deprecated in NumPy 1.20; for more details and guidance: https://numpy.org/devdocs/release/1.20.0-notes.html#deprecations\n",
            "  \"\"\"Entry point for launching an IPython kernel.\n"
          ]
        },
        {
          "data": {
            "text/plain": [
              "array([1, 0, 1, 0, 0, 1, 0, 1, 0, 1])"
            ]
          },
          "execution_count": 43,
          "metadata": {},
          "output_type": "execute_result"
        }
      ],
      "source": [
        "odd_labels = (odd_preds > 0.5).astype(np.int).reshape(1, -1)[0]\n",
        "odd_labels[0:10]"
      ]
    },
    {
      "cell_type": "markdown",
      "metadata": {
        "id": "EIEeDKmYccCd"
      },
      "source": [
        "## 3-4 전이 학습\n",
        "앞서 훈련한 모델의 일부를 그대로 사용 + 최종 출력층만 새롭게 추가"
      ]
    },
    {
      "cell_type": "code",
      "execution_count": null,
      "metadata": {
        "colab": {
          "base_uri": "https://localhost:8080/"
        },
        "id": "iVbdvXK4cpne",
        "outputId": "f42db891-928d-4d41-a1b4-99ce83207625"
      },
      "outputs": [
        {
          "name": "stdout",
          "output_type": "stream",
          "text": [
            "Model: \"base\"\n",
            "_________________________________________________________________\n",
            " Layer (type)                Output Shape              Param #   \n",
            "=================================================================\n",
            " inputs (InputLayer)         [(None, 28, 28, 1)]       0         \n",
            "                                                                 \n",
            " conv2d_layer (Conv2D)       (None, 26, 26, 32)        320       \n",
            "                                                                 \n",
            " maxpool_layer (MaxPooling2D  (None, 13, 13, 32)       0         \n",
            " )                                                               \n",
            "                                                                 \n",
            " flatten_layer (Flatten)     (None, 5408)              0         \n",
            "                                                                 \n",
            "=================================================================\n",
            "Total params: 320\n",
            "Trainable params: 320\n",
            "Non-trainable params: 0\n",
            "_________________________________________________________________\n"
          ]
        }
      ],
      "source": [
        "# 앞의 모델에서 flatten_layer 출력을 추출\n",
        "base_model_output = model.get_layer('flatten_layer').output\n",
        "\n",
        "# 앞의 출력을 출력으로 하는 모델 정의\n",
        "base_model = tf.keras.models.Model(inputs=model.input, outputs=base_model_output, name='base')\n",
        "base_model.summary()"
      ]
    },
    {
      "cell_type": "code",
      "execution_count": null,
      "metadata": {
        "id": "lFRQWXKlc2ZT"
      },
      "outputs": [],
      "source": [
        "plot_model(base_model, show_shapes=True, show_layer_names=True, to_file='base_model.png')"
      ]
    },
    {
      "cell_type": "code",
      "execution_count": null,
      "metadata": {
        "colab": {
          "base_uri": "https://localhost:8080/"
        },
        "id": "EZIYmVJZc6Gn",
        "outputId": "96d07289-a6a2-4ab9-9da5-8e34d8bf27db"
      },
      "outputs": [
        {
          "name": "stdout",
          "output_type": "stream",
          "text": [
            "Model: \"sequential_1\"\n",
            "_________________________________________________________________\n",
            " Layer (type)                Output Shape              Param #   \n",
            "=================================================================\n",
            " base (Functional)           (None, 5408)              320       \n",
            "                                                                 \n",
            " dense_2 (Dense)             (None, 10)                54090     \n",
            "                                                                 \n",
            "=================================================================\n",
            "Total params: 54,410\n",
            "Trainable params: 54,410\n",
            "Non-trainable params: 0\n",
            "_________________________________________________________________\n"
          ]
        }
      ],
      "source": [
        "# Sequential API 적용\n",
        "digit_model = tf.keras.Sequential([\n",
        "                                   base_model,\n",
        "                                   tf.keras.layers.Dense(10, activation='softmax'),\n",
        "                                   ])\n",
        "digit_model.summary()"
      ]
    },
    {
      "cell_type": "code",
      "execution_count": null,
      "metadata": {
        "id": "h5NLkKeWc9hV"
      },
      "outputs": [],
      "source": [
        "plot_model(digit_model, show_shapes=True, show_layer_names=True, to_file='digit_model.png')"
      ]
    },
    {
      "cell_type": "code",
      "execution_count": null,
      "metadata": {
        "colab": {
          "base_uri": "https://localhost:8080/"
        },
        "id": "rx2Z6lA_c969",
        "outputId": "e8460b58-b126-4a7c-9067-daacb3043ed1"
      },
      "outputs": [
        {
          "name": "stdout",
          "output_type": "stream",
          "text": [
            "Epoch 1/10\n",
            "1875/1875 [==============================] - 32s 17ms/step - loss: 0.1290 - accuracy: 0.9631 - val_loss: 0.0693 - val_accuracy: 0.9776\n",
            "Epoch 2/10\n",
            "1875/1875 [==============================] - 31s 16ms/step - loss: 0.0579 - accuracy: 0.9828 - val_loss: 0.0530 - val_accuracy: 0.9834\n",
            "Epoch 3/10\n",
            "1875/1875 [==============================] - 31s 17ms/step - loss: 0.0447 - accuracy: 0.9864 - val_loss: 0.0547 - val_accuracy: 0.9826\n",
            "Epoch 4/10\n",
            "1875/1875 [==============================] - 31s 16ms/step - loss: 0.0361 - accuracy: 0.9884 - val_loss: 0.0524 - val_accuracy: 0.9837\n",
            "Epoch 5/10\n",
            "1875/1875 [==============================] - 30s 16ms/step - loss: 0.0289 - accuracy: 0.9911 - val_loss: 0.0469 - val_accuracy: 0.9853\n",
            "Epoch 6/10\n",
            "1875/1875 [==============================] - 31s 16ms/step - loss: 0.0250 - accuracy: 0.9926 - val_loss: 0.0531 - val_accuracy: 0.9840\n",
            "Epoch 7/10\n",
            "1875/1875 [==============================] - 30s 16ms/step - loss: 0.0201 - accuracy: 0.9938 - val_loss: 0.0576 - val_accuracy: 0.9831\n",
            "Epoch 8/10\n",
            "1875/1875 [==============================] - 31s 17ms/step - loss: 0.0169 - accuracy: 0.9949 - val_loss: 0.0572 - val_accuracy: 0.9839\n",
            "Epoch 9/10\n",
            "1875/1875 [==============================] - 31s 16ms/step - loss: 0.0139 - accuracy: 0.9960 - val_loss: 0.0567 - val_accuracy: 0.9843\n",
            "Epoch 10/10\n",
            "1875/1875 [==============================] - 32s 17ms/step - loss: 0.0121 - accuracy: 0.9963 - val_loss: 0.0648 - val_accuracy: 0.9825\n"
          ]
        }
      ],
      "source": [
        "# 모델 컴파일\n",
        "digit_model.compile(optimizer='adam', loss='sparse_categorical_crossentropy', metrics=['accuracy'])\n",
        "\n",
        "# 모델 훈련\n",
        "history = digit_model.fit(x_train_in, y_train, \n",
        "                    validation_data=(x_valid_in, y_valid), \n",
        "                    epochs=10)"
      ]
    },
    {
      "cell_type": "code",
      "execution_count": null,
      "metadata": {
        "colab": {
          "base_uri": "https://localhost:8080/"
        },
        "id": "QoJyJzAFdBrK",
        "outputId": "2d735361-0778-464d-ec79-f8a86efe2f81"
      },
      "outputs": [
        {
          "name": "stdout",
          "output_type": "stream",
          "text": [
            "Model: \"base_frozen\"\n",
            "_________________________________________________________________\n",
            " Layer (type)                Output Shape              Param #   \n",
            "=================================================================\n",
            " inputs (InputLayer)         [(None, 28, 28, 1)]       0         \n",
            "                                                                 \n",
            " conv2d_layer (Conv2D)       (None, 26, 26, 32)        320       \n",
            "                                                                 \n",
            " maxpool_layer (MaxPooling2D  (None, 13, 13, 32)       0         \n",
            " )                                                               \n",
            "                                                                 \n",
            " flatten_layer (Flatten)     (None, 5408)              0         \n",
            "                                                                 \n",
            "=================================================================\n",
            "Total params: 320\n",
            "Trainable params: 0\n",
            "Non-trainable params: 320\n",
            "_________________________________________________________________\n"
          ]
        }
      ],
      "source": [
        "# 베이스 모델의 가중치를 고정 (Freeze Model)\n",
        "\n",
        "base_model_frozen = tf.keras.models.Model(inputs=model.input, outputs=base_model_output, name='base_frozen')\n",
        "base_model_frozen.trainable = False\n",
        "base_model_frozen.summary()"
      ]
    },
    {
      "cell_type": "code",
      "execution_count": null,
      "metadata": {
        "colab": {
          "base_uri": "https://localhost:8080/"
        },
        "id": "nGiJmKHudEJW",
        "outputId": "32628618-a385-4bdd-f37c-8bb92c8d877d"
      },
      "outputs": [
        {
          "name": "stdout",
          "output_type": "stream",
          "text": [
            "Model: \"model_3\"\n",
            "_________________________________________________________________\n",
            " Layer (type)                Output Shape              Param #   \n",
            "=================================================================\n",
            " inputs (InputLayer)         [(None, 28, 28, 1)]       0         \n",
            "                                                                 \n",
            " conv2d_layer (Conv2D)       (None, 26, 26, 32)        320       \n",
            "                                                                 \n",
            " maxpool_layer (MaxPooling2D  (None, 13, 13, 32)       0         \n",
            " )                                                               \n",
            "                                                                 \n",
            " flatten_layer (Flatten)     (None, 5408)              0         \n",
            "                                                                 \n",
            " dense_3 (Dense)             (None, 10)                54090     \n",
            "                                                                 \n",
            "=================================================================\n",
            "Total params: 54,410\n",
            "Trainable params: 54,090\n",
            "Non-trainable params: 320\n",
            "_________________________________________________________________\n"
          ]
        }
      ],
      "source": [
        "# Functional API 적용\n",
        "dense_output = tf.keras.layers.Dense(10, activation='softmax')(base_model_frozen.output)\n",
        "digit_model_frozen = tf.keras.models.Model(inputs=base_model_frozen.input, outputs=dense_output)\n",
        "digit_model_frozen.summary()"
      ]
    },
    {
      "cell_type": "code",
      "execution_count": null,
      "metadata": {
        "colab": {
          "base_uri": "https://localhost:8080/"
        },
        "id": "ChzkHRZydGRB",
        "outputId": "1ed80303-3c73-4f05-ddc3-428cbc73c75a"
      },
      "outputs": [
        {
          "name": "stdout",
          "output_type": "stream",
          "text": [
            "Epoch 1/10\n",
            "1875/1875 [==============================] - 17s 9ms/step - loss: 0.1144 - accuracy: 0.9689 - val_loss: 0.0611 - val_accuracy: 0.9801\n",
            "Epoch 2/10\n",
            "1875/1875 [==============================] - 17s 9ms/step - loss: 0.0487 - accuracy: 0.9853 - val_loss: 0.0542 - val_accuracy: 0.9826\n",
            "Epoch 3/10\n",
            "1875/1875 [==============================] - 17s 9ms/step - loss: 0.0350 - accuracy: 0.9887 - val_loss: 0.0504 - val_accuracy: 0.9844\n",
            "Epoch 4/10\n",
            "1875/1875 [==============================] - 16s 9ms/step - loss: 0.0286 - accuracy: 0.9912 - val_loss: 0.0532 - val_accuracy: 0.9838\n",
            "Epoch 5/10\n",
            "1875/1875 [==============================] - 15s 8ms/step - loss: 0.0219 - accuracy: 0.9935 - val_loss: 0.0483 - val_accuracy: 0.9855\n",
            "Epoch 6/10\n",
            "1875/1875 [==============================] - 17s 9ms/step - loss: 0.0176 - accuracy: 0.9949 - val_loss: 0.0546 - val_accuracy: 0.9843\n",
            "Epoch 7/10\n",
            "1875/1875 [==============================] - 16s 9ms/step - loss: 0.0152 - accuracy: 0.9956 - val_loss: 0.0554 - val_accuracy: 0.9848\n",
            "Epoch 8/10\n",
            "1875/1875 [==============================] - 16s 9ms/step - loss: 0.0127 - accuracy: 0.9964 - val_loss: 0.0521 - val_accuracy: 0.9839\n",
            "Epoch 9/10\n",
            "1875/1875 [==============================] - 17s 9ms/step - loss: 0.0101 - accuracy: 0.9972 - val_loss: 0.0607 - val_accuracy: 0.9843\n",
            "Epoch 10/10\n",
            "1875/1875 [==============================] - 16s 9ms/step - loss: 0.0093 - accuracy: 0.9973 - val_loss: 0.0625 - val_accuracy: 0.9836\n"
          ]
        }
      ],
      "source": [
        "# 모델 컴파일\n",
        "digit_model_frozen.compile(optimizer='adam', loss='sparse_categorical_crossentropy', metrics=['accuracy'])\n",
        "\n",
        "# 모델 훈련\n",
        "history = digit_model_frozen.fit(x_train_in, y_train, \n",
        "                    validation_data=(x_valid_in, y_valid), \n",
        "                    epochs=10)"
      ]
    },
    {
      "cell_type": "code",
      "execution_count": null,
      "metadata": {
        "colab": {
          "base_uri": "https://localhost:8080/"
        },
        "id": "-dGSohnLdIPn",
        "outputId": "32492bf1-c677-4ccf-f195-ddc577b425f6"
      },
      "outputs": [
        {
          "name": "stdout",
          "output_type": "stream",
          "text": [
            "Model: \"base_frozen2\"\n",
            "_________________________________________________________________\n",
            " Layer (type)                Output Shape              Param #   \n",
            "=================================================================\n",
            " inputs (InputLayer)         [(None, 28, 28, 1)]       0         \n",
            "                                                                 \n",
            " conv2d_layer (Conv2D)       (None, 26, 26, 32)        320       \n",
            "                                                                 \n",
            " maxpool_layer (MaxPooling2D  (None, 13, 13, 32)       0         \n",
            " )                                                               \n",
            "                                                                 \n",
            " flatten_layer (Flatten)     (None, 5408)              0         \n",
            "                                                                 \n",
            "=================================================================\n",
            "Total params: 320\n",
            "Trainable params: 0\n",
            "Non-trainable params: 320\n",
            "_________________________________________________________________\n"
          ]
        }
      ],
      "source": [
        "# 베이스 모델의 Conv2D 레이어의 가중치만 고정 (Freeze Layer)\n",
        "base_model_frozen2 = tf.keras.models.Model(inputs=model.input, outputs=base_model_output, name='base_frozen2')\n",
        "base_model_frozen2.get_layer('conv2d_layer').trainable = False\n",
        "base_model_frozen2.summary()"
      ]
    },
    {
      "cell_type": "code",
      "execution_count": null,
      "metadata": {
        "colab": {
          "base_uri": "https://localhost:8080/"
        },
        "id": "hUN432kgdKVM",
        "outputId": "48452293-24f1-4ff4-9b4f-34e0a2ff7773"
      },
      "outputs": [
        {
          "name": "stdout",
          "output_type": "stream",
          "text": [
            "Model: \"model_4\"\n",
            "_________________________________________________________________\n",
            " Layer (type)                Output Shape              Param #   \n",
            "=================================================================\n",
            " inputs (InputLayer)         [(None, 28, 28, 1)]       0         \n",
            "                                                                 \n",
            " conv2d_layer (Conv2D)       (None, 26, 26, 32)        320       \n",
            "                                                                 \n",
            " maxpool_layer (MaxPooling2D  (None, 13, 13, 32)       0         \n",
            " )                                                               \n",
            "                                                                 \n",
            " flatten_layer (Flatten)     (None, 5408)              0         \n",
            "                                                                 \n",
            " dense_4 (Dense)             (None, 10)                54090     \n",
            "                                                                 \n",
            "=================================================================\n",
            "Total params: 54,410\n",
            "Trainable params: 54,090\n",
            "Non-trainable params: 320\n",
            "_________________________________________________________________\n"
          ]
        }
      ],
      "source": [
        "# Functional API 적용\n",
        "dense_output2 = tf.keras.layers.Dense(10, activation='softmax')(base_model_frozen2.output)\n",
        "digit_model_frozen2 = tf.keras.models.Model(inputs=base_model_frozen2.input, outputs=dense_output2)\n",
        "digit_model_frozen2.summary()"
      ]
    },
    {
      "cell_type": "code",
      "execution_count": null,
      "metadata": {
        "colab": {
          "background_save": true,
          "base_uri": "https://localhost:8080/"
        },
        "id": "G6McZ5qJdMIj",
        "outputId": "c7872989-3d62-4f9c-a4c2-a2447a37bfe2"
      },
      "outputs": [
        {
          "name": "stdout",
          "output_type": "stream",
          "text": [
            "Epoch 1/10\n",
            "1875/1875 [==============================] - 16s 9ms/step - loss: 0.1154 - accuracy: 0.9691 - val_loss: 0.0586 - val_accuracy: 0.9811\n",
            "Epoch 2/10\n",
            "1875/1875 [==============================] - 16s 9ms/step - loss: 0.0478 - accuracy: 0.9864 - val_loss: 0.0594 - val_accuracy: 0.9818\n",
            "Epoch 3/10\n",
            "1875/1875 [==============================] - 16s 9ms/step - loss: 0.0359 - accuracy: 0.9891 - val_loss: 0.0576 - val_accuracy: 0.9823\n",
            "Epoch 4/10\n",
            "1875/1875 [==============================] - 16s 9ms/step - loss: 0.0281 - accuracy: 0.9914 - val_loss: 0.0567 - val_accuracy: 0.9819\n",
            "Epoch 5/10\n",
            "1875/1875 [==============================] - 16s 9ms/step - loss: 0.0225 - accuracy: 0.9932 - val_loss: 0.0549 - val_accuracy: 0.9842\n",
            "Epoch 6/10\n",
            "1875/1875 [==============================] - 16s 9ms/step - loss: 0.0182 - accuracy: 0.9945 - val_loss: 0.0525 - val_accuracy: 0.9845\n",
            "Epoch 7/10\n",
            "1875/1875 [==============================] - 16s 9ms/step - loss: 0.0147 - accuracy: 0.9958 - val_loss: 0.0569 - val_accuracy: 0.9839\n",
            "Epoch 8/10\n",
            "1875/1875 [==============================] - 16s 9ms/step - loss: 0.0123 - accuracy: 0.9966 - val_loss: 0.0679 - val_accuracy: 0.9816\n",
            "Epoch 9/10\n",
            "1875/1875 [==============================] - 16s 9ms/step - loss: 0.0109 - accuracy: 0.9968 - val_loss: 0.0539 - val_accuracy: 0.9858\n",
            "Epoch 10/10\n",
            "1875/1875 [==============================] - 16s 9ms/step - loss: 0.0091 - accuracy: 0.9979 - val_loss: 0.0602 - val_accuracy: 0.9835\n"
          ]
        }
      ],
      "source": [
        "# 모델 컴파일\n",
        "digit_model_frozen2.compile(optimizer='adam', loss='sparse_categorical_crossentropy', metrics=['accuracy'])\n",
        "\n",
        "# 모델 훈련\n",
        "history = digit_model_frozen2.fit(x_train_in, y_train, \n",
        "                    validation_data=(x_valid_in, y_valid), \n",
        "                    epochs=10)"
      ]
    }
  ],
  "metadata": {
    "colab": {
      "collapsed_sections": [],
      "name": "0620_합성곱.ipynb",
      "toc_visible": true,
      "provenance": [],
      "authorship_tag": "ABX9TyMla04v/d+Pno6FUlLFzNbf",
      "include_colab_link": true
    },
    "kernelspec": {
      "display_name": "Python 3",
      "name": "python3"
    },
    "language_info": {
      "name": "python"
    }
  },
  "nbformat": 4,
  "nbformat_minor": 0
}