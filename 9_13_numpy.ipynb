{
 "cells": [
  {
   "cell_type": "code",
   "execution_count": 2,
   "metadata": {},
   "outputs": [],
   "source": [
    "# 넘파이 : 빠른 배열 기반의 연산을 가능하게 하고, 데이터 핸들링을 가능하게 하는 패키지\n",
    "import numpy as np"
   ]
  },
  {
   "cell_type": "markdown",
   "metadata": {},
   "source": [
    "# ndarray : 넘파이 기반의 데이터 타입\n",
    "- np.array()를 사용해 변환 -> 인자로 주로 리스트 객체 사용\n",
    "- shape 변수로 행, 열, 차원 확인\n",
    "- 그 연산의 특성상 같은 데이터 타입만 가능 (dtype으로 확인/ astype()으로 변환)\n",
    "\n",
    "1) arange,zeros,ones() : ndarray를 쉽게 생성\n",
    "    * arange() : array를 range()로 표현\n",
    "    \n",
    "2) reshape() : ndarray를 특정 차원 및 크기로 변환\n",
    "    * reshape(-1,1) : 2차원, 여러개의 행, 1개 열 \n",
    "    \n",
    "3) indexing : ndarray내 특정 데이터 선택\n",
    "    ㄱ) 단일 값 추출 : axis=0 (행), axis=1 (열)\n",
    "    ㄴ) 슬라이싱 :  ':'를 이용해 연속한 값을 반환\n",
    "    ㄷ) 팬시인덱싱 : 입력된 인덱스 값을 반환\n",
    "    ㄹ) 불린인덱싱 : 특정 조건에 해당하는 인덱스 값을 반환\n",
    "    \n",
    "4) 행렬의 정렬\n",
    "    ㄱ) np.sort() : 원 행렬 유지, 정렬된 행렬 반환\n",
    "    ㄴ) ndarray.sort() : 원 행렬을 정렬한 형태로 반환\n",
    "    ㄷ) argsort(): 정렬된 행렬의 인덱스를 반환\n",
    "      * 내림차순 정렬 : [::-1]\n",
    "\n",
    "5) 선행대수 연산 - 행렬 내적, 전치 행렬\n",
    "    ㄱ) 행렬 내적 : np.dot() (왼쪽 행렬 열 개수 = 오른쪽 행렬 행 개수)\n",
    "    ㄴ) 전치 행렬 : transpose()"
   ]
  },
  {
   "cell_type": "code",
   "execution_count": 13,
   "metadata": {},
   "outputs": [
    {
     "name": "stdout",
     "output_type": "stream",
     "text": [
      "<class 'numpy.ndarray'> (3,)\n",
      "<class 'numpy.ndarray'> (2, 3)\n",
      "<class 'numpy.ndarray'> (1, 3)\n"
     ]
    }
   ],
   "source": [
    "array1 = np.array([1,2,3])\n",
    "print(type(array1), array1.shape)\n",
    "\n",
    "array2 = np.array([[1,2,3],\n",
    "                  [3,4,5]])\n",
    "print(type(array2), array2.shape)\n",
    "\n",
    "array3 = np.array([[1,2,3]])\n",
    "print(type(array3), array3.shape)"
   ]
  },
  {
   "cell_type": "code",
   "execution_count": 15,
   "metadata": {},
   "outputs": [
    {
     "name": "stdout",
     "output_type": "stream",
     "text": [
      "1:1 , 2:2, 3:2\n"
     ]
    }
   ],
   "source": [
    "print(\"1:%d , 2:%d, 3:%d\" %(array1.ndim, array2.ndim, array3.ndim))"
   ]
  },
  {
   "cell_type": "code",
   "execution_count": 19,
   "metadata": {},
   "outputs": [
    {
     "name": "stdout",
     "output_type": "stream",
     "text": [
      "<class 'list'>\n",
      "<class 'numpy.ndarray'>\n",
      "int32\n"
     ]
    }
   ],
   "source": [
    "list1 = [1,2,3]\n",
    "array1 = np.array(list1)\n",
    "print(type(array1))\n",
    "print(array1.dtype)"
   ]
  },
  {
   "cell_type": "code",
   "execution_count": 21,
   "metadata": {},
   "outputs": [
    {
     "name": "stdout",
     "output_type": "stream",
     "text": [
      "['1' '2' 'test'] <U11\n",
      "[1. 2. 3.] float64\n"
     ]
    }
   ],
   "source": [
    "# 데이터 크기가 더 큰 타입으로 형 변환\n",
    "list2 = [1,2,\"test\"]\n",
    "array2=np.array(list2)\n",
    "print(array2,array2.dtype)\n",
    "\n",
    "list3 = [1,2,3.0]\n",
    "array3=np.array(list3)\n",
    "print(array3,array3.dtype)"
   ]
  },
  {
   "cell_type": "code",
   "execution_count": 26,
   "metadata": {},
   "outputs": [
    {
     "name": "stdout",
     "output_type": "stream",
     "text": [
      "[1. 2. 3.] float64\n",
      "[1 2 3] int32\n"
     ]
    }
   ],
   "source": [
    "float=array1.astype('float64')\n",
    "print(float,float.dtype)\n",
    "int=array3.astype('int32')\n",
    "print(int,int.dtype)"
   ]
  },
  {
   "cell_type": "code",
   "execution_count": 31,
   "metadata": {},
   "outputs": [
    {
     "name": "stdout",
     "output_type": "stream",
     "text": [
      "[0 1 2 3 4 5 6 7 8 9] int32 (10,)\n",
      "[[0 0]\n",
      " [0 0]\n",
      " [0 0]] int32 (3, 2)\n",
      "[[1. 1.]\n",
      " [1. 1.]\n",
      " [1. 1.]] float64 (3, 2)\n"
     ]
    }
   ],
   "source": [
    "se_array = np.arange(10)\n",
    "print(se_array,se_array.dtype, se_array.shape)\n",
    "\n",
    "ze_array = np.zeros((3,2), dtype='int32')\n",
    "print(ze_array,ze_array.dtype, ze_array.shape)\n",
    "on_array = np. ones((3,2))\n",
    "print(on_array,on_array.dtype, on_array.shape)"
   ]
  },
  {
   "cell_type": "code",
   "execution_count": 36,
   "metadata": {},
   "outputs": [
    {
     "name": "stdout",
     "output_type": "stream",
     "text": [
      "[0 1 2 3 4 5 6 7 8 9]\n",
      "[[0 1 2 3 4]\n",
      " [5 6 7 8 9]]\n",
      "[[0 1]\n",
      " [2 3]\n",
      " [4 5]\n",
      " [6 7]\n",
      " [8 9]]\n"
     ]
    }
   ],
   "source": [
    "#reshape\n",
    "array1 = np.arange(10)\n",
    "array2 = array1.reshape(2,5)\n",
    "array3 = array1.reshape(5,2)\n",
    "print(array1)\n",
    "print(array2)\n",
    "print(array3)"
   ]
  },
  {
   "cell_type": "code",
   "execution_count": 53,
   "metadata": {},
   "outputs": [
    {
     "name": "stdout",
     "output_type": "stream",
     "text": [
      "[[[0, 1], [2, 3]], [[4, 5], [6, 7]]] (2, 2, 2)\n",
      "[[0], [1], [2], [3], [4], [5], [6], [7]] (8, 1)\n",
      "[[0], [1], [2], [3], [4], [5], [6], [7]] (8, 1)\n"
     ]
    }
   ],
   "source": [
    "array1= np.arange(8)\n",
    "array3d = array1.reshape((2,2,2))\n",
    "print(array3d.tolist(), array3d.shape)\n",
    "# 3->2\n",
    "array5 = array3d.reshape(-1,1)\n",
    "print(array5.tolist(), array5.shape)\n",
    "# 1->2 \n",
    "array6 = array1.reshape(-1,1)\n",
    "print(array6.tolist(), array6.shape)\n"
   ]
  },
  {
   "cell_type": "code",
   "execution_count": 59,
   "metadata": {},
   "outputs": [
    {
     "name": "stdout",
     "output_type": "stream",
     "text": [
      "3 <class 'numpy.int32'>\n"
     ]
    },
    {
     "data": {
      "text/plain": [
       "array([9, 2, 3, 4, 5, 6, 7, 8, 0])"
      ]
     },
     "execution_count": 59,
     "metadata": {},
     "output_type": "execute_result"
    }
   ],
   "source": [
    "# 인덱싱\n",
    "## 단일값 추출\n",
    "array1 = np.arange(1,10)\n",
    "value = array1[2]\n",
    "print(value, type(value))\n",
    "array1[0] = 9\n",
    "array1[8] = 0\n",
    "array1"
   ]
  },
  {
   "cell_type": "code",
   "execution_count": 64,
   "metadata": {},
   "outputs": [
    {
     "name": "stdout",
     "output_type": "stream",
     "text": [
      "[[1 2 3]\n",
      " [4 5 6]\n",
      " [7 8 9]] 6\n"
     ]
    }
   ],
   "source": [
    "array1d = np.arange(1,10)\n",
    "array2d = array1d.reshape(3,3)\n",
    "print(array2d, array2d[1,2]) # axis=0 행 , axis=1 열 "
   ]
  },
  {
   "cell_type": "code",
   "execution_count": 66,
   "metadata": {},
   "outputs": [
    {
     "name": "stdout",
     "output_type": "stream",
     "text": [
      "[1 2 3] <class 'numpy.ndarray'>\n"
     ]
    }
   ],
   "source": [
    "#슬라이싱\n",
    "array1 = np.arange(1,10)\n",
    "array3 = array1[0:3]\n",
    "print(array3, type(array3))"
   ]
  },
  {
   "cell_type": "code",
   "execution_count": 70,
   "metadata": {},
   "outputs": [
    {
     "data": {
      "text/plain": [
       "array([[2, 3],\n",
       "       [5, 6]])"
      ]
     },
     "execution_count": 70,
     "metadata": {},
     "output_type": "execute_result"
    }
   ],
   "source": [
    "array2d[:2,1:]"
   ]
  },
  {
   "cell_type": "code",
   "execution_count": 73,
   "metadata": {},
   "outputs": [
    {
     "name": "stdout",
     "output_type": "stream",
     "text": [
      "[[1 2 3]\n",
      " [4 5 6]\n",
      " [7 8 9]]\n",
      "[3 6]\n"
     ]
    }
   ],
   "source": [
    "#팬시 인덱싱\n",
    "array1d = np.arange(1,10)\n",
    "array2d = array1d.reshape(3,3)\n",
    "print(array2d)\n",
    "\n",
    "array3 = array2d[[0,1],2]\n",
    "print(array3)"
   ]
  },
  {
   "cell_type": "code",
   "execution_count": 89,
   "metadata": {},
   "outputs": [
    {
     "name": "stdout",
     "output_type": "stream",
     "text": [
      "[6 7 8 9]\n",
      "[6 7 8 9]\n"
     ]
    }
   ],
   "source": [
    "#불린 인덱싱\n",
    "array3 = array1d[array1d >5]\n",
    "print(array3)\n",
    "bool = np. array([False, False, False, False, False,  True,  True,  True,  True])\n",
    "array4 = array1d[bool]\n",
    "print(array4)"
   ]
  },
  {
   "cell_type": "code",
   "execution_count": 94,
   "metadata": {},
   "outputs": [
    {
     "name": "stdout",
     "output_type": "stream",
     "text": [
      "[1 3 5 9]\n",
      "[3 1 9 5]\n",
      "[9 5 3 1]\n"
     ]
    }
   ],
   "source": [
    "#정렬\n",
    "o_array = np.array([3,1,9,5])\n",
    "sort1=np.sort(o_array)\n",
    "print(sort1)\n",
    "print(o_array)\n",
    "print(np.sort(o_array)[::-1])"
   ]
  },
  {
   "cell_type": "code",
   "execution_count": 92,
   "metadata": {},
   "outputs": [
    {
     "name": "stdout",
     "output_type": "stream",
     "text": [
      "None\n",
      "[1 3 5 9]\n"
     ]
    }
   ],
   "source": [
    "sort2=o_array.sort()\n",
    "print(sort2)\n",
    "print(o_array)\n"
   ]
  },
  {
   "cell_type": "code",
   "execution_count": 96,
   "metadata": {},
   "outputs": [
    {
     "name": "stdout",
     "output_type": "stream",
     "text": [
      "<class 'numpy.ndarray'>\n",
      "[1 0 3 2]\n"
     ]
    }
   ],
   "source": [
    "o_array = np.array([3,1,9,5])\n",
    "sort_indices=np.argsort(o_array)\n",
    "print(type(sort_indices))\n",
    "print(sort_indices)"
   ]
  },
  {
   "cell_type": "code",
   "execution_count": 98,
   "metadata": {},
   "outputs": [
    {
     "name": "stdout",
     "output_type": "stream",
     "text": [
      "[1 0 2 3]\n",
      "['mi' 'Jo' 'de' 'ft']\n"
     ]
    }
   ],
   "source": [
    "name_array = np.array(['Jo',\"mi\",\"de\",\"ft\"])\n",
    "score_array = np.array([85,70,90,100])\n",
    "sort_indices = np.argsort(score_array)\n",
    "print(sort_indices)\n",
    "print(name_array[sort_indices])"
   ]
  },
  {
   "cell_type": "code",
   "execution_count": 103,
   "metadata": {},
   "outputs": [
    {
     "name": "stdout",
     "output_type": "stream",
     "text": [
      "[[ 58  64]\n",
      " [139 154]]\n"
     ]
    }
   ],
   "source": [
    "#선형대수 연산\n",
    "A = np.array([[1,2,3],\n",
    "             [4,5,6]])\n",
    "B = np.array([[7,8],\n",
    "             [9,10],\n",
    "             [11,12]])\n",
    "dot=np.dot(A,B)\n",
    "print(dot)"
   ]
  },
  {
   "cell_type": "code",
   "execution_count": 104,
   "metadata": {},
   "outputs": [
    {
     "name": "stdout",
     "output_type": "stream",
     "text": [
      "[[1 3]\n",
      " [2 4]]\n"
     ]
    }
   ],
   "source": [
    "A = np.array([[1,2],\n",
    "             [3,4]])\n",
    "tran=np.transpose(A)\n",
    "print(tran)"
   ]
  }
 ],
 "metadata": {
  "kernelspec": {
   "display_name": "Python 3",
   "language": "python",
   "name": "python3"
  },
  "language_info": {
   "codemirror_mode": {
    "name": "ipython",
    "version": 3
   },
   "file_extension": ".py",
   "mimetype": "text/x-python",
   "name": "python",
   "nbconvert_exporter": "python",
   "pygments_lexer": "ipython3",
   "version": "3.8.5"
  }
 },
 "nbformat": 4,
 "nbformat_minor": 4
}
