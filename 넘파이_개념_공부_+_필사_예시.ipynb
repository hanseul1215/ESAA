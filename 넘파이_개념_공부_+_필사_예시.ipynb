{
  "cells": [
    {
      "cell_type": "markdown",
      "metadata": {
        "id": "view-in-github",
        "colab_type": "text"
      },
      "source": [
        "<a href=\"https://colab.research.google.com/github/hanseul1215/ESAA_study/blob/master/%EB%84%98%ED%8C%8C%EC%9D%B4_%EA%B0%9C%EB%85%90_%EA%B3%B5%EB%B6%80_%2B_%ED%95%84%EC%82%AC_%EC%98%88%EC%8B%9C.ipynb\" target=\"_parent\"><img src=\"https://colab.research.google.com/assets/colab-badge.svg\" alt=\"Open In Colab\"/></a>"
      ]
    },
    {
      "cell_type": "markdown",
      "source": [
        "# **Numpy** \n",
        "\n",
        "*   빠른 배열 기반의 연산을 가능하게 하고, 데이터 핸들링을 가능하게 하는 패키지\n",
        "\n",
        "---\n",
        "\n",
        "\n",
        "# **넘파이 ndarray**\n",
        "\n",
        "*   np.array()를 사용해 변환 -> 인자로 주로 리스트 객체 사용\n",
        "*   shape 변수로 행, 열, 차원 확인\n",
        "*   그 연산의 특성상 같은 데이터 타입만 가능 (dtype으로 확인/ astype()으로 변환)\n",
        "---\n",
        "1) arange,zeros,ones()  \n",
        "\n",
        "*   ndarray를 쉽게 생성\n",
        "*   arange() : array를 range()로 표현\n",
        " \n",
        "2) reshape() \n",
        "* ndarray를 특정 차원 및 크기로 변환\n",
        "* reshape(-1,1) : 2차원, 여러개의 행, 1개 열 \n",
        "    \n",
        "3) indexing : ndarray내 특정 데이터 선택\n",
        "\n",
        "* 단일 값 추출 : axis=0 (행), axis=1 (열)\n",
        "* 슬라이싱 :  ':'를 이용해 연속한 값을 반환\n",
        "* 팬시인덱싱 : 입력된 인덱스 값을 반환\n",
        "* 불린인덱싱 : 특정 조건에 해당하는 인덱스 값을 반환\n",
        "    \n",
        "4) 행렬의 정렬\n",
        "* np.sort() : 원 행렬 유지, 정렬된 행렬 반환\n",
        "* ndarray.sort() : 원 행렬을 정렬한 형태로 반환\n",
        "* argsort(): 정렬된 행렬의 인덱스를 반환\n",
        "* 내림차순 정렬 : [::-1]\n",
        "\n",
        "5) 선행대수 연산 - 행렬 내적, 전치 행렬\n",
        "* 행렬 내적 : np.dot() (왼쪽 행렬 열 개수 = 오른쪽 행렬 행 개수)\n",
        "* 전치 행렬 : transpose()"
      ],
      "metadata": {
        "id": "3qtE4AQbqRlH"
      }
    },
    {
      "cell_type": "code",
      "execution_count": null,
      "metadata": {
        "id": "yakvmqLxpAja"
      },
      "outputs": [],
      "source": [
        "import numpy as np"
      ]
    },
    {
      "cell_type": "code",
      "execution_count": null,
      "metadata": {
        "id": "hze97VWKpAjm",
        "outputId": "690445a4-08fa-4d93-9065-8c46e390a894"
      },
      "outputs": [
        {
          "name": "stdout",
          "output_type": "stream",
          "text": [
            "<class 'numpy.ndarray'> (3,)\n",
            "<class 'numpy.ndarray'> (2, 3)\n",
            "<class 'numpy.ndarray'> (1, 3)\n"
          ]
        }
      ],
      "source": [
        "array1 = np.array([1,2,3])\n",
        "print(type(array1), array1.shape)\n",
        "\n",
        "array2 = np.array([[1,2,3],\n",
        "                  [3,4,5]])\n",
        "print(type(array2), array2.shape)\n",
        "\n",
        "array3 = np.array([[1,2,3]])\n",
        "print(type(array3), array3.shape)"
      ]
    },
    {
      "cell_type": "code",
      "execution_count": null,
      "metadata": {
        "id": "CN8X1eAWpAjp",
        "outputId": "aadf39ad-3252-4471-e0bb-79aa478417d2"
      },
      "outputs": [
        {
          "name": "stdout",
          "output_type": "stream",
          "text": [
            "1:1 , 2:2, 3:2\n"
          ]
        }
      ],
      "source": [
        "print(\"1:%d , 2:%d, 3:%d\" %(array1.ndim, array2.ndim, array3.ndim))"
      ]
    },
    {
      "cell_type": "code",
      "execution_count": null,
      "metadata": {
        "id": "4lIv0mrGpAjq",
        "outputId": "dd76209c-1f71-44fc-dd22-979fd7e07be8"
      },
      "outputs": [
        {
          "name": "stdout",
          "output_type": "stream",
          "text": [
            "<class 'list'>\n",
            "<class 'numpy.ndarray'>\n",
            "int32\n"
          ]
        }
      ],
      "source": [
        "list1 = [1,2,3]\n",
        "array1 = np.array(list1)\n",
        "print(type(array1))\n",
        "print(array1.dtype)"
      ]
    },
    {
      "cell_type": "code",
      "execution_count": null,
      "metadata": {
        "id": "McE4ZyJlpAjr",
        "outputId": "a7ec18a5-dd07-46a3-c518-a5b71e6f0578"
      },
      "outputs": [
        {
          "name": "stdout",
          "output_type": "stream",
          "text": [
            "['1' '2' 'test'] <U11\n",
            "[1. 2. 3.] float64\n"
          ]
        }
      ],
      "source": [
        "# 데이터 크기가 더 큰 타입으로 형 변환\n",
        "list2 = [1,2,\"test\"]\n",
        "array2=np.array(list2)\n",
        "print(array2,array2.dtype)\n",
        "\n",
        "list3 = [1,2,3.0]\n",
        "array3=np.array(list3)\n",
        "print(array3,array3.dtype)"
      ]
    },
    {
      "cell_type": "code",
      "execution_count": null,
      "metadata": {
        "id": "nXm52_ZqpAjs",
        "outputId": "8bf25fb4-9c48-4208-864a-e5a663e86d3e"
      },
      "outputs": [
        {
          "name": "stdout",
          "output_type": "stream",
          "text": [
            "[1. 2. 3.] float64\n",
            "[1 2 3] int32\n"
          ]
        }
      ],
      "source": [
        "float=array1.astype('float64')\n",
        "print(float,float.dtype)\n",
        "int=array3.astype('int32')\n",
        "print(int,int.dtype)"
      ]
    },
    {
      "cell_type": "code",
      "execution_count": null,
      "metadata": {
        "id": "5QVGGv9RpAjt",
        "outputId": "348a90ed-5f55-4d95-b56b-5d4e559b0763"
      },
      "outputs": [
        {
          "name": "stdout",
          "output_type": "stream",
          "text": [
            "[0 1 2 3 4 5 6 7 8 9] int32 (10,)\n",
            "[[0 0]\n",
            " [0 0]\n",
            " [0 0]] int32 (3, 2)\n",
            "[[1. 1.]\n",
            " [1. 1.]\n",
            " [1. 1.]] float64 (3, 2)\n"
          ]
        }
      ],
      "source": [
        "se_array = np.arange(10)\n",
        "print(se_array,se_array.dtype, se_array.shape)\n",
        "\n",
        "ze_array = np.zeros((3,2), dtype='int32')\n",
        "print(ze_array,ze_array.dtype, ze_array.shape)\n",
        "on_array = np. ones((3,2))\n",
        "print(on_array,on_array.dtype, on_array.shape)"
      ]
    },
    {
      "cell_type": "code",
      "execution_count": null,
      "metadata": {
        "id": "W7XydB8MpAju",
        "outputId": "0ad2cc12-801a-499b-dc64-7e372a8da066"
      },
      "outputs": [
        {
          "name": "stdout",
          "output_type": "stream",
          "text": [
            "[0 1 2 3 4 5 6 7 8 9]\n",
            "[[0 1 2 3 4]\n",
            " [5 6 7 8 9]]\n",
            "[[0 1]\n",
            " [2 3]\n",
            " [4 5]\n",
            " [6 7]\n",
            " [8 9]]\n"
          ]
        }
      ],
      "source": [
        "#reshape\n",
        "array1 = np.arange(10)\n",
        "array2 = array1.reshape(2,5)\n",
        "array3 = array1.reshape(5,2)\n",
        "print(array1)\n",
        "print(array2)\n",
        "print(array3)"
      ]
    },
    {
      "cell_type": "code",
      "execution_count": null,
      "metadata": {
        "id": "WvlgW3jUpAjv",
        "outputId": "97f39799-3892-42d2-80a2-57cf55ce9900"
      },
      "outputs": [
        {
          "name": "stdout",
          "output_type": "stream",
          "text": [
            "[[[0, 1], [2, 3]], [[4, 5], [6, 7]]] (2, 2, 2)\n",
            "[[0], [1], [2], [3], [4], [5], [6], [7]] (8, 1)\n",
            "[[0], [1], [2], [3], [4], [5], [6], [7]] (8, 1)\n"
          ]
        }
      ],
      "source": [
        "array1= np.arange(8)\n",
        "array3d = array1.reshape((2,2,2))\n",
        "print(array3d.tolist(), array3d.shape)\n",
        "# 3->2\n",
        "array5 = array3d.reshape(-1,1)\n",
        "print(array5.tolist(), array5.shape)\n",
        "# 1->2 \n",
        "array6 = array1.reshape(-1,1)\n",
        "print(array6.tolist(), array6.shape)\n"
      ]
    },
    {
      "cell_type": "code",
      "execution_count": null,
      "metadata": {
        "id": "kLWwiIiIpAjw",
        "outputId": "32210646-aa0d-4091-fb9e-97e95c67546d"
      },
      "outputs": [
        {
          "name": "stdout",
          "output_type": "stream",
          "text": [
            "3 <class 'numpy.int32'>\n"
          ]
        },
        {
          "data": {
            "text/plain": [
              "array([9, 2, 3, 4, 5, 6, 7, 8, 0])"
            ]
          },
          "execution_count": 59,
          "metadata": {},
          "output_type": "execute_result"
        }
      ],
      "source": [
        "# 인덱싱\n",
        "## 단일값 추출\n",
        "array1 = np.arange(1,10)\n",
        "value = array1[2]\n",
        "print(value, type(value))\n",
        "array1[0] = 9\n",
        "array1[8] = 0\n",
        "array1"
      ]
    },
    {
      "cell_type": "code",
      "execution_count": null,
      "metadata": {
        "id": "0Cv68j0_pAjx",
        "outputId": "57e67275-5204-478c-9bd2-7df654469ec0"
      },
      "outputs": [
        {
          "name": "stdout",
          "output_type": "stream",
          "text": [
            "[[1 2 3]\n",
            " [4 5 6]\n",
            " [7 8 9]] 6\n"
          ]
        }
      ],
      "source": [
        "array1d = np.arange(1,10)\n",
        "array2d = array1d.reshape(3,3)\n",
        "print(array2d, array2d[1,2]) # axis=0 행 , axis=1 열 "
      ]
    },
    {
      "cell_type": "code",
      "execution_count": null,
      "metadata": {
        "id": "2ZLqRVDOpAjx",
        "outputId": "29b1c164-3737-4765-acaa-ca321a8239a9"
      },
      "outputs": [
        {
          "name": "stdout",
          "output_type": "stream",
          "text": [
            "[1 2 3] <class 'numpy.ndarray'>\n",
            "2\n"
          ]
        }
      ],
      "source": [
        "#슬라이싱\n",
        "import numpy as np\n",
        "array1 = np.arange(1,10)\n",
        "array3 = array1[0:3]\n",
        "print(array3, type(array3))\n",
        "print(array3[1])"
      ]
    },
    {
      "cell_type": "code",
      "execution_count": null,
      "metadata": {
        "id": "nonOpwjtpAjy",
        "outputId": "166861eb-d991-41d1-bc14-c234c212c1ef"
      },
      "outputs": [
        {
          "data": {
            "text/plain": [
              "array([[2, 3],\n",
              "       [5, 6]])"
            ]
          },
          "execution_count": 70,
          "metadata": {},
          "output_type": "execute_result"
        }
      ],
      "source": [
        "array2d[:2,1:]"
      ]
    },
    {
      "cell_type": "code",
      "execution_count": null,
      "metadata": {
        "id": "EuEAFG3-pAjz",
        "outputId": "9821fdeb-d72e-48aa-9cd7-e474b99fb7b4"
      },
      "outputs": [
        {
          "name": "stdout",
          "output_type": "stream",
          "text": [
            "[[1 2 3]\n",
            " [4 5 6]\n",
            " [7 8 9]]\n",
            "[3 6]\n"
          ]
        }
      ],
      "source": [
        "#팬시 인덱싱\n",
        "array1d = np.arange(1,10)\n",
        "array2d = array1d.reshape(3,3)\n",
        "print(array2d)\n",
        "\n",
        "array3 = array2d[[0,1],2]\n",
        "print(array3)"
      ]
    },
    {
      "cell_type": "code",
      "execution_count": null,
      "metadata": {
        "id": "Fg6ofwVVpAjz",
        "outputId": "5b3e9a1e-278d-4106-cfa2-5c393f7f9c85"
      },
      "outputs": [
        {
          "name": "stdout",
          "output_type": "stream",
          "text": [
            "[6 7 8 9]\n",
            "[6 7 8 9]\n"
          ]
        }
      ],
      "source": [
        "#불린 인덱싱\n",
        "array3 = array1d[array1d >5]\n",
        "print(array3)\n",
        "bool = np. array([False, False, False, False, False,  True,  True,  True,  True])\n",
        "array4 = array1d[bool]\n",
        "print(array4)"
      ]
    },
    {
      "cell_type": "code",
      "execution_count": null,
      "metadata": {
        "id": "_ihKvm1dpAj1",
        "outputId": "637dd8cb-fdf9-4a15-f594-17e7c4a99c31"
      },
      "outputs": [
        {
          "name": "stdout",
          "output_type": "stream",
          "text": [
            "[1 3 5 9]\n",
            "[3 1 9 5]\n",
            "[9 5 3 1]\n"
          ]
        }
      ],
      "source": [
        "#정렬\n",
        "o_array = np.array([3,1,9,5])\n",
        "sort1=np.sort(o_array)\n",
        "print(sort1)\n",
        "print(o_array)\n",
        "print(np.sort(o_array)[::-1])"
      ]
    },
    {
      "cell_type": "code",
      "execution_count": null,
      "metadata": {
        "id": "RwVpFAP1pAj2",
        "outputId": "01be08ca-8e06-481a-adde-bc812e4b59b7"
      },
      "outputs": [
        {
          "name": "stdout",
          "output_type": "stream",
          "text": [
            "None\n",
            "[1 3 5 9]\n"
          ]
        }
      ],
      "source": [
        "sort2=o_array.sort()\n",
        "print(sort2)\n",
        "print(o_array)\n"
      ]
    },
    {
      "cell_type": "code",
      "execution_count": null,
      "metadata": {
        "id": "MhVtOQfkpAj3",
        "outputId": "67a32716-8624-4ee0-d73b-878279666ca8"
      },
      "outputs": [
        {
          "name": "stdout",
          "output_type": "stream",
          "text": [
            "<class 'numpy.ndarray'>\n",
            "[1 0 3 2]\n"
          ]
        }
      ],
      "source": [
        "o_array = np.array([3,1,9,5])\n",
        "sort_indices=np.argsort(o_array)\n",
        "print(type(sort_indices))\n",
        "print(sort_indices)"
      ]
    },
    {
      "cell_type": "code",
      "execution_count": null,
      "metadata": {
        "id": "53PTYCRNpAj4",
        "outputId": "2d65e9fb-e76b-4dd2-d26e-2728568bc036"
      },
      "outputs": [
        {
          "name": "stdout",
          "output_type": "stream",
          "text": [
            "[1 0 2 3]\n",
            "['mi' 'Jo' 'de' 'ft']\n"
          ]
        }
      ],
      "source": [
        "name_array = np.array(['Jo',\"mi\",\"de\",\"ft\"])\n",
        "score_array = np.array([85,70,90,100])\n",
        "sort_indices = np.argsort(score_array)\n",
        "print(sort_indices)\n",
        "print(name_array[sort_indices])"
      ]
    },
    {
      "cell_type": "code",
      "execution_count": null,
      "metadata": {
        "id": "EWnh5URCpAj5",
        "outputId": "fc110e87-3b78-4d53-e4e7-502f2e539d61"
      },
      "outputs": [
        {
          "name": "stdout",
          "output_type": "stream",
          "text": [
            "[[ 58  64]\n",
            " [139 154]]\n"
          ]
        }
      ],
      "source": [
        "#선형대수 연산\n",
        "A = np.array([[1,2,3],\n",
        "             [4,5,6]])\n",
        "B = np.array([[7,8],\n",
        "             [9,10],\n",
        "             [11,12]])\n",
        "dot=np.dot(A,B)\n",
        "print(dot)"
      ]
    },
    {
      "cell_type": "code",
      "execution_count": null,
      "metadata": {
        "id": "aAu6IBZQpAj6",
        "outputId": "a11c91b5-6e5d-4836-d170-6680045e2aa0"
      },
      "outputs": [
        {
          "name": "stdout",
          "output_type": "stream",
          "text": [
            "[[1 3]\n",
            " [2 4]]\n"
          ]
        }
      ],
      "source": [
        "A = np.array([[1,2],\n",
        "             [3,4]])\n",
        "tran=np.transpose(A)\n",
        "print(tran)"
      ]
    }
  ],
  "metadata": {
    "kernelspec": {
      "display_name": "Python 3",
      "language": "python",
      "name": "python3"
    },
    "language_info": {
      "codemirror_mode": {
        "name": "ipython",
        "version": 3
      },
      "file_extension": ".py",
      "mimetype": "text/x-python",
      "name": "python",
      "nbconvert_exporter": "python",
      "pygments_lexer": "ipython3",
      "version": "3.8.5"
    },
    "colab": {
      "name": "넘파이 개념 공부 + 필사 예시.ipynb",
      "provenance": [],
      "include_colab_link": true
    }
  },
  "nbformat": 4,
  "nbformat_minor": 0
}