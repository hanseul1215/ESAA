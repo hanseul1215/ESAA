{
  "nbformat": 4,
  "nbformat_minor": 0,
  "metadata": {
    "colab": {
      "name": "0516_recommend.ipynb",
      "provenance": [],
      "authorship_tag": "ABX9TyN2GVL9n+52gArpxPgI6DyQ",
      "include_colab_link": true
    },
    "kernelspec": {
      "name": "python3",
      "display_name": "Python 3"
    },
    "language_info": {
      "name": "python"
    }
  },
  "cells": [
    {
      "cell_type": "markdown",
      "metadata": {
        "id": "view-in-github",
        "colab_type": "text"
      },
      "source": [
        "<a href=\"https://colab.research.google.com/github/hanseul1215/ESAA_study/blob/master/0516_recommend.ipynb\" target=\"_parent\"><img src=\"https://colab.research.google.com/assets/colab-badge.svg\" alt=\"Open In Colab\"/></a>"
      ]
    },
    {
      "cell_type": "markdown",
      "source": [
        "#1 추천시스템의 개요와 배경\n",
        "사용자가 무엇을 원하는지 빠르게 찾아내 사용자의 선택 부담을 해결함  \n",
        "\n",
        "추천 시스템을 구성하는데 사용하는 데이터\n",
        "- 사용자가 어떤 상품을 구매했는가?\n",
        "- 사용자가 어떤 제품을 Browse 했는가?\n",
        "- 사용자가 무엇을 클릭했는가?\n",
        "- 사용자의 제품 평점은?\n",
        "\n",
        "추천 시스템의 유형\n",
        "- 콘텐츠 기반 필터링\n",
        "- 협업 필터링\n",
        "> - 최근접 이웃 협업 필터링\n",
        "> - 잠재요인 협업 필터링\n"
      ],
      "metadata": {
        "id": "eWQZKQ_rwRqu"
      }
    },
    {
      "cell_type": "markdown",
      "source": [
        "# 2 콘텐츠 기반 필터링 추천 시스템\n",
        "사용자가 특정한 아이템을 매우 선호하는 경우, 그 아이템과 비슷한 콘텐츠를 가진 다른 아이템을 추천하는 방식  \n",
        "ex) 영화 -> 장르, 출연 배우, 감독, 영화 키워드 등의 콘텐츠가 유사한 다른 영화 추천"
      ],
      "metadata": {
        "id": "qloVAoCOyt0Q"
      }
    },
    {
      "cell_type": "markdown",
      "source": [
        "# 3 최근접 이웃 협업 필터링\n",
        "사용자가 아이템에 매긴 평점 정보나 상품 구매 이력과 같은 사용자 행동 양식만을 기반으로 추천을 수행하는 것이 협업 필터링 방식\n",
        "- 목표: 사용자-아이템 평점 매트릭스와 같은 축적된 사용자 행동 데이터를 기반으로 사용자가 아직 평가하지 않은 아이템을 예측 평가하는 것\n",
        "- 사용자-아이템 평점 행렬 데이터에만 의지해 추천을 수행\n",
        "> - 행은 개별 사용자, 열은 개별 아이템으로 구성\n",
        "> - 다차원 희소행렬\n",
        "- 사용자 기반 필터링, 아이템 기반 필터링으로 나뉨\n",
        "- 코사인 유사도 -> 추천 시스템의 유사도 측정에 많이 적용"
      ],
      "metadata": {
        "id": "EiPQGWN7_tmo"
      }
    },
    {
      "cell_type": "markdown",
      "source": [
        "# 4 잠재 요인 협업 필터링\n",
        "사용자-아이템 평점 매트릭스 속에 숨어 있는 잠재 요인을 추출해 추천 예측을 할 수 이께 하는 기법\n",
        "- 대규모 다차원 행렬을 SVD와 같은 차원 감소 기법으로 분해하는 과정에서 잠재 요인을 추출(행렬 분해)\n",
        "- 목표: 잠재요인을 기반으로 분해된 행렬의 내적을 통해 새로운 예측 사용자-아이템 평점 행렬 데이터를 만들어서 사용자가 아직 평점을 부여하지 않는 아이템에 대한 예측 평점을 생성함  \n",
        "\n",
        "**행렬 분해**\n",
        "- SVD, NMF가 있음\n",
        "- M (사용자 행) * N (아이템 행) ---행렬 분해---> P행렬(M * K), Q.T행렬(K*M) (K: 잠재요인 차원 수)  \n",
        "\n",
        "**확률적 경사하강법을 이용한 행렬 분해**  \n",
        "P와 Q 행렬로 계산된 예측 R 행렬 값이 실제 R 행렬 값과 가장 최소의 오류를 가지도록 반복적인 비용 함수 최적화를 통해 P와 Q를 유추하는 것\n",
        "1. P와 Q를 임의의 값을 가진 행렬로 설정\n",
        "2. P와 Q.T 값을 곱해 예측 R 행렬 계산하고 예측 R 행렬과 실제 R 행렬에 해당하는 오류 값 계산\n",
        "3. 이 오류를 최소화하는 P와 Q로 업데이트\n",
        "4. 2, 3 반복하여 P,Q 값을 업데이트"
      ],
      "metadata": {
        "id": "1cVG2nypBRFC"
      }
    },
    {
      "cell_type": "code",
      "execution_count": 1,
      "metadata": {
        "id": "cZdgZVM_jNsX"
      },
      "outputs": [],
      "source": [
        "import numpy as np\n",
        "\n",
        "#원본 행렬 R 생성, 분해 행렬 P, Q 초기화, 잠재 요인 차원 K = 3\n",
        "R = np.array([[4, np.NaN, np.NaN, 2, np.NaN,],\n",
        "              [np.NaN, 5, np.NaN, 3, 1],\n",
        "              [np.NaN, np.NaN, 3, 4, 4],\n",
        "              [5, 2, 1, 1, np.NaN]])\n",
        "\n",
        "num_users, num_items = R.shape\n",
        "K = 3\n",
        "\n",
        "np.random.seed(1)\n",
        "P = np.random.normal(scale=1./K, size=(num_users, K))\n",
        "Q = np.random.normal(scale=1./K, size=(num_items, K))"
      ]
    },
    {
      "cell_type": "code",
      "source": [
        "from sklearn.metrics import mean_squared_error\n",
        "\n",
        "def get_rmse(R, P, Q, non_zeros):\n",
        "    error = 0\n",
        "    full_pred_matrix = np.dot(P, Q.T)\n",
        "\n",
        "    #실제 R에서 널이 아닌 값의 위치 인덱스 추출해 실제 R 행렬과 예측 행렬의 RMSE 추출\n",
        "    x_non_zero_ind = [non_zero[0] for non_zero in non_zeros]\n",
        "    y_non_zero_ind = [non_zero[1] for non_zero in non_zeros]\n",
        "    R_non_zeros = R[x_non_zero_ind, y_non_zero_ind]\n",
        "    full_pred_matrix_non_zeros = full_pred_matrix[x_non_zero_ind, y_non_zero_ind]\n",
        "    mse = mean_squared_error(R_non_zeros, full_pred_matrix_non_zeros)\n",
        "    rmse = np.sqrt(mse)\n",
        "\n",
        "    return rmse"
      ],
      "metadata": {
        "id": "TPDmDPqez1tK"
      },
      "execution_count": 2,
      "outputs": []
    },
    {
      "cell_type": "code",
      "source": [
        "non_zeros = [(i, j, R[i, j]) for i in range(num_users) for j in range(num_items) if R[i, j] > 0]\n",
        "\n",
        "steps = 1000\n",
        "learning_rate = 0.01\n",
        "r_lambda = 0.01\n",
        "# SGD -> P, Q 계속 업데이트\n",
        "for step in range(steps):\n",
        "    for i, j, r in non_zeros:\n",
        "        eij = r- np.dot(P[i, :], Q[j, :].T)\n",
        "\n",
        "        P[i, :] = P[i, :] + learning_rate*(eij * Q[j, :] - r_lambda*P[i, :])\n",
        "        Q[j, :] = Q[j, :] + learning_rate*(eij * P[i, :] - r_lambda*Q[j, :])\n",
        "\n",
        "    rmse = get_rmse(R, P, Q, non_zeros)\n",
        "    if (step % 50) == 0:\n",
        "        print(\"### iteration step: \", step,\" rmse: \", rmse)"
      ],
      "metadata": {
        "colab": {
          "base_uri": "https://localhost:8080/"
        },
        "id": "uk6MUZXhz3zH",
        "outputId": "04110559-5fb9-4fa4-c4e8-fac11982d5d1"
      },
      "execution_count": 3,
      "outputs": [
        {
          "output_type": "stream",
          "name": "stdout",
          "text": [
            "### iteration step:  0  rmse:  3.2011202085938044\n",
            "### iteration step:  50  rmse:  0.6154267829430629\n",
            "### iteration step:  100  rmse:  0.2536345481699502\n",
            "### iteration step:  150  rmse:  0.12492903462065194\n",
            "### iteration step:  200  rmse:  0.06275532232130014\n",
            "### iteration step:  250  rmse:  0.03506384672845852\n",
            "### iteration step:  300  rmse:  0.02389785844276385\n",
            "### iteration step:  350  rmse:  0.019716500751376057\n",
            "### iteration step:  400  rmse:  0.018154210025261398\n",
            "### iteration step:  450  rmse:  0.017522410099519235\n",
            "### iteration step:  500  rmse:  0.017227673409515896\n",
            "### iteration step:  550  rmse:  0.01706152015024207\n",
            "### iteration step:  600  rmse:  0.016947590721601208\n",
            "### iteration step:  650  rmse:  0.016856507138095295\n",
            "### iteration step:  700  rmse:  0.016776412354044923\n",
            "### iteration step:  750  rmse:  0.016702292684141938\n",
            "### iteration step:  800  rmse:  0.016631926279262455\n",
            "### iteration step:  850  rmse:  0.01656427805855475\n",
            "### iteration step:  900  rmse:  0.016498837097487822\n",
            "### iteration step:  950  rmse:  0.016435332154373334\n"
          ]
        }
      ]
    },
    {
      "cell_type": "code",
      "source": [
        "pred_matrix = np.dot(P, Q.T)\n",
        "print('예측 행렬: \\n', np.round(pred_matrix, 3))"
      ],
      "metadata": {
        "colab": {
          "base_uri": "https://localhost:8080/"
        },
        "id": "gEpiQZl1z6Ny",
        "outputId": "6cae86cd-a991-4820-b8f3-8955b11e2f61"
      },
      "execution_count": 4,
      "outputs": [
        {
          "output_type": "stream",
          "name": "stdout",
          "text": [
            "예측 행렬: \n",
            " [[3.991 1.    1.525 1.999 1.664]\n",
            " [7.926 4.978 1.8   2.98  1.003]\n",
            " [5.46  0.163 2.989 3.98  3.985]\n",
            " [4.969 2.007 0.999 1.023 0.365]]\n"
          ]
        }
      ]
    }
  ]
}